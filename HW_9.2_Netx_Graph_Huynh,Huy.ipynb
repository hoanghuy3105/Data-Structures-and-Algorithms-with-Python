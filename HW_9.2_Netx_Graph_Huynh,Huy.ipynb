{
 "cells": [
  {
   "cell_type": "markdown",
   "metadata": {},
   "source": [
    "# Graphs and Trees"
   ]
  },
  {
   "cell_type": "markdown",
   "metadata": {},
   "source": [
    "<pre>_____________________________________________________________________________________________________</pre>"
   ]
  },
  {
   "cell_type": "markdown",
   "metadata": {},
   "source": [
    "# CS2311-Algorithms and Data Structures With Python\n",
    "## Homework 9\n",
    "## Due Date: See Blackboard"
   ]
  },
  {
   "cell_type": "markdown",
   "metadata": {},
   "source": [
    "## Student Name: Huy Huynh"
   ]
  },
  {
   "cell_type": "markdown",
   "metadata": {},
   "source": [
    "**Submission guidelines**\n",
    "\n",
    "• Submit your Jupyter Notebook file on BlackBoard.  Please provide any supporting data input/output files in the zip folder.  Include images output in the zip file and embed in the notebook file.  I should be able to run and replicate the run of the code you submitted.\n",
    "\n",
    "<pre>\n",
    "HW#.zip    -> HW3.zip\n",
    "</pre>\n",
    "\n",
    "**Grading Criteria:**\n",
    "<pre>\n",
    "•\tGood documentation/comments and program readability\n",
    "•\tAlgorithm/pseudo-code is explained and efficient.  Use functions as appropriate to simplify and improve readability.\n",
    "•\tProgram runs correctly for test cases with no syntax errors or logical errors\n",
    "</pre>"
   ]
  },
  {
   "cell_type": "markdown",
   "metadata": {},
   "source": [
    "<pre>_____________________________________________________________________________________________________</pre>"
   ]
  },
  {
   "cell_type": "markdown",
   "metadata": {},
   "source": [
    "# Topic:  Graphs - 75 Points "
   ]
  },
  {
   "cell_type": "markdown",
   "metadata": {},
   "source": [
    "## 1.\t[75 points] Analysis of CS2311 Fall 19 student contact network \n",
    "We are interested in seeing if we can draw any insights on the CS2311 nearest neighbor (level 1) contact network for the past semester.  "
   ]
  },
  {
   "cell_type": "markdown",
   "metadata": {},
   "source": [
    "## (25 Points Extra Credit for applying this analysis to the CS2311 Spring 2020 student data & answering the questions)"
   ]
  },
  {
   "cell_type": "markdown",
   "metadata": {},
   "source": [
    "<pre>_____________________________________________________________________________________________________</pre>"
   ]
  },
  {
   "cell_type": "markdown",
   "metadata": {},
   "source": [
    "<a id='TOC'></a>\n",
    "# Table of Contents\n",
    "\n",
    "<br>[1. Setup](#Setup)\n",
    "<br>[2. Load student network data from excel](#LoadData)\n",
    "<br>....[2.1 Get edge data from excel tab](#LoadEdgeData)\n",
    "<br>....[2.2 Get node data from excel tab](#LoadNodeData)\n",
    "<br>[3. Set up networkx graph](#SetUpGraph)\n",
    "<br>....[3.1 Node inspection](#NodeInspection)\n",
    "<br>....[3.2 Edge inspection](#EdgeInspection)\n",
    "<br>[4. Centrality Measures](#Centrality)\n",
    "<br>....[4.1 Degree](#Degree)\n",
    "<br>....[4.2 Betweenness centrality](#Betweenness)\n",
    "<br>....[4.3 Closeness centrality](#Closeness)\n",
    "<br>....[4.4 Degree centrality](#DegreeCentrality)\n",
    "<br>....[4.5 Clustering centrality](#Clustering)\n",
    "<br>[5. Degree distribution](#DegreeDistribution)\n",
    "<br>[6. Shortest path between two nodes](#ShortestPath)\n",
    "<br>[7. Finding neighbors of a node](#Neighbors)\n",
    "<br>[8. Visualizing the graph](#Visualizing)\n",
    "<br>....[8.1 Spring layout](#SpringLayout)\n",
    "<br>....[8.2 Circular layout](#CircularLayout)\n",
    "<br>....[8.3 Circos plot](#CircosLayout)\n",
    "<br>[9. Creating a sub-graph](#Subgraph)\n",
    "<br>\n",
    "<br>**[10. Extra-credit and questions](#ExtraCredit)**\n"
   ]
  },
  {
   "cell_type": "markdown",
   "metadata": {},
   "source": [
    "<pre>_____________________________________________________________________________________________________</pre>"
   ]
  },
  {
   "cell_type": "markdown",
   "metadata": {},
   "source": [
    "## **Our to do list: Fill-in the missing portions of code and match the output shown**\n",
    "\n",
    "_Importing Data:_\n",
    "\n",
    "- **Task 1**: Get information for nodes and edges from correct tab in excel file\n",
    "- **Task 2**: Do exploratory analysis on node data & wrangle data as needed\n",
    "- **Task 3**: Do exploratory analysis on edge data & wrangle data as needed\n",
    "\n",
    "<br>\n",
    "\n",
    "_Set up networkx graph:_\n",
    "\n",
    "- **Task 4**: Need to take node dataframe and create datastructure for nodes neeeded by networkx \n",
    "- **Task 5**: Need to take edge dataframe and create datastructure for edges neeeded by networkx \n",
    "\n",
    "<br>\n",
    "\n",
    "_Examine graph nodes and edges:_\n",
    "\n",
    "- **Task 6**: Inspect graph structure and inspect selected nodes and edges\n",
    "\n",
    "<br>\n",
    "\n",
    "_Perform graph analytics:_\n",
    "\n",
    "- **Task 7**: Calculate centrality measures and summarize into node dataframe\n",
    "- **Task 8**: Plot the graph centrality disribution \n",
    "\n",
    "<br>\n",
    "\n",
    "_Visualize the graph, customize the look of the graph_\n",
    "- **Task 9**: Plot graph using spring, circular and circos format\n",
    "- **Task 10**: Customize graph to label nodes, change color of nodes based on criteria\n",
    "\n",
    "<br>\n",
    "\n",
    "_Misc: Find nearest neighbors, shortest path, create subraph of nodes_\n",
    "- **Task 11**: Use misc methods and functions for graph analysis"
   ]
  },
  {
   "cell_type": "markdown",
   "metadata": {},
   "source": [
    "<pre>_____________________________________________________________________________________________________</pre>"
   ]
  },
  {
   "cell_type": "markdown",
   "metadata": {},
   "source": [
    "<a id='Setup'></a>\n",
    "# 1. Import and setup\n",
    "[TOC](#TOC)"
   ]
  },
  {
   "cell_type": "code",
   "execution_count": 1,
   "metadata": {},
   "outputs": [],
   "source": [
    "import pandas as pd\n",
    "import numpy as np\n",
    "import matplotlib.pyplot as plt\n",
    "import seaborn as sns\n",
    "import networkx as nx                 # <--- these are new packages\n",
    "from nxviz import CircosPlot          # <--- This package let's us do a special type of plot"
   ]
  },
  {
   "cell_type": "code",
   "execution_count": 2,
   "metadata": {
    "scrolled": true
   },
   "outputs": [
    {
     "data": {
      "text/html": [
       "<style>div.output_scroll { height: 44em; }</style>"
      ],
      "text/plain": [
       "<IPython.core.display.HTML object>"
      ]
     },
     "metadata": {},
     "output_type": "display_data"
    }
   ],
   "source": [
    "# display() does a pretty print of dataframes so they look like they do in jupyter \n",
    "from IPython.core.display import display, HTML\n",
    "# Modify the height of your scolling output window in Jupyter notebook\n",
    "display(HTML(\"<style>div.output_scroll { height: 44em; }</style>\"))"
   ]
  },
  {
   "cell_type": "markdown",
   "metadata": {},
   "source": [
    "<a id='LoadData'></a>\n",
    "# 2. Load student network edge data from excel\n",
    "[TOC](#TOC)"
   ]
  },
  {
   "cell_type": "markdown",
   "metadata": {},
   "source": [
    "### Methods to use:\n",
    "* ExcelFile()"
   ]
  },
  {
   "cell_type": "code",
   "execution_count": 3,
   "metadata": {},
   "outputs": [],
   "source": [
    "# read from excel\n",
    "xlsx = pd.ExcelFile('CS2311_F19_Data.xlsx')"
   ]
  },
  {
   "cell_type": "code",
   "execution_count": 4,
   "metadata": {
    "scrolled": false
   },
   "outputs": [
    {
     "data": {
      "text/plain": [
       "pandas.io.excel._base.ExcelFile"
      ]
     },
     "execution_count": 4,
     "metadata": {},
     "output_type": "execute_result"
    }
   ],
   "source": [
    "type(xlsx)    #  Excel object which contains our excel sheets and data within sheet"
   ]
  },
  {
   "cell_type": "markdown",
   "metadata": {},
   "source": [
    "## **Diagnosing data cleaning problems using simple `pandas` and visualizations** "
   ]
  },
  {
   "cell_type": "markdown",
   "metadata": {},
   "source": [
    "Some important and common methods needed to get a better understanding of DataFrames and diagnose potential data problems are the following: \n",
    "\n",
    "- `.head()` prints the header of a DataFrame\n",
    "- `.dtypes` prints datatypes of all columns in a DataFrame\n",
    "- `.info()` provides a bird's eye view of column data types and missing values in a DataFrame\n",
    "- `.describe()` returns a distribution of numeric columns in your DataFrame\n",
    "- `.isna().sum()` allows us to break down the number of missing values per column in our DataFrame\n",
    "- `.unique()` finds the number of unique values in a DataFrame column\n",
    "- `.duplicates()` finds the number of duplicate values in a DataFrame column\n",
    "\n",
    "<br>\n",
    "\n",
    "- `sns.displot()` plots the distribution of one column in your DataFrame."
   ]
  },
  {
   "cell_type": "markdown",
   "metadata": {},
   "source": [
    "<a id='LoadEdgeData'></a>\n",
    "# 2.1 Get edge data from excel tab\n",
    "[TOC](#TOC)"
   ]
  },
  {
   "cell_type": "markdown",
   "metadata": {},
   "source": [
    "### Methods/functions to learn to use:\n",
    "* `read_excel()`  - select the sheet with name \"Edge_List\" in your excel file\n",
    "* `tuple()`\n",
    "* `.head()`,`.tail()`,`.dtypes()`,`.info()`,`.describe()`,`.isna().sum()`,`.unique()`,`.duplicates()`,`.drop_duplicates()`\n",
    "* `sns.distplot()`"
   ]
  },
  {
   "cell_type": "code",
   "execution_count": 5,
   "metadata": {},
   "outputs": [],
   "source": [
    "# ----------------fill in missing code\n",
    "# get the edge data from the edge list tab\n",
    "edge_df = pd.read_excel(xlsx, sheet_name = \"Edge_List\")"
   ]
  },
  {
   "cell_type": "code",
   "execution_count": 6,
   "metadata": {},
   "outputs": [
    {
     "data": {
      "text/html": [
       "<div>\n",
       "<style scoped>\n",
       "    .dataframe tbody tr th:only-of-type {\n",
       "        vertical-align: middle;\n",
       "    }\n",
       "\n",
       "    .dataframe tbody tr th {\n",
       "        vertical-align: top;\n",
       "    }\n",
       "\n",
       "    .dataframe thead th {\n",
       "        text-align: right;\n",
       "    }\n",
       "</style>\n",
       "<table border=\"1\" class=\"dataframe\">\n",
       "  <thead>\n",
       "    <tr style=\"text-align: right;\">\n",
       "      <th></th>\n",
       "      <th>N_1_Index</th>\n",
       "      <th>N_2_Index</th>\n",
       "      <th>Frequency_(1-5)</th>\n",
       "    </tr>\n",
       "  </thead>\n",
       "  <tbody>\n",
       "    <tr>\n",
       "      <td>0</td>\n",
       "      <td>1</td>\n",
       "      <td>10</td>\n",
       "      <td>1.2</td>\n",
       "    </tr>\n",
       "    <tr>\n",
       "      <td>1</td>\n",
       "      <td>1</td>\n",
       "      <td>6</td>\n",
       "      <td>0.8</td>\n",
       "    </tr>\n",
       "    <tr>\n",
       "      <td>2</td>\n",
       "      <td>1</td>\n",
       "      <td>16</td>\n",
       "      <td>0.8</td>\n",
       "    </tr>\n",
       "    <tr>\n",
       "      <td>3</td>\n",
       "      <td>1</td>\n",
       "      <td>18</td>\n",
       "      <td>1.6</td>\n",
       "    </tr>\n",
       "    <tr>\n",
       "      <td>4</td>\n",
       "      <td>1</td>\n",
       "      <td>12</td>\n",
       "      <td>0.4</td>\n",
       "    </tr>\n",
       "  </tbody>\n",
       "</table>\n",
       "</div>"
      ],
      "text/plain": [
       "   N_1_Index  N_2_Index  Frequency_(1-5)\n",
       "0          1         10              1.2\n",
       "1          1          6              0.8\n",
       "2          1         16              0.8\n",
       "3          1         18              1.6\n",
       "4          1         12              0.4"
      ]
     },
     "execution_count": 6,
     "metadata": {},
     "output_type": "execute_result"
    }
   ],
   "source": [
    "# inspect the dataframe\n",
    "edge_df.head()"
   ]
  },
  {
   "cell_type": "code",
   "execution_count": 7,
   "metadata": {},
   "outputs": [
    {
     "data": {
      "text/plain": [
       "N_1_Index            int64\n",
       "N_2_Index            int64\n",
       "Frequency_(1-5)    float64\n",
       "dtype: object"
      ]
     },
     "execution_count": 7,
     "metadata": {},
     "output_type": "execute_result"
    }
   ],
   "source": [
    "# check that data types are ones you want to work with\n",
    "edge_df.dtypes"
   ]
  },
  {
   "cell_type": "code",
   "execution_count": 8,
   "metadata": {},
   "outputs": [
    {
     "name": "stdout",
     "output_type": "stream",
     "text": [
      "<class 'pandas.core.frame.DataFrame'>\n",
      "RangeIndex: 84 entries, 0 to 83\n",
      "Data columns (total 3 columns):\n",
      "N_1_Index          84 non-null int64\n",
      "N_2_Index          84 non-null int64\n",
      "Frequency_(1-5)    84 non-null float64\n",
      "dtypes: float64(1), int64(2)\n",
      "memory usage: 2.1 KB\n"
     ]
    }
   ],
   "source": [
    "# quick way to check for missing values - do all columns have same number of entries?\n",
    "edge_df.info()"
   ]
  },
  {
   "cell_type": "code",
   "execution_count": 9,
   "metadata": {},
   "outputs": [
    {
     "data": {
      "text/plain": [
       "N_1_Index          0\n",
       "N_2_Index          0\n",
       "Frequency_(1-5)    0\n",
       "dtype: int64"
      ]
     },
     "execution_count": 9,
     "metadata": {},
     "output_type": "execute_result"
    }
   ],
   "source": [
    "# check for missing data\n",
    "edge_df.isna().sum()"
   ]
  },
  {
   "cell_type": "markdown",
   "metadata": {},
   "source": [
    "**Note:** There are a variety of ways of dealing with missing data that is dependent on type of missingness, as well as the business assumptions behind our data - our options could be:\n",
    "\n",
    "- Dropping missing data (if the data dropped does not impact or skew our data)\n",
    "- Setting to missing and impute with statistical measures (median, mean, mode ...)\n",
    "- Imputing with more complex algorithmic/machine learning based approaches\n",
    "- Impute based on business assumptions of our data\n",
    "\n",
    "In our case here there are no missing values."
   ]
  },
  {
   "cell_type": "code",
   "execution_count": 10,
   "metadata": {
    "scrolled": false
   },
   "outputs": [
    {
     "data": {
      "text/html": [
       "<div>\n",
       "<style scoped>\n",
       "    .dataframe tbody tr th:only-of-type {\n",
       "        vertical-align: middle;\n",
       "    }\n",
       "\n",
       "    .dataframe tbody tr th {\n",
       "        vertical-align: top;\n",
       "    }\n",
       "\n",
       "    .dataframe thead th {\n",
       "        text-align: right;\n",
       "    }\n",
       "</style>\n",
       "<table border=\"1\" class=\"dataframe\">\n",
       "  <thead>\n",
       "    <tr style=\"text-align: right;\">\n",
       "      <th></th>\n",
       "      <th>N_1_Index</th>\n",
       "      <th>N_2_Index</th>\n",
       "      <th>Frequency_(1-5)</th>\n",
       "    </tr>\n",
       "  </thead>\n",
       "  <tbody>\n",
       "    <tr>\n",
       "      <td>count</td>\n",
       "      <td>84.000000</td>\n",
       "      <td>84.000000</td>\n",
       "      <td>84.000000</td>\n",
       "    </tr>\n",
       "    <tr>\n",
       "      <td>mean</td>\n",
       "      <td>8.940476</td>\n",
       "      <td>19.857143</td>\n",
       "      <td>1.357143</td>\n",
       "    </tr>\n",
       "    <tr>\n",
       "      <td>std</td>\n",
       "      <td>4.815515</td>\n",
       "      <td>13.216586</td>\n",
       "      <td>0.541369</td>\n",
       "    </tr>\n",
       "    <tr>\n",
       "      <td>min</td>\n",
       "      <td>1.000000</td>\n",
       "      <td>1.000000</td>\n",
       "      <td>0.400000</td>\n",
       "    </tr>\n",
       "    <tr>\n",
       "      <td>25%</td>\n",
       "      <td>4.000000</td>\n",
       "      <td>9.750000</td>\n",
       "      <td>0.800000</td>\n",
       "    </tr>\n",
       "    <tr>\n",
       "      <td>50%</td>\n",
       "      <td>9.500000</td>\n",
       "      <td>17.500000</td>\n",
       "      <td>1.200000</td>\n",
       "    </tr>\n",
       "    <tr>\n",
       "      <td>75%</td>\n",
       "      <td>13.000000</td>\n",
       "      <td>30.000000</td>\n",
       "      <td>2.000000</td>\n",
       "    </tr>\n",
       "    <tr>\n",
       "      <td>max</td>\n",
       "      <td>16.000000</td>\n",
       "      <td>49.000000</td>\n",
       "      <td>2.000000</td>\n",
       "    </tr>\n",
       "  </tbody>\n",
       "</table>\n",
       "</div>"
      ],
      "text/plain": [
       "       N_1_Index  N_2_Index  Frequency_(1-5)\n",
       "count  84.000000  84.000000        84.000000\n",
       "mean    8.940476  19.857143         1.357143\n",
       "std     4.815515  13.216586         0.541369\n",
       "min     1.000000   1.000000         0.400000\n",
       "25%     4.000000   9.750000         0.800000\n",
       "50%     9.500000  17.500000         1.200000\n",
       "75%    13.000000  30.000000         2.000000\n",
       "max    16.000000  49.000000         2.000000"
      ]
     },
     "execution_count": 10,
     "metadata": {},
     "output_type": "execute_result"
    }
   ],
   "source": [
    "# quick summary look at your data\n",
    "edge_df.describe()"
   ]
  },
  {
   "cell_type": "code",
   "execution_count": 11,
   "metadata": {
    "scrolled": true
   },
   "outputs": [
    {
     "data": {
      "text/plain": [
       "<matplotlib.axes._subplots.AxesSubplot at 0x1a18176110>"
      ]
     },
     "execution_count": 11,
     "metadata": {},
     "output_type": "execute_result"
    },
    {
     "data": {
      "image/png": "[encoded data removed]",
      "text/plain": [
       "<Figure size 432x288 with 3 Axes>"
      ]
     },
     "metadata": {
      "needs_background": "light"
     },
     "output_type": "display_data"
    }
   ],
   "source": [
    "# Visualize the distribution of the columns - set up a subplot grid 1x3 for this\n",
    "fig,ax = plt.subplots(1,3)\n",
    "plt.subplots_adjust(wspace=1, hspace=1)\n",
    "sns.distplot(edge_df[\"Frequency_(1-5)\"],ax=ax[0],bins=10)\n",
    "sns.distplot(edge_df[\"N_1_Index\"],ax=ax[1],bins=10)\n",
    "sns.distplot(edge_df[\"N_2_Index\"],ax=ax[2],bins=10)"
   ]
  },
  {
   "cell_type": "markdown",
   "metadata": {},
   "source": [
    "Now set up a list of edge tuples that we can import later into the networkx package by iterating through the length of the dataframe and putting into a list."
   ]
  },
  {
   "cell_type": "code",
   "execution_count": 12,
   "metadata": {},
   "outputs": [
    {
     "data": {
      "text/plain": [
       "array([ 1,  2,  3,  4,  7,  8,  9, 10, 11, 12, 13, 14, 15, 16])"
      ]
     },
     "metadata": {},
     "output_type": "display_data"
    },
    {
     "data": {
      "text/plain": [
       "array([ 1,  2,  3,  4,  5,  6,  8,  9, 10, 11, 12, 14, 15, 16, 17, 18, 19,\n",
       "       20, 21, 22, 23, 24, 25, 26, 27, 28, 29, 30, 31, 32, 33, 34, 35, 36,\n",
       "       37, 38, 39, 40, 41, 42, 43, 44, 45, 46, 47, 48, 49])"
      ]
     },
     "metadata": {},
     "output_type": "display_data"
    }
   ],
   "source": [
    "# Find number of unique values in N_1_Index and N_2_Index. Using display() here to do the pretty print of the output.\n",
    "# Methods to use:  .unique(), .sort_values()\n",
    "display(edge_df.N_1_Index.unique())\n",
    "display(edge_df.N_2_Index.sort_values().unique())"
   ]
  },
  {
   "cell_type": "code",
   "execution_count": 13,
   "metadata": {},
   "outputs": [],
   "source": [
    "# need to check that edges have consistent weight i.e. A to B at 5 is same as B to A at 5. Students may have\n",
    "# weighted the reciprocal relationship differently.  If so set weight to the average\n",
    "# set up a new column with the node pairs in order as a string. We will search for duplicates on this\n",
    "e1 = edge_df.N_1_Index"
   ]
  },
  {
   "cell_type": "code",
   "execution_count": 14,
   "metadata": {},
   "outputs": [],
   "source": [
    "e2 = edge_df.N_2_Index"
   ]
  },
  {
   "cell_type": "code",
   "execution_count": 15,
   "metadata": {},
   "outputs": [],
   "source": [
    "# function to build a string of node pairs in low to high order e.g. 3 to 5 ---> '35' and 5 to 3 ---> '35' also. This\n",
    "# will help us to identify the duplicate pairs\n",
    "def f(e1,e2):\n",
    "    pairs = []\n",
    "    for i in range(len(e1)):\n",
    "        #print(str(e1),str(e2))\n",
    "        if e1[i] < e2[i]:\n",
    "            s = (format(e1[i],\"2d\") + format(e2[i],\"2d\"))\n",
    "        else:\n",
    "            s = (format(e2[i],\"2d\") + format(e1[i],\"2d\"))\n",
    "        pairs.append(s)\n",
    "    return pairs"
   ]
  },
  {
   "cell_type": "code",
   "execution_count": 16,
   "metadata": {
    "scrolled": true
   },
   "outputs": [],
   "source": [
    "l = f(e1,e2)"
   ]
  },
  {
   "cell_type": "code",
   "execution_count": 18,
   "metadata": {
    "scrolled": true
   },
   "outputs": [
    {
     "data": {
      "text/html": [
       "<div>\n",
       "<style scoped>\n",
       "    .dataframe tbody tr th:only-of-type {\n",
       "        vertical-align: middle;\n",
       "    }\n",
       "\n",
       "    .dataframe tbody tr th {\n",
       "        vertical-align: top;\n",
       "    }\n",
       "\n",
       "    .dataframe thead th {\n",
       "        text-align: right;\n",
       "    }\n",
       "</style>\n",
       "<table border=\"1\" class=\"dataframe\">\n",
       "  <thead>\n",
       "    <tr style=\"text-align: right;\">\n",
       "      <th></th>\n",
       "      <th>N_1_Index</th>\n",
       "      <th>N_2_Index</th>\n",
       "      <th>Frequency_(1-5)</th>\n",
       "      <th>pairs</th>\n",
       "    </tr>\n",
       "  </thead>\n",
       "  <tbody>\n",
       "    <tr>\n",
       "      <td>0</td>\n",
       "      <td>1</td>\n",
       "      <td>10</td>\n",
       "      <td>1.2</td>\n",
       "      <td>110</td>\n",
       "    </tr>\n",
       "    <tr>\n",
       "      <td>1</td>\n",
       "      <td>1</td>\n",
       "      <td>6</td>\n",
       "      <td>0.8</td>\n",
       "      <td>1 6</td>\n",
       "    </tr>\n",
       "    <tr>\n",
       "      <td>2</td>\n",
       "      <td>1</td>\n",
       "      <td>16</td>\n",
       "      <td>0.8</td>\n",
       "      <td>116</td>\n",
       "    </tr>\n",
       "    <tr>\n",
       "      <td>3</td>\n",
       "      <td>1</td>\n",
       "      <td>18</td>\n",
       "      <td>1.6</td>\n",
       "      <td>118</td>\n",
       "    </tr>\n",
       "    <tr>\n",
       "      <td>4</td>\n",
       "      <td>1</td>\n",
       "      <td>12</td>\n",
       "      <td>0.4</td>\n",
       "      <td>112</td>\n",
       "    </tr>\n",
       "  </tbody>\n",
       "</table>\n",
       "</div>"
      ],
      "text/plain": [
       "   N_1_Index  N_2_Index  Frequency_(1-5) pairs\n",
       "0          1         10              1.2   110\n",
       "1          1          6              0.8   1 6\n",
       "2          1         16              0.8   116\n",
       "3          1         18              1.6   118\n",
       "4          1         12              0.4   112"
      ]
     },
     "execution_count": 18,
     "metadata": {},
     "output_type": "execute_result"
    }
   ],
   "source": [
    "# now create a column \"pairs with these labels\".  Convert l into a Series.\n",
    "edge_df[\"pairs\"]=pd.Series(l)\n",
    "edge_df.head()"
   ]
  },
  {
   "cell_type": "code",
   "execution_count": 19,
   "metadata": {
    "scrolled": true
   },
   "outputs": [
    {
     "data": {
      "text/plain": [
       "array([ True, False, False, False, False, False,  True, False, False,\n",
       "       False, False, False, False, False, False, False,  True, False,\n",
       "       False, False, False, False, False, False, False, False, False,\n",
       "       False, False, False, False, False, False, False, False, False,\n",
       "       False,  True, False, False, False,  True, False, False, False,\n",
       "       False,  True, False,  True,  True, False, False, False, False,\n",
       "       False,  True, False, False, False,  True, False, False, False,\n",
       "       False, False, False,  True, False, False, False, False, False,\n",
       "       False, False,  True, False, False, False, False, False, False,\n",
       "       False, False, False])"
      ]
     },
     "execution_count": 19,
     "metadata": {},
     "output_type": "execute_result"
    }
   ],
   "source": [
    "# identify the duplicates using .duplicated - show all duplicates - notice that there are indeed a few duplicates.\n",
    "# show the values for the dataframe\n",
    "dups = edge_df.pairs.duplicated(keep=False)\n",
    "dups.values"
   ]
  },
  {
   "cell_type": "markdown",
   "metadata": {},
   "source": [
    "### Methods/functions to learn to use:\n",
    "* `.groupby()`, `.apply()`, `.to_dict()`, `.map()`, `.fillna()`, `.drop_duplicates()`, `.drop()`\n",
    "* Don't forget that you can `chain` methods one after the other"
   ]
  },
  {
   "cell_type": "code",
   "execution_count": 20,
   "metadata": {},
   "outputs": [
    {
     "data": {
      "text/plain": [
       "{' 110': 1.2, ' 2 9': 2.0, ' 314': 1.4, ' 912': 2.0, '1112': 2.0, '1115': 1.6}"
      ]
     },
     "execution_count": 20,
     "metadata": {},
     "output_type": "execute_result"
    }
   ],
   "source": [
    "# Now use the .groupby() method on \"pairs\" for the \"Frequency_(1-5)\" columnabs and use .apply(np.mean)\n",
    "# convert the series using the .to_dict() method and save to a dictionary fmap\n",
    "fmap = edge_df[dups.values].groupby(\"pairs\")[\"Frequency_(1-5)\"].apply(np.mean).to_dict()\n",
    "fmap"
   ]
  },
  {
   "cell_type": "code",
   "execution_count": 21,
   "metadata": {},
   "outputs": [],
   "source": [
    "# create a new column \"temp\" that will map the value in \"pairs\" to value in fmap. All other values in temp where therabse\n",
    "# is no map will be set to NaN\n",
    "edge_df[\"temp\"]=edge_df[\"pairs\"].map(fmap)"
   ]
  },
  {
   "cell_type": "code",
   "execution_count": 22,
   "metadata": {},
   "outputs": [],
   "source": [
    "# fill then NaN values with the values in the \"Frequency_(1-5) column\". Use inplace=True to permanently change values\n",
    "edge_df.temp.fillna(edge_df[\"Frequency_(1-5)\"],inplace=True)"
   ]
  },
  {
   "cell_type": "code",
   "execution_count": 23,
   "metadata": {},
   "outputs": [
    {
     "data": {
      "text/html": [
       "<div>\n",
       "<style scoped>\n",
       "    .dataframe tbody tr th:only-of-type {\n",
       "        vertical-align: middle;\n",
       "    }\n",
       "\n",
       "    .dataframe tbody tr th {\n",
       "        vertical-align: top;\n",
       "    }\n",
       "\n",
       "    .dataframe thead th {\n",
       "        text-align: right;\n",
       "    }\n",
       "</style>\n",
       "<table border=\"1\" class=\"dataframe\">\n",
       "  <thead>\n",
       "    <tr style=\"text-align: right;\">\n",
       "      <th></th>\n",
       "      <th>N_1_Index</th>\n",
       "      <th>N_2_Index</th>\n",
       "      <th>Frequency_(1-5)</th>\n",
       "      <th>pairs</th>\n",
       "      <th>temp</th>\n",
       "    </tr>\n",
       "  </thead>\n",
       "  <tbody>\n",
       "    <tr>\n",
       "      <td>0</td>\n",
       "      <td>1</td>\n",
       "      <td>10</td>\n",
       "      <td>1.2</td>\n",
       "      <td>110</td>\n",
       "      <td>1.2</td>\n",
       "    </tr>\n",
       "    <tr>\n",
       "      <td>1</td>\n",
       "      <td>1</td>\n",
       "      <td>6</td>\n",
       "      <td>0.8</td>\n",
       "      <td>1 6</td>\n",
       "      <td>0.8</td>\n",
       "    </tr>\n",
       "    <tr>\n",
       "      <td>2</td>\n",
       "      <td>1</td>\n",
       "      <td>16</td>\n",
       "      <td>0.8</td>\n",
       "      <td>116</td>\n",
       "      <td>0.8</td>\n",
       "    </tr>\n",
       "    <tr>\n",
       "      <td>3</td>\n",
       "      <td>1</td>\n",
       "      <td>18</td>\n",
       "      <td>1.6</td>\n",
       "      <td>118</td>\n",
       "      <td>1.6</td>\n",
       "    </tr>\n",
       "    <tr>\n",
       "      <td>4</td>\n",
       "      <td>1</td>\n",
       "      <td>12</td>\n",
       "      <td>0.4</td>\n",
       "      <td>112</td>\n",
       "      <td>0.4</td>\n",
       "    </tr>\n",
       "  </tbody>\n",
       "</table>\n",
       "</div>"
      ],
      "text/plain": [
       "   N_1_Index  N_2_Index  Frequency_(1-5) pairs  temp\n",
       "0          1         10              1.2   110   1.2\n",
       "1          1          6              0.8   1 6   0.8\n",
       "2          1         16              0.8   116   0.8\n",
       "3          1         18              1.6   118   1.6\n",
       "4          1         12              0.4   112   0.4"
      ]
     },
     "execution_count": 23,
     "metadata": {},
     "output_type": "execute_result"
    }
   ],
   "source": [
    "# inspect - notice that Frequenc_(1-5) and temp now match except for duplicates in temp that have the average value\n",
    "edge_df.head()"
   ]
  },
  {
   "cell_type": "code",
   "execution_count": 24,
   "metadata": {},
   "outputs": [
    {
     "data": {
      "text/html": [
       "<div>\n",
       "<style scoped>\n",
       "    .dataframe tbody tr th:only-of-type {\n",
       "        vertical-align: middle;\n",
       "    }\n",
       "\n",
       "    .dataframe tbody tr th {\n",
       "        vertical-align: top;\n",
       "    }\n",
       "\n",
       "    .dataframe thead th {\n",
       "        text-align: right;\n",
       "    }\n",
       "</style>\n",
       "<table border=\"1\" class=\"dataframe\">\n",
       "  <thead>\n",
       "    <tr style=\"text-align: right;\">\n",
       "      <th></th>\n",
       "      <th>N_1_Index</th>\n",
       "      <th>N_2_Index</th>\n",
       "      <th>Frequency_(1-5)</th>\n",
       "      <th>pairs</th>\n",
       "      <th>temp</th>\n",
       "    </tr>\n",
       "  </thead>\n",
       "  <tbody>\n",
       "    <tr>\n",
       "      <td>66</td>\n",
       "      <td>14</td>\n",
       "      <td>3</td>\n",
       "      <td>1.2</td>\n",
       "      <td>314</td>\n",
       "      <td>1.4</td>\n",
       "    </tr>\n",
       "    <tr>\n",
       "      <td>67</td>\n",
       "      <td>14</td>\n",
       "      <td>4</td>\n",
       "      <td>1.2</td>\n",
       "      <td>414</td>\n",
       "      <td>1.2</td>\n",
       "    </tr>\n",
       "    <tr>\n",
       "      <td>68</td>\n",
       "      <td>14</td>\n",
       "      <td>18</td>\n",
       "      <td>0.8</td>\n",
       "      <td>1418</td>\n",
       "      <td>0.8</td>\n",
       "    </tr>\n",
       "    <tr>\n",
       "      <td>69</td>\n",
       "      <td>14</td>\n",
       "      <td>30</td>\n",
       "      <td>1.6</td>\n",
       "      <td>1430</td>\n",
       "      <td>1.6</td>\n",
       "    </tr>\n",
       "    <tr>\n",
       "      <td>70</td>\n",
       "      <td>14</td>\n",
       "      <td>37</td>\n",
       "      <td>1.6</td>\n",
       "      <td>1437</td>\n",
       "      <td>1.6</td>\n",
       "    </tr>\n",
       "  </tbody>\n",
       "</table>\n",
       "</div>"
      ],
      "text/plain": [
       "    N_1_Index  N_2_Index  Frequency_(1-5) pairs  temp\n",
       "66         14          3              1.2   314   1.4\n",
       "67         14          4              1.2   414   1.2\n",
       "68         14         18              0.8  1418   0.8\n",
       "69         14         30              1.6  1430   1.6\n",
       "70         14         37              1.6  1437   1.6"
      ]
     },
     "execution_count": 24,
     "metadata": {},
     "output_type": "execute_result"
    }
   ],
   "source": [
    "# For example, check one of the duplicates 3 to 14 and 14 to 3. Temp now has the average for these two\n",
    "edge_df[edge_df.N_1_Index==14]"
   ]
  },
  {
   "cell_type": "code",
   "execution_count": 25,
   "metadata": {},
   "outputs": [],
   "source": [
    "# Now assign the \"temp\" colum to \"Frequency_(1-5)\", drop the duplicates in the \"pairs\" column, keeping the first and\n",
    "# use inplace=True to permanetly modify\n",
    "edge_df[\"temp\"]=edge_df[\"Frequency_(1-5)\"]"
   ]
  },
  {
   "cell_type": "code",
   "execution_count": 26,
   "metadata": {},
   "outputs": [],
   "source": [
    "edge_df.drop_duplicates(\"pairs\",keep=\"first\",inplace=True)"
   ]
  },
  {
   "cell_type": "code",
   "execution_count": 27,
   "metadata": {},
   "outputs": [],
   "source": [
    "# Drop the \"pairs\", and \"temp\" columns since they are not needed any more\n",
    "edge_df.drop([\"pairs\",\"temp\"],axis=\"columns\",inplace=True)"
   ]
  },
  {
   "cell_type": "code",
   "execution_count": 28,
   "metadata": {},
   "outputs": [
    {
     "data": {
      "text/html": [
       "<div>\n",
       "<style scoped>\n",
       "    .dataframe tbody tr th:only-of-type {\n",
       "        vertical-align: middle;\n",
       "    }\n",
       "\n",
       "    .dataframe tbody tr th {\n",
       "        vertical-align: top;\n",
       "    }\n",
       "\n",
       "    .dataframe thead th {\n",
       "        text-align: right;\n",
       "    }\n",
       "</style>\n",
       "<table border=\"1\" class=\"dataframe\">\n",
       "  <thead>\n",
       "    <tr style=\"text-align: right;\">\n",
       "      <th></th>\n",
       "      <th>N_1_Index</th>\n",
       "      <th>N_2_Index</th>\n",
       "      <th>Frequency_(1-5)</th>\n",
       "    </tr>\n",
       "  </thead>\n",
       "  <tbody>\n",
       "    <tr>\n",
       "      <td>0</td>\n",
       "      <td>1</td>\n",
       "      <td>10</td>\n",
       "      <td>1.2</td>\n",
       "    </tr>\n",
       "    <tr>\n",
       "      <td>1</td>\n",
       "      <td>1</td>\n",
       "      <td>6</td>\n",
       "      <td>0.8</td>\n",
       "    </tr>\n",
       "    <tr>\n",
       "      <td>2</td>\n",
       "      <td>1</td>\n",
       "      <td>16</td>\n",
       "      <td>0.8</td>\n",
       "    </tr>\n",
       "    <tr>\n",
       "      <td>3</td>\n",
       "      <td>1</td>\n",
       "      <td>18</td>\n",
       "      <td>1.6</td>\n",
       "    </tr>\n",
       "    <tr>\n",
       "      <td>4</td>\n",
       "      <td>1</td>\n",
       "      <td>12</td>\n",
       "      <td>0.4</td>\n",
       "    </tr>\n",
       "    <tr>\n",
       "      <td>...</td>\n",
       "      <td>...</td>\n",
       "      <td>...</td>\n",
       "      <td>...</td>\n",
       "    </tr>\n",
       "    <tr>\n",
       "      <td>79</td>\n",
       "      <td>16</td>\n",
       "      <td>18</td>\n",
       "      <td>2.0</td>\n",
       "    </tr>\n",
       "    <tr>\n",
       "      <td>80</td>\n",
       "      <td>16</td>\n",
       "      <td>19</td>\n",
       "      <td>1.6</td>\n",
       "    </tr>\n",
       "    <tr>\n",
       "      <td>81</td>\n",
       "      <td>16</td>\n",
       "      <td>20</td>\n",
       "      <td>2.0</td>\n",
       "    </tr>\n",
       "    <tr>\n",
       "      <td>82</td>\n",
       "      <td>16</td>\n",
       "      <td>21</td>\n",
       "      <td>2.0</td>\n",
       "    </tr>\n",
       "    <tr>\n",
       "      <td>83</td>\n",
       "      <td>16</td>\n",
       "      <td>22</td>\n",
       "      <td>1.2</td>\n",
       "    </tr>\n",
       "  </tbody>\n",
       "</table>\n",
       "<p>78 rows × 3 columns</p>\n",
       "</div>"
      ],
      "text/plain": [
       "    N_1_Index  N_2_Index  Frequency_(1-5)\n",
       "0           1         10              1.2\n",
       "1           1          6              0.8\n",
       "2           1         16              0.8\n",
       "3           1         18              1.6\n",
       "4           1         12              0.4\n",
       "..        ...        ...              ...\n",
       "79         16         18              2.0\n",
       "80         16         19              1.6\n",
       "81         16         20              2.0\n",
       "82         16         21              2.0\n",
       "83         16         22              1.2\n",
       "\n",
       "[78 rows x 3 columns]"
      ]
     },
     "execution_count": 28,
     "metadata": {},
     "output_type": "execute_result"
    }
   ],
   "source": [
    "# inspect\n",
    "edge_df"
   ]
  },
  {
   "cell_type": "markdown",
   "metadata": {},
   "source": [
    "Now build a list of edge tuples that we will need to give to the networkx package to build the graph"
   ]
  },
  {
   "cell_type": "code",
   "execution_count": 29,
   "metadata": {},
   "outputs": [],
   "source": [
    "# ----------------fill in missing code.  Use tuple() and iloc\n",
    "edge_list = []\n",
    "for i in range(len(edge_df)):\n",
    "    edge_list.append(tuple(edge_df.iloc[i]))"
   ]
  },
  {
   "cell_type": "code",
   "execution_count": 30,
   "metadata": {},
   "outputs": [
    {
     "data": {
      "text/plain": [
       "[(1.0, 10.0, 1.2),\n",
       " (1.0, 6.0, 0.8),\n",
       " (1.0, 16.0, 0.8),\n",
       " (1.0, 18.0, 1.6),\n",
       " (1.0, 12.0, 0.4)]"
      ]
     },
     "execution_count": 30,
     "metadata": {},
     "output_type": "execute_result"
    }
   ],
   "source": [
    "# Inspect output for first 5 entries in edge list dataframe\n",
    "edge_list[0:5]   "
   ]
  },
  {
   "cell_type": "code",
   "execution_count": 31,
   "metadata": {},
   "outputs": [
    {
     "data": {
      "text/plain": [
       "78"
      ]
     },
     "execution_count": 31,
     "metadata": {},
     "output_type": "execute_result"
    }
   ],
   "source": [
    "# how many edges? some of these are dups e.g. 3 to 14 and 14 to 3 are the same relationship.  We have identified these\n",
    "# already above and done the needed wrangling to set the edge weigth to be the average of edges\n",
    "# The networkx graph setup will eliminate the duplicates so we don't have to take this step\n",
    "len(edge_list)"
   ]
  },
  {
   "cell_type": "markdown",
   "metadata": {},
   "source": [
    "<a id='LoadNodeData'></a>\n",
    "# 2.2 Get node data from excel tab\n",
    "[TOC](#TOC)"
   ]
  },
  {
   "cell_type": "markdown",
   "metadata": {},
   "source": [
    "### Methods/functions to learn to use:\n",
    "* `read_excel()`  - select the sheet with name \"Edge_List\" in your excel file\n",
    "* `tuple()`, `.dropna()`\n",
    "* `.head()`,`.tail()`,`.dtypes()`,`.info()`,`.describe()`,`.isna().sum()`,`.unique()`,`.duplicates()`,`.drop_duplicates()`\n",
    "* `sns.distplot()`"
   ]
  },
  {
   "cell_type": "markdown",
   "metadata": {},
   "source": [
    "Now do similar excercise for the nodes of the graph"
   ]
  },
  {
   "cell_type": "code",
   "execution_count": 32,
   "metadata": {},
   "outputs": [],
   "source": [
    "# read node information from the \"Node_list\" sheet\n",
    "node_df = pd.read_excel(xlsx,sheet_name=\"Node_List\")"
   ]
  },
  {
   "cell_type": "code",
   "execution_count": 33,
   "metadata": {},
   "outputs": [
    {
     "data": {
      "text/html": [
       "<div>\n",
       "<style scoped>\n",
       "    .dataframe tbody tr th:only-of-type {\n",
       "        vertical-align: middle;\n",
       "    }\n",
       "\n",
       "    .dataframe tbody tr th {\n",
       "        vertical-align: top;\n",
       "    }\n",
       "\n",
       "    .dataframe thead th {\n",
       "        text-align: right;\n",
       "    }\n",
       "</style>\n",
       "<table border=\"1\" class=\"dataframe\">\n",
       "  <thead>\n",
       "    <tr style=\"text-align: right;\">\n",
       "      <th></th>\n",
       "      <th>Name</th>\n",
       "      <th>Node_ID</th>\n",
       "      <th>Degree</th>\n",
       "      <th>Year</th>\n",
       "      <th>Role</th>\n",
       "      <th>Schol_Acad</th>\n",
       "    </tr>\n",
       "  </thead>\n",
       "  <tbody>\n",
       "    <tr>\n",
       "      <td>0</td>\n",
       "      <td>Echard.M</td>\n",
       "      <td>1.0</td>\n",
       "      <td>DS</td>\n",
       "      <td>SR</td>\n",
       "      <td>Student</td>\n",
       "      <td>0.0</td>\n",
       "    </tr>\n",
       "    <tr>\n",
       "      <td>1</td>\n",
       "      <td>Eze.C</td>\n",
       "      <td>2.0</td>\n",
       "      <td>DS</td>\n",
       "      <td>JR</td>\n",
       "      <td>Student</td>\n",
       "      <td>0.0</td>\n",
       "    </tr>\n",
       "    <tr>\n",
       "      <td>2</td>\n",
       "      <td>Iqbal.Y</td>\n",
       "      <td>3.0</td>\n",
       "      <td>DS</td>\n",
       "      <td>JR</td>\n",
       "      <td>Student</td>\n",
       "      <td>0.0</td>\n",
       "    </tr>\n",
       "    <tr>\n",
       "      <td>3</td>\n",
       "      <td>Islam.I</td>\n",
       "      <td>4.0</td>\n",
       "      <td>DS</td>\n",
       "      <td>PostBac</td>\n",
       "      <td>Student</td>\n",
       "      <td>0.0</td>\n",
       "    </tr>\n",
       "    <tr>\n",
       "      <td>4</td>\n",
       "      <td>Lopez.R</td>\n",
       "      <td>5.0</td>\n",
       "      <td>DS</td>\n",
       "      <td>JR</td>\n",
       "      <td>Student</td>\n",
       "      <td>0.0</td>\n",
       "    </tr>\n",
       "  </tbody>\n",
       "</table>\n",
       "</div>"
      ],
      "text/plain": [
       "       Name  Node_ID Degree     Year     Role  Schol_Acad\n",
       "0  Echard.M      1.0     DS       SR  Student         0.0\n",
       "1     Eze.C      2.0     DS       JR  Student         0.0\n",
       "2   Iqbal.Y      3.0     DS       JR  Student         0.0\n",
       "3   Islam.I      4.0     DS  PostBac  Student         0.0\n",
       "4   Lopez.R      5.0     DS       JR  Student         0.0"
      ]
     },
     "metadata": {},
     "output_type": "display_data"
    },
    {
     "data": {
      "text/html": [
       "<div>\n",
       "<style scoped>\n",
       "    .dataframe tbody tr th:only-of-type {\n",
       "        vertical-align: middle;\n",
       "    }\n",
       "\n",
       "    .dataframe tbody tr th {\n",
       "        vertical-align: top;\n",
       "    }\n",
       "\n",
       "    .dataframe thead th {\n",
       "        text-align: right;\n",
       "    }\n",
       "</style>\n",
       "<table border=\"1\" class=\"dataframe\">\n",
       "  <thead>\n",
       "    <tr style=\"text-align: right;\">\n",
       "      <th></th>\n",
       "      <th>Name</th>\n",
       "      <th>Node_ID</th>\n",
       "      <th>Degree</th>\n",
       "      <th>Year</th>\n",
       "      <th>Role</th>\n",
       "      <th>Schol_Acad</th>\n",
       "    </tr>\n",
       "  </thead>\n",
       "  <tbody>\n",
       "    <tr>\n",
       "      <td>95</td>\n",
       "      <td>NaN</td>\n",
       "      <td>NaN</td>\n",
       "      <td>NaN</td>\n",
       "      <td>NaN</td>\n",
       "      <td>NaN</td>\n",
       "      <td>NaN</td>\n",
       "    </tr>\n",
       "    <tr>\n",
       "      <td>96</td>\n",
       "      <td>NaN</td>\n",
       "      <td>NaN</td>\n",
       "      <td>NaN</td>\n",
       "      <td>NaN</td>\n",
       "      <td>NaN</td>\n",
       "      <td>NaN</td>\n",
       "    </tr>\n",
       "    <tr>\n",
       "      <td>97</td>\n",
       "      <td>NaN</td>\n",
       "      <td>NaN</td>\n",
       "      <td>NaN</td>\n",
       "      <td>NaN</td>\n",
       "      <td>NaN</td>\n",
       "      <td>NaN</td>\n",
       "    </tr>\n",
       "    <tr>\n",
       "      <td>98</td>\n",
       "      <td>NaN</td>\n",
       "      <td>NaN</td>\n",
       "      <td>NaN</td>\n",
       "      <td>NaN</td>\n",
       "      <td>NaN</td>\n",
       "      <td>NaN</td>\n",
       "    </tr>\n",
       "    <tr>\n",
       "      <td>99</td>\n",
       "      <td>NaN</td>\n",
       "      <td>NaN</td>\n",
       "      <td>NaN</td>\n",
       "      <td>NaN</td>\n",
       "      <td>NaN</td>\n",
       "      <td>NaN</td>\n",
       "    </tr>\n",
       "  </tbody>\n",
       "</table>\n",
       "</div>"
      ],
      "text/plain": [
       "   Name  Node_ID Degree Year Role  Schol_Acad\n",
       "95  NaN      NaN    NaN  NaN  NaN         NaN\n",
       "96  NaN      NaN    NaN  NaN  NaN         NaN\n",
       "97  NaN      NaN    NaN  NaN  NaN         NaN\n",
       "98  NaN      NaN    NaN  NaN  NaN         NaN\n",
       "99  NaN      NaN    NaN  NaN  NaN         NaN"
      ]
     },
     "metadata": {},
     "output_type": "display_data"
    }
   ],
   "source": [
    "# inspect\n",
    "display(node_df.head())\n",
    "display(node_df.tail())"
   ]
  },
  {
   "cell_type": "code",
   "execution_count": 34,
   "metadata": {},
   "outputs": [
    {
     "data": {
      "text/plain": [
       "Name           object\n",
       "Node_ID       float64\n",
       "Degree         object\n",
       "Year           object\n",
       "Role           object\n",
       "Schol_Acad    float64\n",
       "dtype: object"
      ]
     },
     "execution_count": 34,
     "metadata": {},
     "output_type": "execute_result"
    }
   ],
   "source": [
    "# show types - notice Node_ID and Schol_Acad are float need to be converted to int\n",
    "node_df.dtypes"
   ]
  },
  {
   "cell_type": "code",
   "execution_count": 35,
   "metadata": {},
   "outputs": [
    {
     "name": "stdout",
     "output_type": "stream",
     "text": [
      "<class 'pandas.core.frame.DataFrame'>\n",
      "RangeIndex: 100 entries, 0 to 99\n",
      "Data columns (total 6 columns):\n",
      "Name          49 non-null object\n",
      "Node_ID       49 non-null float64\n",
      "Degree        49 non-null object\n",
      "Year          49 non-null object\n",
      "Role          49 non-null object\n",
      "Schol_Acad    49 non-null float64\n",
      "dtypes: float64(2), object(4)\n",
      "memory usage: 4.8+ KB\n"
     ]
    }
   ],
   "source": [
    "# examine info - looks like we have a lot of NaN info length one hundred and only 49 rows filled. Probably blank\n",
    "# entries from excel\n",
    "node_df.info()"
   ]
  },
  {
   "cell_type": "code",
   "execution_count": 36,
   "metadata": {},
   "outputs": [
    {
     "data": {
      "text/plain": [
       "Name          51\n",
       "Node_ID       51\n",
       "Degree        51\n",
       "Year          51\n",
       "Role          51\n",
       "Schol_Acad    51\n",
       "dtype: int64"
      ]
     },
     "execution_count": 36,
     "metadata": {},
     "output_type": "execute_result"
    }
   ],
   "source": [
    "# get sum of Nan's\n",
    "node_df.isna().sum()"
   ]
  },
  {
   "cell_type": "code",
   "execution_count": 37,
   "metadata": {
    "scrolled": true
   },
   "outputs": [
    {
     "data": {
      "text/html": [
       "<div>\n",
       "<style scoped>\n",
       "    .dataframe tbody tr th:only-of-type {\n",
       "        vertical-align: middle;\n",
       "    }\n",
       "\n",
       "    .dataframe tbody tr th {\n",
       "        vertical-align: top;\n",
       "    }\n",
       "\n",
       "    .dataframe thead th {\n",
       "        text-align: right;\n",
       "    }\n",
       "</style>\n",
       "<table border=\"1\" class=\"dataframe\">\n",
       "  <thead>\n",
       "    <tr style=\"text-align: right;\">\n",
       "      <th></th>\n",
       "      <th>Name</th>\n",
       "      <th>Node_ID</th>\n",
       "      <th>Degree</th>\n",
       "      <th>Year</th>\n",
       "      <th>Role</th>\n",
       "      <th>Schol_Acad</th>\n",
       "    </tr>\n",
       "  </thead>\n",
       "  <tbody>\n",
       "    <tr>\n",
       "      <td>count</td>\n",
       "      <td>49</td>\n",
       "      <td>49.00000</td>\n",
       "      <td>49</td>\n",
       "      <td>49</td>\n",
       "      <td>49</td>\n",
       "      <td>49.000000</td>\n",
       "    </tr>\n",
       "    <tr>\n",
       "      <td>unique</td>\n",
       "      <td>49</td>\n",
       "      <td>NaN</td>\n",
       "      <td>12</td>\n",
       "      <td>5</td>\n",
       "      <td>3</td>\n",
       "      <td>NaN</td>\n",
       "    </tr>\n",
       "    <tr>\n",
       "      <td>top</td>\n",
       "      <td>Gutierrez.J</td>\n",
       "      <td>NaN</td>\n",
       "      <td>DS</td>\n",
       "      <td>SR</td>\n",
       "      <td>Student</td>\n",
       "      <td>NaN</td>\n",
       "    </tr>\n",
       "    <tr>\n",
       "      <td>freq</td>\n",
       "      <td>1</td>\n",
       "      <td>NaN</td>\n",
       "      <td>26</td>\n",
       "      <td>24</td>\n",
       "      <td>45</td>\n",
       "      <td>NaN</td>\n",
       "    </tr>\n",
       "    <tr>\n",
       "      <td>mean</td>\n",
       "      <td>NaN</td>\n",
       "      <td>25.00000</td>\n",
       "      <td>NaN</td>\n",
       "      <td>NaN</td>\n",
       "      <td>NaN</td>\n",
       "      <td>0.183673</td>\n",
       "    </tr>\n",
       "    <tr>\n",
       "      <td>std</td>\n",
       "      <td>NaN</td>\n",
       "      <td>14.28869</td>\n",
       "      <td>NaN</td>\n",
       "      <td>NaN</td>\n",
       "      <td>NaN</td>\n",
       "      <td>0.391230</td>\n",
       "    </tr>\n",
       "    <tr>\n",
       "      <td>min</td>\n",
       "      <td>NaN</td>\n",
       "      <td>1.00000</td>\n",
       "      <td>NaN</td>\n",
       "      <td>NaN</td>\n",
       "      <td>NaN</td>\n",
       "      <td>0.000000</td>\n",
       "    </tr>\n",
       "    <tr>\n",
       "      <td>25%</td>\n",
       "      <td>NaN</td>\n",
       "      <td>13.00000</td>\n",
       "      <td>NaN</td>\n",
       "      <td>NaN</td>\n",
       "      <td>NaN</td>\n",
       "      <td>0.000000</td>\n",
       "    </tr>\n",
       "    <tr>\n",
       "      <td>50%</td>\n",
       "      <td>NaN</td>\n",
       "      <td>25.00000</td>\n",
       "      <td>NaN</td>\n",
       "      <td>NaN</td>\n",
       "      <td>NaN</td>\n",
       "      <td>0.000000</td>\n",
       "    </tr>\n",
       "    <tr>\n",
       "      <td>75%</td>\n",
       "      <td>NaN</td>\n",
       "      <td>37.00000</td>\n",
       "      <td>NaN</td>\n",
       "      <td>NaN</td>\n",
       "      <td>NaN</td>\n",
       "      <td>0.000000</td>\n",
       "    </tr>\n",
       "    <tr>\n",
       "      <td>max</td>\n",
       "      <td>NaN</td>\n",
       "      <td>49.00000</td>\n",
       "      <td>NaN</td>\n",
       "      <td>NaN</td>\n",
       "      <td>NaN</td>\n",
       "      <td>1.000000</td>\n",
       "    </tr>\n",
       "  </tbody>\n",
       "</table>\n",
       "</div>"
      ],
      "text/plain": [
       "               Name   Node_ID Degree Year     Role  Schol_Acad\n",
       "count            49  49.00000     49   49       49   49.000000\n",
       "unique           49       NaN     12    5        3         NaN\n",
       "top     Gutierrez.J       NaN     DS   SR  Student         NaN\n",
       "freq              1       NaN     26   24       45         NaN\n",
       "mean            NaN  25.00000    NaN  NaN      NaN    0.183673\n",
       "std             NaN  14.28869    NaN  NaN      NaN    0.391230\n",
       "min             NaN   1.00000    NaN  NaN      NaN    0.000000\n",
       "25%             NaN  13.00000    NaN  NaN      NaN    0.000000\n",
       "50%             NaN  25.00000    NaN  NaN      NaN    0.000000\n",
       "75%             NaN  37.00000    NaN  NaN      NaN    0.000000\n",
       "max             NaN  49.00000    NaN  NaN      NaN    1.000000"
      ]
     },
     "execution_count": 37,
     "metadata": {},
     "output_type": "execute_result"
    }
   ],
   "source": [
    "# quick summary look at your data - not very useful in this case (use include=\"all\") to summariz numeric and categorical\n",
    "node_df.describe(include=\"all\")"
   ]
  },
  {
   "cell_type": "markdown",
   "metadata": {},
   "source": [
    "### Methods/functions to learn to use:\n",
    "* `.dropna()`, `.columns`, `.applymap()`, `.set_index()`\n",
    "* `.iloc[]`. `.loc[]` for slicing\n",
    "* `tuple()`, `.to_dict()`"
   ]
  },
  {
   "cell_type": "code",
   "execution_count": 38,
   "metadata": {},
   "outputs": [],
   "source": [
    "# Drop all rows that have any NaN i.e. the 51 blank rows use how=\"any\"\n",
    "node_df = node_df.dropna(how='any')"
   ]
  },
  {
   "cell_type": "code",
   "execution_count": 39,
   "metadata": {},
   "outputs": [
    {
     "data": {
      "text/html": [
       "<div>\n",
       "<style scoped>\n",
       "    .dataframe tbody tr th:only-of-type {\n",
       "        vertical-align: middle;\n",
       "    }\n",
       "\n",
       "    .dataframe tbody tr th {\n",
       "        vertical-align: top;\n",
       "    }\n",
       "\n",
       "    .dataframe thead th {\n",
       "        text-align: right;\n",
       "    }\n",
       "</style>\n",
       "<table border=\"1\" class=\"dataframe\">\n",
       "  <thead>\n",
       "    <tr style=\"text-align: right;\">\n",
       "      <th></th>\n",
       "      <th>Name</th>\n",
       "      <th>Node_ID</th>\n",
       "      <th>Degree</th>\n",
       "      <th>Year</th>\n",
       "      <th>Role</th>\n",
       "      <th>Schol_Acad</th>\n",
       "    </tr>\n",
       "  </thead>\n",
       "  <tbody>\n",
       "    <tr>\n",
       "      <td>0</td>\n",
       "      <td>Echard.M</td>\n",
       "      <td>1.0</td>\n",
       "      <td>DS</td>\n",
       "      <td>SR</td>\n",
       "      <td>Student</td>\n",
       "      <td>0.0</td>\n",
       "    </tr>\n",
       "    <tr>\n",
       "      <td>1</td>\n",
       "      <td>Eze.C</td>\n",
       "      <td>2.0</td>\n",
       "      <td>DS</td>\n",
       "      <td>JR</td>\n",
       "      <td>Student</td>\n",
       "      <td>0.0</td>\n",
       "    </tr>\n",
       "    <tr>\n",
       "      <td>2</td>\n",
       "      <td>Iqbal.Y</td>\n",
       "      <td>3.0</td>\n",
       "      <td>DS</td>\n",
       "      <td>JR</td>\n",
       "      <td>Student</td>\n",
       "      <td>0.0</td>\n",
       "    </tr>\n",
       "    <tr>\n",
       "      <td>3</td>\n",
       "      <td>Islam.I</td>\n",
       "      <td>4.0</td>\n",
       "      <td>DS</td>\n",
       "      <td>PostBac</td>\n",
       "      <td>Student</td>\n",
       "      <td>0.0</td>\n",
       "    </tr>\n",
       "    <tr>\n",
       "      <td>4</td>\n",
       "      <td>Lopez.R</td>\n",
       "      <td>5.0</td>\n",
       "      <td>DS</td>\n",
       "      <td>JR</td>\n",
       "      <td>Student</td>\n",
       "      <td>0.0</td>\n",
       "    </tr>\n",
       "  </tbody>\n",
       "</table>\n",
       "</div>"
      ],
      "text/plain": [
       "       Name  Node_ID Degree     Year     Role  Schol_Acad\n",
       "0  Echard.M      1.0     DS       SR  Student         0.0\n",
       "1     Eze.C      2.0     DS       JR  Student         0.0\n",
       "2   Iqbal.Y      3.0     DS       JR  Student         0.0\n",
       "3   Islam.I      4.0     DS  PostBac  Student         0.0\n",
       "4   Lopez.R      5.0     DS       JR  Student         0.0"
      ]
     },
     "metadata": {},
     "output_type": "display_data"
    },
    {
     "data": {
      "text/html": [
       "<div>\n",
       "<style scoped>\n",
       "    .dataframe tbody tr th:only-of-type {\n",
       "        vertical-align: middle;\n",
       "    }\n",
       "\n",
       "    .dataframe tbody tr th {\n",
       "        vertical-align: top;\n",
       "    }\n",
       "\n",
       "    .dataframe thead th {\n",
       "        text-align: right;\n",
       "    }\n",
       "</style>\n",
       "<table border=\"1\" class=\"dataframe\">\n",
       "  <thead>\n",
       "    <tr style=\"text-align: right;\">\n",
       "      <th></th>\n",
       "      <th>Name</th>\n",
       "      <th>Node_ID</th>\n",
       "      <th>Degree</th>\n",
       "      <th>Year</th>\n",
       "      <th>Role</th>\n",
       "      <th>Schol_Acad</th>\n",
       "    </tr>\n",
       "  </thead>\n",
       "  <tbody>\n",
       "    <tr>\n",
       "      <td>44</td>\n",
       "      <td>Boston.A</td>\n",
       "      <td>45.0</td>\n",
       "      <td>MATH</td>\n",
       "      <td>SR</td>\n",
       "      <td>Student</td>\n",
       "      <td>0.0</td>\n",
       "    </tr>\n",
       "    <tr>\n",
       "      <td>45</td>\n",
       "      <td>Dallas.B</td>\n",
       "      <td>46.0</td>\n",
       "      <td>MATH</td>\n",
       "      <td>JR</td>\n",
       "      <td>Student</td>\n",
       "      <td>0.0</td>\n",
       "    </tr>\n",
       "    <tr>\n",
       "      <td>46</td>\n",
       "      <td>Houston.C</td>\n",
       "      <td>47.0</td>\n",
       "      <td>DS</td>\n",
       "      <td>SR</td>\n",
       "      <td>Student</td>\n",
       "      <td>0.0</td>\n",
       "    </tr>\n",
       "    <tr>\n",
       "      <td>47</td>\n",
       "      <td>Winter.A</td>\n",
       "      <td>48.0</td>\n",
       "      <td>CS</td>\n",
       "      <td>SR</td>\n",
       "      <td>Student</td>\n",
       "      <td>0.0</td>\n",
       "    </tr>\n",
       "    <tr>\n",
       "      <td>48</td>\n",
       "      <td>Summer.F</td>\n",
       "      <td>49.0</td>\n",
       "      <td>CS</td>\n",
       "      <td>SR</td>\n",
       "      <td>Student</td>\n",
       "      <td>0.0</td>\n",
       "    </tr>\n",
       "  </tbody>\n",
       "</table>\n",
       "</div>"
      ],
      "text/plain": [
       "         Name  Node_ID Degree Year     Role  Schol_Acad\n",
       "44   Boston.A     45.0   MATH   SR  Student         0.0\n",
       "45   Dallas.B     46.0   MATH   JR  Student         0.0\n",
       "46  Houston.C     47.0     DS   SR  Student         0.0\n",
       "47   Winter.A     48.0     CS   SR  Student         0.0\n",
       "48   Summer.F     49.0     CS   SR  Student         0.0"
      ]
     },
     "metadata": {},
     "output_type": "display_data"
    }
   ],
   "source": [
    "# inspect\n",
    "display(node_df.head())\n",
    "display(node_df.tail())"
   ]
  },
  {
   "cell_type": "code",
   "execution_count": 40,
   "metadata": {},
   "outputs": [],
   "source": [
    "# Rename the columns to [\"Name\",\"node\",\"Degree\",\"Year\",\"Role\",\"SA\"]\n",
    "node_df.columns= [\"Name\",\"node\",\"Degree\",\"Year\",\"Role\",\"SA\"]"
   ]
  },
  {
   "cell_type": "code",
   "execution_count": 41,
   "metadata": {},
   "outputs": [
    {
     "data": {
      "text/html": [
       "<div>\n",
       "<style scoped>\n",
       "    .dataframe tbody tr th:only-of-type {\n",
       "        vertical-align: middle;\n",
       "    }\n",
       "\n",
       "    .dataframe tbody tr th {\n",
       "        vertical-align: top;\n",
       "    }\n",
       "\n",
       "    .dataframe thead th {\n",
       "        text-align: right;\n",
       "    }\n",
       "</style>\n",
       "<table border=\"1\" class=\"dataframe\">\n",
       "  <thead>\n",
       "    <tr style=\"text-align: right;\">\n",
       "      <th></th>\n",
       "      <th>Name</th>\n",
       "      <th>node</th>\n",
       "      <th>Degree</th>\n",
       "      <th>Year</th>\n",
       "      <th>Role</th>\n",
       "      <th>SA</th>\n",
       "    </tr>\n",
       "  </thead>\n",
       "  <tbody>\n",
       "    <tr>\n",
       "      <td>0</td>\n",
       "      <td>Echard.M</td>\n",
       "      <td>1.0</td>\n",
       "      <td>DS</td>\n",
       "      <td>SR</td>\n",
       "      <td>Student</td>\n",
       "      <td>0.0</td>\n",
       "    </tr>\n",
       "    <tr>\n",
       "      <td>1</td>\n",
       "      <td>Eze.C</td>\n",
       "      <td>2.0</td>\n",
       "      <td>DS</td>\n",
       "      <td>JR</td>\n",
       "      <td>Student</td>\n",
       "      <td>0.0</td>\n",
       "    </tr>\n",
       "    <tr>\n",
       "      <td>2</td>\n",
       "      <td>Iqbal.Y</td>\n",
       "      <td>3.0</td>\n",
       "      <td>DS</td>\n",
       "      <td>JR</td>\n",
       "      <td>Student</td>\n",
       "      <td>0.0</td>\n",
       "    </tr>\n",
       "    <tr>\n",
       "      <td>3</td>\n",
       "      <td>Islam.I</td>\n",
       "      <td>4.0</td>\n",
       "      <td>DS</td>\n",
       "      <td>PostBac</td>\n",
       "      <td>Student</td>\n",
       "      <td>0.0</td>\n",
       "    </tr>\n",
       "    <tr>\n",
       "      <td>4</td>\n",
       "      <td>Lopez.R</td>\n",
       "      <td>5.0</td>\n",
       "      <td>DS</td>\n",
       "      <td>JR</td>\n",
       "      <td>Student</td>\n",
       "      <td>0.0</td>\n",
       "    </tr>\n",
       "  </tbody>\n",
       "</table>\n",
       "</div>"
      ],
      "text/plain": [
       "       Name  node Degree     Year     Role   SA\n",
       "0  Echard.M   1.0     DS       SR  Student  0.0\n",
       "1     Eze.C   2.0     DS       JR  Student  0.0\n",
       "2   Iqbal.Y   3.0     DS       JR  Student  0.0\n",
       "3   Islam.I   4.0     DS  PostBac  Student  0.0\n",
       "4   Lopez.R   5.0     DS       JR  Student  0.0"
      ]
     },
     "execution_count": 41,
     "metadata": {},
     "output_type": "execute_result"
    }
   ],
   "source": [
    "# inspect\n",
    "node_df.head()"
   ]
  },
  {
   "cell_type": "code",
   "execution_count": 42,
   "metadata": {},
   "outputs": [],
   "source": [
    "# \"node\" and \"SA\" column are float need to be integer. use .applymap(np.int64) on the \"node\" and \"SA\" columns\n",
    "# (Use .map for series, .applymap for dataframes)\n",
    "node_df[[\"node\",\"SA\"]] = node_df[[\"node\",\"SA\"]].applymap(np.int64)"
   ]
  },
  {
   "cell_type": "code",
   "execution_count": 43,
   "metadata": {},
   "outputs": [],
   "source": [
    "# now set the node integer column to the dataframe index.  Use the .set_index() method, drop the current index and \n",
    "# set inplace = True to make permanent\n",
    "node_df.set_index(\"node\",drop=True,inplace=True)"
   ]
  },
  {
   "cell_type": "code",
   "execution_count": 44,
   "metadata": {},
   "outputs": [
    {
     "data": {
      "text/html": [
       "<div>\n",
       "<style scoped>\n",
       "    .dataframe tbody tr th:only-of-type {\n",
       "        vertical-align: middle;\n",
       "    }\n",
       "\n",
       "    .dataframe tbody tr th {\n",
       "        vertical-align: top;\n",
       "    }\n",
       "\n",
       "    .dataframe thead th {\n",
       "        text-align: right;\n",
       "    }\n",
       "</style>\n",
       "<table border=\"1\" class=\"dataframe\">\n",
       "  <thead>\n",
       "    <tr style=\"text-align: right;\">\n",
       "      <th></th>\n",
       "      <th>Name</th>\n",
       "      <th>Degree</th>\n",
       "      <th>Year</th>\n",
       "      <th>Role</th>\n",
       "      <th>SA</th>\n",
       "    </tr>\n",
       "    <tr>\n",
       "      <th>node</th>\n",
       "      <th></th>\n",
       "      <th></th>\n",
       "      <th></th>\n",
       "      <th></th>\n",
       "      <th></th>\n",
       "    </tr>\n",
       "  </thead>\n",
       "  <tbody>\n",
       "    <tr>\n",
       "      <td>1</td>\n",
       "      <td>Echard.M</td>\n",
       "      <td>DS</td>\n",
       "      <td>SR</td>\n",
       "      <td>Student</td>\n",
       "      <td>0</td>\n",
       "    </tr>\n",
       "    <tr>\n",
       "      <td>2</td>\n",
       "      <td>Eze.C</td>\n",
       "      <td>DS</td>\n",
       "      <td>JR</td>\n",
       "      <td>Student</td>\n",
       "      <td>0</td>\n",
       "    </tr>\n",
       "    <tr>\n",
       "      <td>3</td>\n",
       "      <td>Iqbal.Y</td>\n",
       "      <td>DS</td>\n",
       "      <td>JR</td>\n",
       "      <td>Student</td>\n",
       "      <td>0</td>\n",
       "    </tr>\n",
       "    <tr>\n",
       "      <td>4</td>\n",
       "      <td>Islam.I</td>\n",
       "      <td>DS</td>\n",
       "      <td>PostBac</td>\n",
       "      <td>Student</td>\n",
       "      <td>0</td>\n",
       "    </tr>\n",
       "    <tr>\n",
       "      <td>5</td>\n",
       "      <td>Lopez.R</td>\n",
       "      <td>DS</td>\n",
       "      <td>JR</td>\n",
       "      <td>Student</td>\n",
       "      <td>0</td>\n",
       "    </tr>\n",
       "  </tbody>\n",
       "</table>\n",
       "</div>"
      ],
      "text/plain": [
       "          Name Degree     Year     Role  SA\n",
       "node                                       \n",
       "1     Echard.M     DS       SR  Student   0\n",
       "2        Eze.C     DS       JR  Student   0\n",
       "3      Iqbal.Y     DS       JR  Student   0\n",
       "4      Islam.I     DS  PostBac  Student   0\n",
       "5      Lopez.R     DS       JR  Student   0"
      ]
     },
     "execution_count": 44,
     "metadata": {},
     "output_type": "execute_result"
    }
   ],
   "source": [
    "# inspect\n",
    "node_df.head()"
   ]
  },
  {
   "cell_type": "code",
   "execution_count": 45,
   "metadata": {},
   "outputs": [
    {
     "name": "stdout",
     "output_type": "stream",
     "text": [
      "<class 'pandas.core.frame.DataFrame'>\n",
      "Int64Index: 49 entries, 1 to 49\n",
      "Data columns (total 5 columns):\n",
      "Name      49 non-null object\n",
      "Degree    49 non-null object\n",
      "Year      49 non-null object\n",
      "Role      49 non-null object\n",
      "SA        49 non-null int64\n",
      "dtypes: int64(1), object(4)\n",
      "memory usage: 2.3+ KB\n"
     ]
    }
   ],
   "source": [
    "# Inspect data types\n",
    "node_df.info()"
   ]
  },
  {
   "cell_type": "code",
   "execution_count": 46,
   "metadata": {},
   "outputs": [
    {
     "data": {
      "text/plain": [
       "Name      Echard.M\n",
       "Degree          DS\n",
       "Year            SR\n",
       "Role       Student\n",
       "SA               0\n",
       "Name: 1, dtype: object"
      ]
     },
     "execution_count": 46,
     "metadata": {},
     "output_type": "execute_result"
    }
   ],
   "source": [
    "# inspect first node - use .iloc\n",
    "node_df.iloc[0]"
   ]
  },
  {
   "cell_type": "code",
   "execution_count": 47,
   "metadata": {},
   "outputs": [
    {
     "data": {
      "text/plain": [
       "{'Name': 'Echard.M', 'Degree': 'DS', 'Year': 'SR', 'Role': 'Student', 'SA': 0}"
      ]
     },
     "execution_count": 47,
     "metadata": {},
     "output_type": "execute_result"
    }
   ],
   "source": [
    "# see if we can convert from df to dictionary - yes\n",
    "node_df.iloc[0,:].to_dict()"
   ]
  },
  {
   "cell_type": "markdown",
   "metadata": {},
   "source": [
    "#### Now take the dataframe information and convert it into a list of (node, node meta-data dictionary) tuples for the networkx graph functions\n",
    "\n",
    "format is:\n",
    "\n",
    "<pre>\n",
    "[(1,{'Name': 'Echard.M','Degree': 'DS','Year': 'SR','Role': 'Student','SA': 0}),\n",
    "(2,{'Name': 'Eze.C', 'Degree': 'DS', 'Year': 'JR', 'Role': 'Student', 'SA': 0}), \n",
    "     ...\n",
    "]\n",
    "\n",
    "node_df.iloc[0,:].to_dict() - will convert dataframe information to dictionary\n",
    "</pre>"
   ]
  },
  {
   "cell_type": "code",
   "execution_count": 48,
   "metadata": {},
   "outputs": [],
   "source": [
    "# set up the node list for graph. Use tuple() and .to_dict()\n",
    "node_list = []\n",
    "for i in range(len(node_df)):\n",
    "    node_list.append(tuple([i+1,node_df.iloc[i,:].to_dict()]))"
   ]
  },
  {
   "cell_type": "code",
   "execution_count": 49,
   "metadata": {
    "scrolled": true
   },
   "outputs": [
    {
     "data": {
      "text/plain": [
       "[(1,\n",
       "  {'Name': 'Echard.M',\n",
       "   'Degree': 'DS',\n",
       "   'Year': 'SR',\n",
       "   'Role': 'Student',\n",
       "   'SA': 0}),\n",
       " (2,\n",
       "  {'Name': 'Eze.C', 'Degree': 'DS', 'Year': 'JR', 'Role': 'Student', 'SA': 0}),\n",
       " (3,\n",
       "  {'Name': 'Iqbal.Y',\n",
       "   'Degree': 'DS',\n",
       "   'Year': 'JR',\n",
       "   'Role': 'Student',\n",
       "   'SA': 0})]"
      ]
     },
     "execution_count": 49,
     "metadata": {},
     "output_type": "execute_result"
    }
   ],
   "source": [
    "# inspect first 3 elements of node list\n",
    "node_list[0:3]"
   ]
  },
  {
   "cell_type": "markdown",
   "metadata": {},
   "source": [
    "<a id='SetUpGraph'></a>\n",
    "# 3. Set up the student networkx graph\n",
    "[TOC](#TOC)"
   ]
  },
  {
   "cell_type": "markdown",
   "metadata": {},
   "source": [
    "### Methods/functions to learn to use:\n",
    "* `nx.Graph()`\n",
    "* `.add_nodes_from()`\n",
    "* `.add_weighted_edges_from()`\n",
    "* `.info()`"
   ]
  },
  {
   "cell_type": "code",
   "execution_count": 50,
   "metadata": {},
   "outputs": [],
   "source": [
    "# Set up empty graph\n",
    "G = nx.Graph()                        # empty graph"
   ]
  },
  {
   "cell_type": "code",
   "execution_count": 51,
   "metadata": {},
   "outputs": [
    {
     "data": {
      "text/plain": [
       "networkx.classes.graph.Graph"
      ]
     },
     "execution_count": 51,
     "metadata": {},
     "output_type": "execute_result"
    }
   ],
   "source": [
    "# what data type are we working with?\n",
    "type(G)"
   ]
  },
  {
   "cell_type": "code",
   "execution_count": 52,
   "metadata": {},
   "outputs": [],
   "source": [
    "# set up the nodes use .add_node_from() method for G\n",
    "G.add_nodes_from(node_list)           # add node list"
   ]
  },
  {
   "cell_type": "code",
   "execution_count": 53,
   "metadata": {},
   "outputs": [],
   "source": [
    "# set up the edges use .add_weighted_edges_from() method for G\n",
    "G.add_weighted_edges_from(edge_list)  # add weighted edges"
   ]
  },
  {
   "cell_type": "code",
   "execution_count": 54,
   "metadata": {
    "scrolled": true
   },
   "outputs": [
    {
     "data": {
      "text/plain": [
       "49"
      ]
     },
     "execution_count": 54,
     "metadata": {},
     "output_type": "execute_result"
    }
   ],
   "source": [
    "# let's start to examine the graph - how many nodes?\n",
    "len(G)"
   ]
  },
  {
   "cell_type": "code",
   "execution_count": 55,
   "metadata": {
    "scrolled": false
   },
   "outputs": [
    {
     "name": "stdout",
     "output_type": "stream",
     "text": [
      "Name: \n",
      "Type: Graph\n",
      "Number of nodes: 49\n",
      "Number of edges: 78\n",
      "Average degree:   3.1837\n"
     ]
    }
   ],
   "source": [
    "# The .info() method summarizes the graph for us\n",
    "print(nx.info(G))"
   ]
  },
  {
   "cell_type": "code",
   "execution_count": 56,
   "metadata": {},
   "outputs": [
    {
     "name": "stdout",
     "output_type": "stream",
     "text": [
      "Node 16 has the following properties:\n",
      "Degree: 10\n",
      "Neighbors: 1.0 11.0 12.0 13.0 17.0 18.0 19.0 20.0 21.0 22.0\n"
     ]
    }
   ],
   "source": [
    "# we can also summarize information on a particular node \n",
    "print(nx.info(G,16))"
   ]
  },
  {
   "cell_type": "markdown",
   "metadata": {},
   "source": [
    "<a id='NodeInspection'></a>\n",
    "# 3.1 Node inspection\n",
    "[TOC](#TOC)"
   ]
  },
  {
   "cell_type": "markdown",
   "metadata": {},
   "source": [
    "### Methods/functions to learn to use:\n",
    "* `.nodes(data=True)` - data=True displays metadata for nodes"
   ]
  },
  {
   "cell_type": "code",
   "execution_count": 57,
   "metadata": {},
   "outputs": [
    {
     "data": {
      "text/plain": [
       "NodeView((1, 2, 3, 4, 5, 6, 7, 8, 9, 10, 11, 12, 13, 14, 15, 16, 17, 18, 19, 20, 21, 22, 23, 24, 25, 26, 27, 28, 29, 30, 31, 32, 33, 34, 35, 36, 37, 38, 39, 40, 41, 42, 43, 44, 45, 46, 47, 48, 49))"
      ]
     },
     "execution_count": 57,
     "metadata": {},
     "output_type": "execute_result"
    }
   ],
   "source": [
    "# get a list of all the nodes\n",
    "G.nodes()"
   ]
  },
  {
   "cell_type": "code",
   "execution_count": 58,
   "metadata": {},
   "outputs": [
    {
     "data": {
      "text/plain": [
       "{'Name': 'Echard.M', 'Degree': 'DS', 'Year': 'SR', 'Role': 'Student', 'SA': 0}"
      ]
     },
     "metadata": {},
     "output_type": "display_data"
    },
    {
     "data": {
      "text/plain": [
       "{'Name': 'Lopez.R', 'Degree': 'DS', 'Year': 'JR', 'Role': 'Student', 'SA': 0}"
      ]
     },
     "metadata": {},
     "output_type": "display_data"
    },
    {
     "data": {
      "text/plain": [
       "{'Name': 'Zafiris.M', 'Degree': 'DS', 'Year': 'JR', 'Role': 'Student', 'SA': 1}"
      ]
     },
     "metadata": {},
     "output_type": "display_data"
    }
   ],
   "source": [
    "# now get the list with all the associated information. Note that the node \"metadata\" is kept in a dictionary for that\n",
    "# node. We can add to the dictionary for each or all nodes.\n",
    "display(G.nodes(data=True)[1])    # inspect 1st node\n",
    "display(G.nodes(data=True)[5])    # inspect 5th\n",
    "display(G.nodes(data=True)[16])   # inspect 16th"
   ]
  },
  {
   "cell_type": "markdown",
   "metadata": {},
   "source": [
    "### It may be easier to maintain some of the information of nodes in pandas dataframes and use our knowledge of pandas to easily manipulate data\n",
    "\n",
    "We already have the initial dataframe we created for node, node_df.  We will continue to add to it."
   ]
  },
  {
   "cell_type": "markdown",
   "metadata": {},
   "source": [
    "<a id='EdgeInspection'></a>\n",
    "# 3.2 Edge inspection and edge dataframe setup\n",
    "[TOC](#TOC)"
   ]
  },
  {
   "cell_type": "markdown",
   "metadata": {},
   "source": [
    "### Methods/functions to learn to use:\n",
    "* `.edges(data=True)`  - data=True displays metadata for edge\n",
    "* `.number_of_edges()`\n",
    "* `columns = `\n",
    "* `lambda` functions\n",
    "* `.map(f)`"
   ]
  },
  {
   "cell_type": "markdown",
   "metadata": {},
   "source": [
    "#### # Now lets look at the edges information.  Data here is also list of tuples with start node, end node, and meta-data dictionary.  Need to use data = True to get the metadata dictionary for the edge pairs.\n",
    "\n",
    "format is:\n",
    "\n",
    "<pre>\n",
    "[(1, 10.0, {'weight': 1.2}), (1, 6.0, {'weight': 0.8}), ...]\n",
    "\n",
    "node_df.iloc[0,:].to_dict() - will convert dataframe information to dictionary\n",
    "</pre>"
   ]
  },
  {
   "cell_type": "code",
   "execution_count": 59,
   "metadata": {},
   "outputs": [
    {
     "data": {
      "text/plain": [
       "(1, 6.0, {'weight': 0.8})"
      ]
     },
     "metadata": {},
     "output_type": "display_data"
    },
    {
     "data": {
      "text/plain": [
       "(1, 16.0, {'weight': 0.8})"
      ]
     },
     "metadata": {},
     "output_type": "display_data"
    },
    {
     "data": {
      "text/plain": [
       "(1, 18.0, {'weight': 1.6})"
      ]
     },
     "metadata": {},
     "output_type": "display_data"
    }
   ],
   "source": [
    "# Now lets look at the edges information.  Data here is also list of tuples with start node, end node, and meta-data\n",
    "# dictionary.  Need to use data = True to get the metadata dictionary for the edge pairs.\n",
    "display(list(G.edges(data=True))[1])    #  <--- inspect 1st edge\n",
    "display(list(G.edges(data=True))[2])    #  <--- inspect 2nd edge\n",
    "display(list(G.edges(data=True))[3])    #  <--- inspect 3rd edge"
   ]
  },
  {
   "cell_type": "code",
   "execution_count": 60,
   "metadata": {},
   "outputs": [
    {
     "data": {
      "text/plain": [
       "78"
      ]
     },
     "execution_count": 60,
     "metadata": {},
     "output_type": "execute_result"
    }
   ],
   "source": [
    "# number of edges\n",
    "G.number_of_edges()"
   ]
  },
  {
   "cell_type": "code",
   "execution_count": 61,
   "metadata": {},
   "outputs": [],
   "source": [
    "# Now let's put the edge information in a data frame to make it easier to see what's going on. Relabel columns to those \n",
    "# shown\n",
    "edges_df = pd.DataFrame(G.edges(data=True),columns=[\"n1\",\"n2\",\"weight\"])"
   ]
  },
  {
   "cell_type": "code",
   "execution_count": 62,
   "metadata": {
    "scrolled": true
   },
   "outputs": [
    {
     "data": {
      "text/html": [
       "<div>\n",
       "<style scoped>\n",
       "    .dataframe tbody tr th:only-of-type {\n",
       "        vertical-align: middle;\n",
       "    }\n",
       "\n",
       "    .dataframe tbody tr th {\n",
       "        vertical-align: top;\n",
       "    }\n",
       "\n",
       "    .dataframe thead th {\n",
       "        text-align: right;\n",
       "    }\n",
       "</style>\n",
       "<table border=\"1\" class=\"dataframe\">\n",
       "  <thead>\n",
       "    <tr style=\"text-align: right;\">\n",
       "      <th></th>\n",
       "      <th>n1</th>\n",
       "      <th>n2</th>\n",
       "      <th>weight</th>\n",
       "    </tr>\n",
       "  </thead>\n",
       "  <tbody>\n",
       "    <tr>\n",
       "      <td>0</td>\n",
       "      <td>1</td>\n",
       "      <td>10.0</td>\n",
       "      <td>{'weight': 1.2}</td>\n",
       "    </tr>\n",
       "    <tr>\n",
       "      <td>1</td>\n",
       "      <td>1</td>\n",
       "      <td>6.0</td>\n",
       "      <td>{'weight': 0.8}</td>\n",
       "    </tr>\n",
       "    <tr>\n",
       "      <td>2</td>\n",
       "      <td>1</td>\n",
       "      <td>16.0</td>\n",
       "      <td>{'weight': 0.8}</td>\n",
       "    </tr>\n",
       "    <tr>\n",
       "      <td>3</td>\n",
       "      <td>1</td>\n",
       "      <td>18.0</td>\n",
       "      <td>{'weight': 1.6}</td>\n",
       "    </tr>\n",
       "    <tr>\n",
       "      <td>4</td>\n",
       "      <td>1</td>\n",
       "      <td>12.0</td>\n",
       "      <td>{'weight': 0.4}</td>\n",
       "    </tr>\n",
       "  </tbody>\n",
       "</table>\n",
       "</div>"
      ],
      "text/plain": [
       "   n1    n2           weight\n",
       "0   1  10.0  {'weight': 1.2}\n",
       "1   1   6.0  {'weight': 0.8}\n",
       "2   1  16.0  {'weight': 0.8}\n",
       "3   1  18.0  {'weight': 1.6}\n",
       "4   1  12.0  {'weight': 0.4}"
      ]
     },
     "execution_count": 62,
     "metadata": {},
     "output_type": "execute_result"
    }
   ],
   "source": [
    "edges_df.head()"
   ]
  },
  {
   "cell_type": "markdown",
   "metadata": {},
   "source": [
    "Again, let's clean up the weight column by converting the dictionary in the weight column to just the value"
   ]
  },
  {
   "cell_type": "code",
   "execution_count": 63,
   "metadata": {},
   "outputs": [],
   "source": [
    "# Set up a lambda function and do a mapping to just the value associated with weight key in dictionary. Use .map(f)\n",
    "f = lambda d: d[\"weight\"]\n",
    "edges_df[\"weight\"] = edges_df[\"weight\"].map(f)"
   ]
  },
  {
   "cell_type": "code",
   "execution_count": 64,
   "metadata": {
    "scrolled": true
   },
   "outputs": [
    {
     "data": {
      "text/html": [
       "<div>\n",
       "<style scoped>\n",
       "    .dataframe tbody tr th:only-of-type {\n",
       "        vertical-align: middle;\n",
       "    }\n",
       "\n",
       "    .dataframe tbody tr th {\n",
       "        vertical-align: top;\n",
       "    }\n",
       "\n",
       "    .dataframe thead th {\n",
       "        text-align: right;\n",
       "    }\n",
       "</style>\n",
       "<table border=\"1\" class=\"dataframe\">\n",
       "  <thead>\n",
       "    <tr style=\"text-align: right;\">\n",
       "      <th></th>\n",
       "      <th>n1</th>\n",
       "      <th>n2</th>\n",
       "      <th>weight</th>\n",
       "    </tr>\n",
       "  </thead>\n",
       "  <tbody>\n",
       "    <tr>\n",
       "      <td>73</td>\n",
       "      <td>16</td>\n",
       "      <td>18.0</td>\n",
       "      <td>2.0</td>\n",
       "    </tr>\n",
       "    <tr>\n",
       "      <td>74</td>\n",
       "      <td>16</td>\n",
       "      <td>19.0</td>\n",
       "      <td>1.6</td>\n",
       "    </tr>\n",
       "    <tr>\n",
       "      <td>75</td>\n",
       "      <td>16</td>\n",
       "      <td>20.0</td>\n",
       "      <td>2.0</td>\n",
       "    </tr>\n",
       "    <tr>\n",
       "      <td>76</td>\n",
       "      <td>16</td>\n",
       "      <td>21.0</td>\n",
       "      <td>2.0</td>\n",
       "    </tr>\n",
       "    <tr>\n",
       "      <td>77</td>\n",
       "      <td>16</td>\n",
       "      <td>22.0</td>\n",
       "      <td>1.2</td>\n",
       "    </tr>\n",
       "  </tbody>\n",
       "</table>\n",
       "</div>"
      ],
      "text/plain": [
       "    n1    n2  weight\n",
       "73  16  18.0     2.0\n",
       "74  16  19.0     1.6\n",
       "75  16  20.0     2.0\n",
       "76  16  21.0     2.0\n",
       "77  16  22.0     1.2"
      ]
     },
     "execution_count": 64,
     "metadata": {},
     "output_type": "execute_result"
    }
   ],
   "source": [
    "#inspect\n",
    "edges_df.tail()"
   ]
  },
  {
   "cell_type": "markdown",
   "metadata": {},
   "source": [
    "<a id='Centrality'></a>\n",
    "# 4 Centrality measures for graph\n",
    "[TOC](#TOC)"
   ]
  },
  {
   "cell_type": "markdown",
   "metadata": {},
   "source": [
    "<a id='Degree'></a>\n",
    "# 4.1 Degree of nodes\n",
    "[TOC](#TOC)"
   ]
  },
  {
   "cell_type": "markdown",
   "metadata": {},
   "source": [
    "Okay, now let's start doing some analysis on the graph.  First let's calculate the degree of each node."
   ]
  },
  {
   "cell_type": "markdown",
   "metadata": {},
   "source": [
    "### Methods/functions to learn to use:\n",
    "<br>\n",
    "\n",
    "**Measures of node centrality - see wikipedia for exact mathematical calculations**\n",
    "https://en.wikipedia.org/wiki/Centrality\n",
    "\n",
    "<br>\n",
    "\n",
    "* `.degree()`                 - number of edges at a given node, higher degree = higher centrality\n",
    "* `.degree(weight='weight')`  - degree of node weighted by edge weight of edges into node\n",
    "* `.betweenness_centrality(G)`- measure of how much a node is between other node clusters\n",
    "* `.closeness_centrality(G)`  - measure of how close node is to other nodes\n",
    "* `.degree_centrality(G`      - measure of fraction of nodes this node is connected to \n",
    "* `.clustering(G)`            - measure of how tightly clusterd node is\n",
    "\n",
    "<br>\n",
    "\n",
    "* `lambda` functions\n",
    "* `.map(f)`\n",
    "* `pd.concat()` - concatenate dataframes"
   ]
  },
  {
   "cell_type": "code",
   "execution_count": 65,
   "metadata": {},
   "outputs": [
    {
     "data": {
      "text/plain": [
       "DegreeView({1: 6, 2: 7, 3: 6, 4: 10, 5: 5, 6: 3, 7: 6, 8: 8, 9: 7, 10: 6, 11: 8, 12: 10, 13: 6, 14: 6, 15: 9, 16: 10, 17: 1, 18: 7, 19: 3, 20: 1, 21: 1, 22: 1, 23: 1, 24: 1, 25: 1, 26: 1, 27: 1, 28: 1, 29: 1, 30: 3, 31: 1, 32: 1, 33: 1, 34: 1, 35: 1, 36: 1, 37: 1, 38: 1, 39: 1, 40: 1, 41: 1, 42: 1, 43: 1, 44: 1, 45: 1, 46: 1, 47: 1, 48: 1, 49: 1})"
      ]
     },
     "execution_count": 65,
     "metadata": {},
     "output_type": "execute_result"
    }
   ],
   "source": [
    "# Get the degree of each node. Use .degree()\n",
    "G.degree()"
   ]
  },
  {
   "cell_type": "markdown",
   "metadata": {},
   "source": [
    "Again, let's put the information in a dataframe to make it easier to see what is going on.  We will continue adding metrics to the data frame as we go along. "
   ]
  },
  {
   "cell_type": "code",
   "execution_count": 66,
   "metadata": {},
   "outputs": [],
   "source": [
    "#set up a dataframe with degree for each node in graph, set index to node so we can concatenate with node_df later\n",
    "degree_df = pd.DataFrame(G.degree,columns=[\"node\",\"degree\"])\n",
    "degree_df.set_index(\"node\",drop=True,inplace=True)"
   ]
  },
  {
   "cell_type": "code",
   "execution_count": 67,
   "metadata": {},
   "outputs": [
    {
     "data": {
      "text/html": [
       "<div>\n",
       "<style scoped>\n",
       "    .dataframe tbody tr th:only-of-type {\n",
       "        vertical-align: middle;\n",
       "    }\n",
       "\n",
       "    .dataframe tbody tr th {\n",
       "        vertical-align: top;\n",
       "    }\n",
       "\n",
       "    .dataframe thead th {\n",
       "        text-align: right;\n",
       "    }\n",
       "</style>\n",
       "<table border=\"1\" class=\"dataframe\">\n",
       "  <thead>\n",
       "    <tr style=\"text-align: right;\">\n",
       "      <th></th>\n",
       "      <th>degree</th>\n",
       "    </tr>\n",
       "    <tr>\n",
       "      <th>node</th>\n",
       "      <th></th>\n",
       "    </tr>\n",
       "  </thead>\n",
       "  <tbody>\n",
       "    <tr>\n",
       "      <td>1</td>\n",
       "      <td>6</td>\n",
       "    </tr>\n",
       "    <tr>\n",
       "      <td>2</td>\n",
       "      <td>7</td>\n",
       "    </tr>\n",
       "    <tr>\n",
       "      <td>3</td>\n",
       "      <td>6</td>\n",
       "    </tr>\n",
       "    <tr>\n",
       "      <td>4</td>\n",
       "      <td>10</td>\n",
       "    </tr>\n",
       "    <tr>\n",
       "      <td>5</td>\n",
       "      <td>5</td>\n",
       "    </tr>\n",
       "  </tbody>\n",
       "</table>\n",
       "</div>"
      ],
      "text/plain": [
       "      degree\n",
       "node        \n",
       "1          6\n",
       "2          7\n",
       "3          6\n",
       "4         10\n",
       "5          5"
      ]
     },
     "execution_count": 67,
     "metadata": {},
     "output_type": "execute_result"
    }
   ],
   "source": [
    "# inspect \n",
    "degree_df.head()"
   ]
  },
  {
   "cell_type": "code",
   "execution_count": 68,
   "metadata": {},
   "outputs": [
    {
     "data": {
      "text/plain": [
       "DegreeView({1: 5.6000000000000005, 2: 9.6, 3: 9.2, 4: 12.799999999999999, 5: 5.6, 6: 3.6, 7: 7.2, 8: 12.799999999999999, 9: 7.2, 10: 8.4, 11: 8.8, 12: 14.0, 13: 6.0, 14: 7.199999999999999, 15: 13.6, 16: 14.399999999999999, 17: 1.6, 18: 9.600000000000001, 19: 2.8000000000000003, 20: 2.0, 21: 2.0, 22: 1.2, 23: 2.0, 24: 2.0, 25: 1.6, 26: 1.6, 27: 0.8, 28: 2.0, 29: 2.0, 30: 4.4, 31: 2.0, 32: 2.0, 33: 1.6, 34: 0.4, 35: 1.6, 36: 2.0, 37: 1.6, 38: 0.8, 39: 1.2, 40: 2.0, 41: 2.0, 42: 1.2, 43: 1.2, 44: 0.4, 45: 1.6, 46: 1.2, 47: 0.8, 48: 1.2, 49: 0.8})"
      ]
     },
     "execution_count": 68,
     "metadata": {},
     "output_type": "execute_result"
    }
   ],
   "source": [
    "# get weighted degree\n",
    "G.degree(weight='weight')"
   ]
  },
  {
   "cell_type": "code",
   "execution_count": 69,
   "metadata": {},
   "outputs": [],
   "source": [
    "#set up a dataframe with degree for each node in graph set node as index \n",
    "degree_wtd_df = pd.DataFrame(G.degree(weight='weight'),columns=[\"node\",\"degree_wtd\"])\n",
    "degree_wtd_df.set_index(\"node\",drop=True,inplace=True)"
   ]
  },
  {
   "cell_type": "code",
   "execution_count": 70,
   "metadata": {},
   "outputs": [
    {
     "data": {
      "text/html": [
       "<div>\n",
       "<style scoped>\n",
       "    .dataframe tbody tr th:only-of-type {\n",
       "        vertical-align: middle;\n",
       "    }\n",
       "\n",
       "    .dataframe tbody tr th {\n",
       "        vertical-align: top;\n",
       "    }\n",
       "\n",
       "    .dataframe thead th {\n",
       "        text-align: right;\n",
       "    }\n",
       "</style>\n",
       "<table border=\"1\" class=\"dataframe\">\n",
       "  <thead>\n",
       "    <tr style=\"text-align: right;\">\n",
       "      <th></th>\n",
       "      <th>degree_wtd</th>\n",
       "    </tr>\n",
       "    <tr>\n",
       "      <th>node</th>\n",
       "      <th></th>\n",
       "    </tr>\n",
       "  </thead>\n",
       "  <tbody>\n",
       "    <tr>\n",
       "      <td>1</td>\n",
       "      <td>5.6</td>\n",
       "    </tr>\n",
       "    <tr>\n",
       "      <td>2</td>\n",
       "      <td>9.6</td>\n",
       "    </tr>\n",
       "    <tr>\n",
       "      <td>3</td>\n",
       "      <td>9.2</td>\n",
       "    </tr>\n",
       "    <tr>\n",
       "      <td>4</td>\n",
       "      <td>12.8</td>\n",
       "    </tr>\n",
       "    <tr>\n",
       "      <td>5</td>\n",
       "      <td>5.6</td>\n",
       "    </tr>\n",
       "  </tbody>\n",
       "</table>\n",
       "</div>"
      ],
      "text/plain": [
       "      degree_wtd\n",
       "node            \n",
       "1            5.6\n",
       "2            9.6\n",
       "3            9.2\n",
       "4           12.8\n",
       "5            5.6"
      ]
     },
     "execution_count": 70,
     "metadata": {},
     "output_type": "execute_result"
    }
   ],
   "source": [
    "# inspect\n",
    "degree_wtd_df.head()"
   ]
  },
  {
   "cell_type": "markdown",
   "metadata": {},
   "source": [
    "Now let's calculate some of the other metrics of interest, such as betweeness, centrality, closeness, and clustering.  There are many other metrics but these are good ones to start with. We will summarize them all into one dataframe at the end."
   ]
  },
  {
   "cell_type": "markdown",
   "metadata": {},
   "source": [
    "<a id='Betweenness'></a>\n",
    "# 4.2 Betweenness centrality of nodes\n",
    "[TOC](#TOC)"
   ]
  },
  {
   "cell_type": "code",
   "execution_count": 71,
   "metadata": {},
   "outputs": [],
   "source": [
    "# betweeness centrality - bc is a dictionary of node and metric - can use bc.items() to get node and metric values\n",
    "bc = nx.betweenness_centrality(G)"
   ]
  },
  {
   "cell_type": "code",
   "execution_count": 72,
   "metadata": {},
   "outputs": [],
   "source": [
    "#set up a dataframe with degree for each node in graph set node as index\n",
    "between_df = pd.DataFrame(bc.items(),columns=[\"node\",\"between_cent\"])\n",
    "between_df.set_index(\"node\",drop=True,inplace=True)"
   ]
  },
  {
   "cell_type": "code",
   "execution_count": 73,
   "metadata": {},
   "outputs": [
    {
     "data": {
      "text/html": [
       "<div>\n",
       "<style scoped>\n",
       "    .dataframe tbody tr th:only-of-type {\n",
       "        vertical-align: middle;\n",
       "    }\n",
       "\n",
       "    .dataframe tbody tr th {\n",
       "        vertical-align: top;\n",
       "    }\n",
       "\n",
       "    .dataframe thead th {\n",
       "        text-align: right;\n",
       "    }\n",
       "</style>\n",
       "<table border=\"1\" class=\"dataframe\">\n",
       "  <thead>\n",
       "    <tr style=\"text-align: right;\">\n",
       "      <th></th>\n",
       "      <th>between_cent</th>\n",
       "    </tr>\n",
       "    <tr>\n",
       "      <th>node</th>\n",
       "      <th></th>\n",
       "    </tr>\n",
       "  </thead>\n",
       "  <tbody>\n",
       "    <tr>\n",
       "      <td>1</td>\n",
       "      <td>0.029685</td>\n",
       "    </tr>\n",
       "    <tr>\n",
       "      <td>2</td>\n",
       "      <td>0.096834</td>\n",
       "    </tr>\n",
       "    <tr>\n",
       "      <td>3</td>\n",
       "      <td>0.050606</td>\n",
       "    </tr>\n",
       "    <tr>\n",
       "      <td>4</td>\n",
       "      <td>0.238682</td>\n",
       "    </tr>\n",
       "    <tr>\n",
       "      <td>5</td>\n",
       "      <td>0.007535</td>\n",
       "    </tr>\n",
       "  </tbody>\n",
       "</table>\n",
       "</div>"
      ],
      "text/plain": [
       "      between_cent\n",
       "node              \n",
       "1         0.029685\n",
       "2         0.096834\n",
       "3         0.050606\n",
       "4         0.238682\n",
       "5         0.007535"
      ]
     },
     "execution_count": 73,
     "metadata": {},
     "output_type": "execute_result"
    }
   ],
   "source": [
    "# inspect\n",
    "between_df.head()"
   ]
  },
  {
   "cell_type": "markdown",
   "metadata": {},
   "source": [
    "<a id='Closeness'></a>\n",
    "# 4.3 Closeness centrality of nodes\n",
    "[TOC](#TOC)"
   ]
  },
  {
   "cell_type": "code",
   "execution_count": 74,
   "metadata": {
    "scrolled": true
   },
   "outputs": [],
   "source": [
    "# closeness centrality\n",
    "cc = nx.closeness_centrality(G)"
   ]
  },
  {
   "cell_type": "code",
   "execution_count": 75,
   "metadata": {},
   "outputs": [],
   "source": [
    "#set up a dataframe with degree for each node in graph set node as index\n",
    "close_df = pd.DataFrame(cc.items(),columns=[\"node\",\"close_cent\"])\n",
    "close_df.set_index(\"node\",drop=True,inplace=True)"
   ]
  },
  {
   "cell_type": "code",
   "execution_count": 76,
   "metadata": {},
   "outputs": [
    {
     "data": {
      "text/html": [
       "<div>\n",
       "<style scoped>\n",
       "    .dataframe tbody tr th:only-of-type {\n",
       "        vertical-align: middle;\n",
       "    }\n",
       "\n",
       "    .dataframe tbody tr th {\n",
       "        vertical-align: top;\n",
       "    }\n",
       "\n",
       "    .dataframe thead th {\n",
       "        text-align: right;\n",
       "    }\n",
       "</style>\n",
       "<table border=\"1\" class=\"dataframe\">\n",
       "  <thead>\n",
       "    <tr style=\"text-align: right;\">\n",
       "      <th></th>\n",
       "      <th>close_cent</th>\n",
       "    </tr>\n",
       "    <tr>\n",
       "      <th>node</th>\n",
       "      <th></th>\n",
       "    </tr>\n",
       "  </thead>\n",
       "  <tbody>\n",
       "    <tr>\n",
       "      <td>1</td>\n",
       "      <td>0.393443</td>\n",
       "    </tr>\n",
       "    <tr>\n",
       "      <td>2</td>\n",
       "      <td>0.387097</td>\n",
       "    </tr>\n",
       "    <tr>\n",
       "      <td>3</td>\n",
       "      <td>0.410256</td>\n",
       "    </tr>\n",
       "    <tr>\n",
       "      <td>4</td>\n",
       "      <td>0.400000</td>\n",
       "    </tr>\n",
       "    <tr>\n",
       "      <td>5</td>\n",
       "      <td>0.377953</td>\n",
       "    </tr>\n",
       "  </tbody>\n",
       "</table>\n",
       "</div>"
      ],
      "text/plain": [
       "      close_cent\n",
       "node            \n",
       "1       0.393443\n",
       "2       0.387097\n",
       "3       0.410256\n",
       "4       0.400000\n",
       "5       0.377953"
      ]
     },
     "execution_count": 76,
     "metadata": {},
     "output_type": "execute_result"
    }
   ],
   "source": [
    "close_df.head()"
   ]
  },
  {
   "cell_type": "markdown",
   "metadata": {},
   "source": [
    "<a id='DegreeCentrality'></a>\n",
    "# 4.4 Degree centrality (fraction of nodes connected) of nodes\n",
    "[TOC](#TOC)"
   ]
  },
  {
   "cell_type": "code",
   "execution_count": 77,
   "metadata": {},
   "outputs": [],
   "source": [
    "# degree centrality\n",
    "dc = nx.degree_centrality(G)"
   ]
  },
  {
   "cell_type": "code",
   "execution_count": 78,
   "metadata": {},
   "outputs": [],
   "source": [
    "#set up a dataframe with degree for each node in graph set node as index\n",
    "dc_df = pd.DataFrame(dc.items(),columns=[\"node\",\"deg_cent\"])\n",
    "dc_df.set_index(\"node\",drop=True,inplace=True)"
   ]
  },
  {
   "cell_type": "code",
   "execution_count": 79,
   "metadata": {},
   "outputs": [
    {
     "data": {
      "text/html": [
       "<div>\n",
       "<style scoped>\n",
       "    .dataframe tbody tr th:only-of-type {\n",
       "        vertical-align: middle;\n",
       "    }\n",
       "\n",
       "    .dataframe tbody tr th {\n",
       "        vertical-align: top;\n",
       "    }\n",
       "\n",
       "    .dataframe thead th {\n",
       "        text-align: right;\n",
       "    }\n",
       "</style>\n",
       "<table border=\"1\" class=\"dataframe\">\n",
       "  <thead>\n",
       "    <tr style=\"text-align: right;\">\n",
       "      <th></th>\n",
       "      <th>deg_cent</th>\n",
       "    </tr>\n",
       "    <tr>\n",
       "      <th>node</th>\n",
       "      <th></th>\n",
       "    </tr>\n",
       "  </thead>\n",
       "  <tbody>\n",
       "    <tr>\n",
       "      <td>1</td>\n",
       "      <td>0.125000</td>\n",
       "    </tr>\n",
       "    <tr>\n",
       "      <td>2</td>\n",
       "      <td>0.145833</td>\n",
       "    </tr>\n",
       "    <tr>\n",
       "      <td>3</td>\n",
       "      <td>0.125000</td>\n",
       "    </tr>\n",
       "    <tr>\n",
       "      <td>4</td>\n",
       "      <td>0.208333</td>\n",
       "    </tr>\n",
       "    <tr>\n",
       "      <td>5</td>\n",
       "      <td>0.104167</td>\n",
       "    </tr>\n",
       "  </tbody>\n",
       "</table>\n",
       "</div>"
      ],
      "text/plain": [
       "      deg_cent\n",
       "node          \n",
       "1     0.125000\n",
       "2     0.145833\n",
       "3     0.125000\n",
       "4     0.208333\n",
       "5     0.104167"
      ]
     },
     "execution_count": 79,
     "metadata": {},
     "output_type": "execute_result"
    }
   ],
   "source": [
    "dc_df.head()"
   ]
  },
  {
   "cell_type": "markdown",
   "metadata": {},
   "source": [
    "<a id='Clustering'></a>\n",
    "# 4.5 Clustering (fraction of possible triangles) of nodes\n",
    "[TOC](#TOC)"
   ]
  },
  {
   "cell_type": "code",
   "execution_count": 80,
   "metadata": {
    "scrolled": true
   },
   "outputs": [],
   "source": [
    "# clustering coefficient\n",
    "c = nx.clustering(G)"
   ]
  },
  {
   "cell_type": "code",
   "execution_count": 81,
   "metadata": {},
   "outputs": [],
   "source": [
    "#set up a dataframe, see node as index\n",
    "c_df = pd.DataFrame(c.items(),columns=[\"node\",\"clustering\"])\n",
    "c_df.set_index(\"node\",drop=True,inplace=True)"
   ]
  },
  {
   "cell_type": "code",
   "execution_count": 82,
   "metadata": {},
   "outputs": [
    {
     "data": {
      "text/html": [
       "<div>\n",
       "<style scoped>\n",
       "    .dataframe tbody tr th:only-of-type {\n",
       "        vertical-align: middle;\n",
       "    }\n",
       "\n",
       "    .dataframe tbody tr th {\n",
       "        vertical-align: top;\n",
       "    }\n",
       "\n",
       "    .dataframe thead th {\n",
       "        text-align: right;\n",
       "    }\n",
       "</style>\n",
       "<table border=\"1\" class=\"dataframe\">\n",
       "  <thead>\n",
       "    <tr style=\"text-align: right;\">\n",
       "      <th></th>\n",
       "      <th>clustering</th>\n",
       "    </tr>\n",
       "    <tr>\n",
       "      <th>node</th>\n",
       "      <th></th>\n",
       "    </tr>\n",
       "  </thead>\n",
       "  <tbody>\n",
       "    <tr>\n",
       "      <td>1</td>\n",
       "      <td>0.466667</td>\n",
       "    </tr>\n",
       "    <tr>\n",
       "      <td>2</td>\n",
       "      <td>0.095238</td>\n",
       "    </tr>\n",
       "    <tr>\n",
       "      <td>3</td>\n",
       "      <td>0.266667</td>\n",
       "    </tr>\n",
       "    <tr>\n",
       "      <td>4</td>\n",
       "      <td>0.066667</td>\n",
       "    </tr>\n",
       "    <tr>\n",
       "      <td>5</td>\n",
       "      <td>0.400000</td>\n",
       "    </tr>\n",
       "  </tbody>\n",
       "</table>\n",
       "</div>"
      ],
      "text/plain": [
       "      clustering\n",
       "node            \n",
       "1       0.466667\n",
       "2       0.095238\n",
       "3       0.266667\n",
       "4       0.066667\n",
       "5       0.400000"
      ]
     },
     "execution_count": 82,
     "metadata": {},
     "output_type": "execute_result"
    }
   ],
   "source": [
    "# inspect\n",
    "c_df.head()"
   ]
  },
  {
   "cell_type": "markdown",
   "metadata": {},
   "source": [
    "Now merge all of these metrics into the node_df data frame. Use pd.concat()"
   ]
  },
  {
   "cell_type": "code",
   "execution_count": 83,
   "metadata": {},
   "outputs": [],
   "source": [
    "df2 = pd.concat([node_df,degree_df, degree_wtd_df,dc_df,between_df,close_df,c_df], axis= 1, sort=False)"
   ]
  },
  {
   "cell_type": "code",
   "execution_count": 84,
   "metadata": {
    "scrolled": true
   },
   "outputs": [
    {
     "data": {
      "text/html": [
       "<div>\n",
       "<style scoped>\n",
       "    .dataframe tbody tr th:only-of-type {\n",
       "        vertical-align: middle;\n",
       "    }\n",
       "\n",
       "    .dataframe tbody tr th {\n",
       "        vertical-align: top;\n",
       "    }\n",
       "\n",
       "    .dataframe thead th {\n",
       "        text-align: right;\n",
       "    }\n",
       "</style>\n",
       "<table border=\"1\" class=\"dataframe\">\n",
       "  <thead>\n",
       "    <tr style=\"text-align: right;\">\n",
       "      <th></th>\n",
       "      <th>Name</th>\n",
       "      <th>Degree</th>\n",
       "      <th>Year</th>\n",
       "      <th>Role</th>\n",
       "      <th>SA</th>\n",
       "      <th>degree</th>\n",
       "      <th>degree_wtd</th>\n",
       "      <th>deg_cent</th>\n",
       "      <th>between_cent</th>\n",
       "      <th>close_cent</th>\n",
       "      <th>clustering</th>\n",
       "    </tr>\n",
       "    <tr>\n",
       "      <th>node</th>\n",
       "      <th></th>\n",
       "      <th></th>\n",
       "      <th></th>\n",
       "      <th></th>\n",
       "      <th></th>\n",
       "      <th></th>\n",
       "      <th></th>\n",
       "      <th></th>\n",
       "      <th></th>\n",
       "      <th></th>\n",
       "      <th></th>\n",
       "    </tr>\n",
       "  </thead>\n",
       "  <tbody>\n",
       "    <tr>\n",
       "      <td>1</td>\n",
       "      <td>Echard.M</td>\n",
       "      <td>DS</td>\n",
       "      <td>SR</td>\n",
       "      <td>Student</td>\n",
       "      <td>0</td>\n",
       "      <td>6</td>\n",
       "      <td>5.6</td>\n",
       "      <td>0.125000</td>\n",
       "      <td>0.029685</td>\n",
       "      <td>0.393443</td>\n",
       "      <td>0.466667</td>\n",
       "    </tr>\n",
       "    <tr>\n",
       "      <td>2</td>\n",
       "      <td>Eze.C</td>\n",
       "      <td>DS</td>\n",
       "      <td>JR</td>\n",
       "      <td>Student</td>\n",
       "      <td>0</td>\n",
       "      <td>7</td>\n",
       "      <td>9.6</td>\n",
       "      <td>0.145833</td>\n",
       "      <td>0.096834</td>\n",
       "      <td>0.387097</td>\n",
       "      <td>0.095238</td>\n",
       "    </tr>\n",
       "    <tr>\n",
       "      <td>3</td>\n",
       "      <td>Iqbal.Y</td>\n",
       "      <td>DS</td>\n",
       "      <td>JR</td>\n",
       "      <td>Student</td>\n",
       "      <td>0</td>\n",
       "      <td>6</td>\n",
       "      <td>9.2</td>\n",
       "      <td>0.125000</td>\n",
       "      <td>0.050606</td>\n",
       "      <td>0.410256</td>\n",
       "      <td>0.266667</td>\n",
       "    </tr>\n",
       "    <tr>\n",
       "      <td>4</td>\n",
       "      <td>Islam.I</td>\n",
       "      <td>DS</td>\n",
       "      <td>PostBac</td>\n",
       "      <td>Student</td>\n",
       "      <td>0</td>\n",
       "      <td>10</td>\n",
       "      <td>12.8</td>\n",
       "      <td>0.208333</td>\n",
       "      <td>0.238682</td>\n",
       "      <td>0.400000</td>\n",
       "      <td>0.066667</td>\n",
       "    </tr>\n",
       "    <tr>\n",
       "      <td>5</td>\n",
       "      <td>Lopez.R</td>\n",
       "      <td>DS</td>\n",
       "      <td>JR</td>\n",
       "      <td>Student</td>\n",
       "      <td>0</td>\n",
       "      <td>5</td>\n",
       "      <td>5.6</td>\n",
       "      <td>0.104167</td>\n",
       "      <td>0.007535</td>\n",
       "      <td>0.377953</td>\n",
       "      <td>0.400000</td>\n",
       "    </tr>\n",
       "  </tbody>\n",
       "</table>\n",
       "</div>"
      ],
      "text/plain": [
       "          Name Degree     Year     Role  SA  degree  degree_wtd  deg_cent  \\\n",
       "node                                                                        \n",
       "1     Echard.M     DS       SR  Student   0       6         5.6  0.125000   \n",
       "2        Eze.C     DS       JR  Student   0       7         9.6  0.145833   \n",
       "3      Iqbal.Y     DS       JR  Student   0       6         9.2  0.125000   \n",
       "4      Islam.I     DS  PostBac  Student   0      10        12.8  0.208333   \n",
       "5      Lopez.R     DS       JR  Student   0       5         5.6  0.104167   \n",
       "\n",
       "      between_cent  close_cent  clustering  \n",
       "node                                        \n",
       "1         0.029685    0.393443    0.466667  \n",
       "2         0.096834    0.387097    0.095238  \n",
       "3         0.050606    0.410256    0.266667  \n",
       "4         0.238682    0.400000    0.066667  \n",
       "5         0.007535    0.377953    0.400000  "
      ]
     },
     "execution_count": 84,
     "metadata": {},
     "output_type": "execute_result"
    }
   ],
   "source": [
    "# inspect\n",
    "df2.head()"
   ]
  },
  {
   "cell_type": "markdown",
   "metadata": {},
   "source": [
    "<a id='DegreeDistribution'></a>\n",
    "# 5 Plot degree distribution of graph\n",
    "[TOC](#TOC)"
   ]
  },
  {
   "cell_type": "markdown",
   "metadata": {},
   "source": [
    "Now let's plot the distribution of the metrics using the summary dataframe"
   ]
  },
  {
   "cell_type": "markdown",
   "metadata": {},
   "source": [
    "### Methods/functions to learn to use:\n",
    "\n",
    "* `plt.hist()`\n",
    "* `sns.distplot()`"
   ]
  },
  {
   "cell_type": "code",
   "execution_count": 85,
   "metadata": {},
   "outputs": [],
   "source": [
    "import matplotlib.pyplot as plt\n",
    "import networkx as nx\n",
    "import seaborn as sns\n",
    "import warnings                   #<--- use this to suppress deprecation warnings from matplotlib\n",
    "warnings.filterwarnings(\"ignore\")\n",
    "\n",
    "# set up a function to plot the distribution of centrality metric in the graph. \n",
    "# Three types of graphs 1 = hist, 2 - seaborn distplot, 3 - seaborn hist and distplot\n",
    "def plot_degree_dist(metric,metric_name,type=1):\n",
    "    plt.figure(figsize=(15,6))\n",
    "    if type==1:\n",
    "        plt.hist(metric,bins=20)      # histogram\n",
    "    elif type==2:\n",
    "        sns.distplot(metric,bins=20)   # seaborn distribution plot\n",
    "    else:\n",
    "        sns.distplot(metric, rug=True, rug_kws={\"color\": \"g\"},  # more customized distribution plot plus histogram\n",
    "             kde_kws={\"color\": \"k\", \"lw\": 3, \"label\": \"KDE\"},\n",
    "             hist_kws={\"histtype\": \"step\", \"linewidth\": 3,\"alpha\": 1, \"color\": \"g\"})\n",
    "    plt.title(metric_name+ \" Distribution of Student Network\")\n",
    "    plt.show()"
   ]
  },
  {
   "cell_type": "code",
   "execution_count": 86,
   "metadata": {
    "scrolled": true
   },
   "outputs": [
    {
     "data": {
      "image/png": "[encoded data removed]",
      "text/plain": [
       "<Figure size 1080x432 with 1 Axes>"
      ]
     },
     "metadata": {
      "needs_background": "light"
     },
     "output_type": "display_data"
    }
   ],
   "source": [
    "plot_degree_dist(df2.deg_cent,\"Degree Centrality\",type=2)"
   ]
  },
  {
   "cell_type": "markdown",
   "metadata": {},
   "source": [
    "<a id='ShortestPath'></a>\n",
    "# 6 Finding shortest path between two nodes\n",
    "[TOC](#TOC)"
   ]
  },
  {
   "cell_type": "markdown",
   "metadata": {},
   "source": [
    "### Methods/functions to learn to use:\n",
    "\n",
    "* `nx.shortest_path()`"
   ]
  },
  {
   "cell_type": "markdown",
   "metadata": {},
   "source": [
    "Assuming we have two nodes of interest, we can find the shortest path between them using shortest_path() method."
   ]
  },
  {
   "cell_type": "code",
   "execution_count": 88,
   "metadata": {
    "scrolled": true
   },
   "outputs": [
    {
     "name": "stdout",
     "output_type": "stream",
     "text": [
      "[10, 1.0, 16.0, 13]\n",
      " Next:  10   {'Name': 'Oswald.T', 'Degree': 'DS', 'Year': 'PostBac', 'Role': 'Student', 'SA': 0}\n",
      " Next:  1.0   {'Name': 'Echard.M', 'Degree': 'DS', 'Year': 'SR', 'Role': 'Student', 'SA': 0}\n",
      " Next:  16.0   {'Name': 'Zafiris.M', 'Degree': 'DS', 'Year': 'JR', 'Role': 'Student', 'SA': 1}\n",
      " Next:  13   {'Name': 'Sonaike.T', 'Degree': 'CS', 'Year': 'PostBac', 'Role': 'Student', 'SA': 0}\n"
     ]
    }
   ],
   "source": [
    "# what is the shortest path between node 10 and node 113?\n",
    "source = 10\n",
    "target = 13\n",
    "shortest_path = nx.shortest_path(G,source=source,target=target)\n",
    "print(shortest_path)\n",
    "for student in shortest_path:\n",
    "    print(\" Next: \",student,\" \",G.nodes(data=True)[student])"
   ]
  },
  {
   "cell_type": "markdown",
   "metadata": {},
   "source": [
    "<a id='Neighbors'></a>\n",
    "# 7 Finding neighbors of a node\n",
    "[TOC](#TOC)"
   ]
  },
  {
   "cell_type": "markdown",
   "metadata": {},
   "source": [
    "### Methods/functions to learn to use:\n",
    "\n",
    "* `.idxmax()`,`.loc`\n",
    "* `.neighbors()`"
   ]
  },
  {
   "cell_type": "markdown",
   "metadata": {},
   "source": [
    "We can get the neighbors of any specified node using the neighbors() method"
   ]
  },
  {
   "cell_type": "code",
   "execution_count": 92,
   "metadata": {},
   "outputs": [],
   "source": [
    "# get the index of node with the highest degree\n",
    "max_degree = df2.degree.idxmax()\n",
    "max_between = df2.between_cent.idxmax()"
   ]
  },
  {
   "cell_type": "code",
   "execution_count": 93,
   "metadata": {},
   "outputs": [
    {
     "data": {
      "text/plain": [
       "'Islam.I'"
      ]
     },
     "execution_count": 93,
     "metadata": {},
     "output_type": "execute_result"
    }
   ],
   "source": [
    "df2.loc[max_degree,\"Name\"]"
   ]
  },
  {
   "cell_type": "code",
   "execution_count": 94,
   "metadata": {},
   "outputs": [
    {
     "name": "stdout",
     "output_type": "stream",
     "text": [
      "Node id with highest degree is:  4 / Islam.I , with degree =  10\n",
      "Neighbors are:\n"
     ]
    },
    {
     "data": {
      "text/plain": [
       "[3.0, 39.0, 40.0, 41.0, 42.0, 43.0, 44.0, 9.0, 11.0, 14.0]"
      ]
     },
     "execution_count": 94,
     "metadata": {},
     "output_type": "execute_result"
    }
   ],
   "source": [
    "# use .loc, .neighbors()\n",
    "print(\"Node id with highest degree is: \",max_degree,\"/\",df2.loc[max_degree,\"Name\"],\n",
    "      \", with degree = \",df2.loc[max_degree,\"degree\"])\n",
    "print(\"Neighbors are:\")\n",
    "list(G.neighbors(max_degree))"
   ]
  },
  {
   "cell_type": "code",
   "execution_count": 95,
   "metadata": {},
   "outputs": [
    {
     "name": "stdout",
     "output_type": "stream",
     "text": [
      "Node id with highest betweenness centrality is:  16 / Zafiris.M , with betweenness =  0.37252828436339064\n",
      "Neighbors are:\n"
     ]
    },
    {
     "data": {
      "text/plain": [
       "[1.0, 11.0, 12.0, 13.0, 17.0, 18.0, 19.0, 20.0, 21.0, 22.0]"
      ]
     },
     "execution_count": 95,
     "metadata": {},
     "output_type": "execute_result"
    }
   ],
   "source": [
    "print(\"Node id with highest betweenness centrality is: \",max_between,\"/\",df2.loc[max_between,\"Name\"],\n",
    "      \", with betweenness = \",df2.loc[max_between,\"between_cent\"])\n",
    "print(\"Neighbors are:\")\n",
    "list(G.neighbors(max_between))"
   ]
  },
  {
   "cell_type": "markdown",
   "metadata": {},
   "source": [
    "<a id='Visualizing'></a>\n",
    "# 8 Visualizing the graph\n",
    "[TOC](#TOC)"
   ]
  },
  {
   "cell_type": "markdown",
   "metadata": {},
   "source": [
    "### Methods/functions to learn to use:\n",
    "\n",
    "* list comprehension\n"
   ]
  },
  {
   "cell_type": "markdown",
   "metadata": {},
   "source": [
    "Finally, let's see if we can visualize the network by plotting it. "
   ]
  },
  {
   "cell_type": "markdown",
   "metadata": {},
   "source": [
    "Now let's get the weights of the edges so we can set their widths in the graph."
   ]
  },
  {
   "cell_type": "code",
   "execution_count": 96,
   "metadata": {},
   "outputs": [],
   "source": [
    "edges = G.edges(data=True)"
   ]
  },
  {
   "cell_type": "code",
   "execution_count": 97,
   "metadata": {},
   "outputs": [
    {
     "data": {
      "text/plain": [
       "AtlasView({10.0: {'weight': 1.2}, 6.0: {'weight': 0.8}, 16.0: {'weight': 0.8}, 18.0: {'weight': 1.6}, 12.0: {'weight': 0.4}, 5.0: {'weight': 0.8}})"
      ]
     },
     "execution_count": 97,
     "metadata": {},
     "output_type": "execute_result"
    }
   ],
   "source": [
    "# note that G[index] provide information on all the nodes connected to the node at this index\n",
    "G[1]"
   ]
  },
  {
   "cell_type": "code",
   "execution_count": 98,
   "metadata": {},
   "outputs": [],
   "source": [
    "# use a list comprehension on edges to extract the weights from the edge information into a list\n",
    "weights = [G[u][v]['weight'] for u,v,d in edges]"
   ]
  },
  {
   "cell_type": "code",
   "execution_count": 99,
   "metadata": {
    "scrolled": true
   },
   "outputs": [
    {
     "name": "stdout",
     "output_type": "stream",
     "text": [
      "[1.2, 0.8, 0.8, 1.6, 0.4, 0.8, 2.0, 0.8, 0.8, 1.2, 2.0, 1.6, 1.2, 2.0, 2.0, 0.8, 1.6, 1.6, 1.2, 2.0, 2.0, 1.2, 1.2, 0.4, 0.4, 1.2, 1.2, 0.8, 1.2, 0.8, 1.2, 1.6, 2.0, 0.4, 0.4, 2.0, 0.4, 2.0, 2.0, 2.0, 1.6, 1.6, 0.8, 1.2, 1.6, 2.0, 0.4, 2.0, 0.4, 2.0, 1.6, 1.2, 1.2, 2.0, 1.2, 1.2, 0.8, 1.6, 1.2, 2.0, 0.4, 1.6, 1.2, 0.8, 1.2, 0.8, 0.8, 1.6, 1.6, 0.8, 2.0, 2.0, 1.6, 2.0, 1.6, 2.0, 2.0, 1.2]\n"
     ]
    }
   ],
   "source": [
    "print(weights)"
   ]
  },
  {
   "cell_type": "markdown",
   "metadata": {},
   "source": [
    "Now we can plot the graph and set the size of the nodes to one of the centrality measures, color the nodes according to association of the color_map, and set the edge width to the weight.  \n",
    "\n",
    "There are many other manipulations of the graph node and edge attributes that we could set up in the meta-data to further refine the plot.\n",
    "\n",
    "Note also the layout in this case is spring.  This simulates the force that would balance the network if all the connections were modelled as spring forces. \n",
    "\n",
    "There are many other layouts that may make for a better vizualization on larger graphs."
   ]
  },
  {
   "cell_type": "markdown",
   "metadata": {},
   "source": [
    "<a id='SpringLayout'></a>\n",
    "# 8.1 Spring layout\n",
    "[TOC](#TOC)"
   ]
  },
  {
   "cell_type": "markdown",
   "metadata": {},
   "source": [
    "### Methods/functions to learn to use:\n",
    "\n",
    "* dictionary comprehension\n",
    "* `enumerate()` - set up enumerated list of tuples for a list\n",
    "* `nx.spring_layout`    - spring layout for graph\n",
    "* `nx.circular_layout`  - circular layout for graph\n",
    "* `nx.draw_networkx`    - draw a plot of graph including both node and edge information\n"
   ]
  },
  {
   "cell_type": "code",
   "execution_count": 100,
   "metadata": {},
   "outputs": [],
   "source": [
    "# set up a color map for the nodes - build a list with a color mapping to each node based on the column you have \n",
    "# selected.  Use \"Year\" as an example but you could also do on Degree, Role, SA etc.abs\n",
    "col = \"Year\"\n",
    "colors =[\"red\",\"blue\",\"green\",\"yellow\",\"orange\",\"cyan\"]\n",
    "\n",
    "# Use a dictionary comprehension to map each node value in column to node:color dictionary.  Use enumerate() to  \n",
    "# number the entries of unique values.\n",
    "dict = {year:colors[count] for count,year  in enumerate(node_df[col].unique())}"
   ]
  },
  {
   "cell_type": "code",
   "execution_count": 117,
   "metadata": {},
   "outputs": [
    {
     "data": {
      "text/plain": [
       "{'SR': 'red',\n",
       " 'JR': 'blue',\n",
       " 'PostBac': 'green',\n",
       " 'Grad': 'yellow',\n",
       " 'SO': 'orange'}"
      ]
     },
     "execution_count": 117,
     "metadata": {},
     "output_type": "execute_result"
    }
   ],
   "source": [
    "# inspect\n",
    "dict"
   ]
  },
  {
   "cell_type": "code",
   "execution_count": 118,
   "metadata": {},
   "outputs": [],
   "source": [
    "# now set up the color for each node in col in graph according to color map in dict\n",
    "color_map = []\n",
    "for node in G:\n",
    "    key = node_df.loc[node,col]\n",
    "    color_map.append(dict[key])"
   ]
  },
  {
   "cell_type": "code",
   "execution_count": 119,
   "metadata": {},
   "outputs": [
    {
     "data": {
      "text/plain": [
       "['red', 'blue', 'blue', 'green', 'blue', 'red', 'red', 'blue', 'blue', 'green']"
      ]
     },
     "execution_count": 119,
     "metadata": {},
     "output_type": "execute_result"
    }
   ],
   "source": [
    "# inspect\n",
    "color_map[0:10]"
   ]
  },
  {
   "cell_type": "code",
   "execution_count": 120,
   "metadata": {
    "scrolled": false
   },
   "outputs": [
    {
     "data": {
      "image/png": "[encoded data removed]",
      "text/plain": [
       "<Figure size 1080x720 with 1 Axes>"
      ]
     },
     "metadata": {},
     "output_type": "display_data"
    }
   ],
   "source": [
    "# Spring layout - this is usually a good one to use. use nx.spring_layout(). Set seed so graph gets drawn in same\n",
    "# orientation every time\n",
    "# NOTE: In this case graph is drawn with the node index label - Can we label with student's initials?\n",
    "pos = nx.spring_layout(G,seed=1234)  #setting the positions with respect to G\n",
    "plt.figure(figsize=(15,10))       #create figure and set figure size\n",
    "\n",
    "# assign node_colors, node_size equal to degree of node, play with node size until looks good, show edges and edge \n",
    "# widths\n",
    "nx.draw_networkx(G, pos=pos,node_color=color_map,node_size = 50*df2.degree,node_labels=False,\n",
    "                  edges=edges, width=weights)\n",
    "plt.title(\"Student Network Graph - Node IDs\",fontsize= 15)\n",
    "plt.show()"
   ]
  },
  {
   "cell_type": "markdown",
   "metadata": {},
   "source": [
    "Let's customize graph further by creating labels of initials for each of the students and setting the labels\n",
    "to the initials instead of node indexes"
   ]
  },
  {
   "cell_type": "code",
   "execution_count": 106,
   "metadata": {
    "scrolled": false
   },
   "outputs": [
    {
     "data": {
      "text/plain": [
       "Name      Zafiris.M\n",
       "Degree           DS\n",
       "Year             JR\n",
       "Role        Student\n",
       "SA                1\n",
       "Name: 16, dtype: object"
      ]
     },
     "execution_count": 106,
     "metadata": {},
     "output_type": "execute_result"
    }
   ],
   "source": [
    "# inspect node information for example node 30\n",
    "node_df.loc[16]"
   ]
  },
  {
   "cell_type": "markdown",
   "metadata": {},
   "source": [
    "### Methods/functions to learn to use:\n",
    "\n",
    "* dictionary comprehension\n",
    "* `enumerate()` - set up enumerated list of tuples for a list\n",
    "* `nx.spring_layout`    - spring layout for graph\n",
    "* `nx.circular_layout`  - circular layout for graph\n",
    "* `nx.draw_networkx`    - draw a plot of graph including both node and edge information\n",
    "* `draw_networkx_labels` - draw alternate labels on a graph nodes\n",
    "* `nx.draw_networkx_nodes` - draw nodes separately - allows more customization\n",
    "* `nx.draw_networkx_edges` - draw edges separately - allows more customization"
   ]
  },
  {
   "cell_type": "code",
   "execution_count": 112,
   "metadata": {},
   "outputs": [
    {
     "data": {
      "text/plain": [
       "(1,\n",
       " {'Name': 'Echard.M',\n",
       "  'Degree': 'DS',\n",
       "  'Year': 'SR',\n",
       "  'Role': 'Student',\n",
       "  'SA': 0,\n",
       "  'centrality': 6})"
      ]
     },
     "execution_count": 112,
     "metadata": {},
     "output_type": "execute_result"
    }
   ],
   "source": [
    "# inspect node data for first node - tuple of node index and position [0] and dictionary of metadata with \"Name\" at \n",
    "# position 1\n",
    "list(G.nodes(data=True))[0]"
   ]
  },
  {
   "cell_type": "code",
   "execution_count": 107,
   "metadata": {},
   "outputs": [],
   "source": [
    "# create the first name, last name initials labels for the graph. Use list slicing to get the first and last lettabser\n",
    "# of student's name, concat into a string and assign to key = node, value = initials in a dictionary.\n",
    "labels = {}\n",
    "for node in G.nodes(data=True):\n",
    "    labels[node[0]]= node[1][\"Name\"][-1:] +node[1][\"Name\"][0]"
   ]
  },
  {
   "cell_type": "code",
   "execution_count": 108,
   "metadata": {},
   "outputs": [
    {
     "name": "stdout",
     "output_type": "stream",
     "text": [
      "1 ME\n",
      "2 CE\n",
      "3 YI\n",
      "4 II\n"
     ]
    }
   ],
   "source": [
    "# inspect first five of labels dictionary\n",
    "for node,initials in labels.items():\n",
    "    if node < 5:\n",
    "        print(node,initials)\n",
    "    else:\n",
    "        break"
   ]
  },
  {
   "cell_type": "code",
   "execution_count": 110,
   "metadata": {
    "scrolled": false
   },
   "outputs": [
    {
     "data": {
      "image/png": "[encoded data removed]",
      "text/plain": [
       "<Figure size 1080x720 with 1 Axes>"
      ]
     },
     "metadata": {},
     "output_type": "display_data"
    }
   ],
   "source": [
    "# Spring layout - this is usually a good one to use\n",
    "pos = nx.spring_layout(G,seed=1234)  #setting the positions with respect to G, not k.\n",
    "plt.figure(figsize=(15,10))\n",
    "\n",
    "# set up new graph labels \n",
    "nx.draw_networkx_labels(G, pos, labels, font_size=16)\n",
    "\n",
    "# to get labels and not node index need to plot nodes and edges separately in this case.  As before set up layout, \n",
    "# color map and node size. Play with node size until good. In this case node size has been squared.  alpha = sets up \n",
    "# a transparency scale to make the graph easier to \"see through\"\n",
    "nx.draw_networkx_nodes(G, pos=pos,node_color=color_map,node_size = 4*df2.degree**2,node_labels=True,\n",
    "                  edges=edges, width=weights,alpha=0.8)\n",
    "nx.draw_networkx_edges(G, pos=pos,node_color=color_map,node_size = 50*df2.degree,node_labels=False,\n",
    "                  edges=edges,width=weights,alpha=0.3)\n",
    "\n",
    "plt.title(\"Student Network Graph - Name Initials\",fontsize= 15)\n",
    "plt.show()"
   ]
  },
  {
   "cell_type": "markdown",
   "metadata": {},
   "source": [
    "<a id='CircularLayout'></a>\n",
    "# 8.2 Circular layout\n",
    "[TOC](#TOC)"
   ]
  },
  {
   "cell_type": "code",
   "execution_count": 111,
   "metadata": {
    "scrolled": false
   },
   "outputs": [
    {
     "data": {
      "image/png": "[encoded data removed]",
      "text/plain": [
       "<Figure size 720x720 with 1 Axes>"
      ]
     },
     "metadata": {},
     "output_type": "display_data"
    }
   ],
   "source": [
    "# circular layout\n",
    "pos = nx.circular_layout(G)  #setting the positions with respect to G, not k.\n",
    "plt.figure(figsize=(10,10))\n",
    "\n",
    "nx.draw_networkx_labels(G, pos, labels, font_size=16)\n",
    "\n",
    "nx.draw_networkx_nodes(G, pos=pos,node_color=color_map,node_size = 50*df2.degree,node_labels=True,\n",
    "                  edges=edges, width=weights)\n",
    "nx.draw_networkx_edges(G, pos=pos,node_color=color_map,node_size = 50*df2.degree,node_labels=True,\n",
    "                  edges=edges, width=weights,alpha=0.3)\n",
    "plt.title(\"Karate Network Graph\",fontsize= 15)\n",
    "plt.show()"
   ]
  },
  {
   "cell_type": "markdown",
   "metadata": {},
   "source": [
    "### Circos layout"
   ]
  },
  {
   "cell_type": "markdown",
   "metadata": {},
   "source": [
    "<a id='CircosLayout'></a>\n",
    "# 8.3 Circos layout\n",
    "[TOC](#TOC)"
   ]
  },
  {
   "cell_type": "markdown",
   "metadata": {},
   "source": [
    "The \"circos\" plot layout is another useful plot layout sometimes seen, especially in genomic analysis connecting genetic relationships visually."
   ]
  },
  {
   "cell_type": "markdown",
   "metadata": {},
   "source": [
    "### Methods/functions to learn to use:\n",
    "\n",
    "* `CircosPlot()`\n",
    "* `.sort_values(by= )`"
   ]
  },
  {
   "cell_type": "code",
   "execution_count": 112,
   "metadata": {
    "scrolled": true
   },
   "outputs": [
    {
     "data": {
      "text/html": [
       "<div>\n",
       "<style scoped>\n",
       "    .dataframe tbody tr th:only-of-type {\n",
       "        vertical-align: middle;\n",
       "    }\n",
       "\n",
       "    .dataframe tbody tr th {\n",
       "        vertical-align: top;\n",
       "    }\n",
       "\n",
       "    .dataframe thead th {\n",
       "        text-align: right;\n",
       "    }\n",
       "</style>\n",
       "<table border=\"1\" class=\"dataframe\">\n",
       "  <thead>\n",
       "    <tr style=\"text-align: right;\">\n",
       "      <th></th>\n",
       "      <th>Name</th>\n",
       "      <th>Degree</th>\n",
       "      <th>Year</th>\n",
       "      <th>Role</th>\n",
       "      <th>SA</th>\n",
       "      <th>degree</th>\n",
       "      <th>degree_wtd</th>\n",
       "      <th>deg_cent</th>\n",
       "      <th>between_cent</th>\n",
       "      <th>close_cent</th>\n",
       "      <th>clustering</th>\n",
       "    </tr>\n",
       "    <tr>\n",
       "      <th>node</th>\n",
       "      <th></th>\n",
       "      <th></th>\n",
       "      <th></th>\n",
       "      <th></th>\n",
       "      <th></th>\n",
       "      <th></th>\n",
       "      <th></th>\n",
       "      <th></th>\n",
       "      <th></th>\n",
       "      <th></th>\n",
       "      <th></th>\n",
       "    </tr>\n",
       "  </thead>\n",
       "  <tbody>\n",
       "    <tr>\n",
       "      <td>12</td>\n",
       "      <td>Rios.R</td>\n",
       "      <td>DS</td>\n",
       "      <td>SR</td>\n",
       "      <td>Student</td>\n",
       "      <td>0</td>\n",
       "      <td>10</td>\n",
       "      <td>14.0</td>\n",
       "      <td>0.208333</td>\n",
       "      <td>0.224569</td>\n",
       "      <td>0.484848</td>\n",
       "      <td>0.311111</td>\n",
       "    </tr>\n",
       "    <tr>\n",
       "      <td>15</td>\n",
       "      <td>Vega.O</td>\n",
       "      <td>DS</td>\n",
       "      <td>SR</td>\n",
       "      <td>Student</td>\n",
       "      <td>0</td>\n",
       "      <td>9</td>\n",
       "      <td>13.6</td>\n",
       "      <td>0.187500</td>\n",
       "      <td>0.166903</td>\n",
       "      <td>0.421053</td>\n",
       "      <td>0.111111</td>\n",
       "    </tr>\n",
       "    <tr>\n",
       "      <td>11</td>\n",
       "      <td>Pham.J</td>\n",
       "      <td>DS</td>\n",
       "      <td>SR</td>\n",
       "      <td>Student</td>\n",
       "      <td>0</td>\n",
       "      <td>8</td>\n",
       "      <td>8.8</td>\n",
       "      <td>0.166667</td>\n",
       "      <td>0.180763</td>\n",
       "      <td>0.461538</td>\n",
       "      <td>0.285714</td>\n",
       "    </tr>\n",
       "    <tr>\n",
       "      <td>1</td>\n",
       "      <td>Echard.M</td>\n",
       "      <td>DS</td>\n",
       "      <td>SR</td>\n",
       "      <td>Student</td>\n",
       "      <td>0</td>\n",
       "      <td>6</td>\n",
       "      <td>5.6</td>\n",
       "      <td>0.125000</td>\n",
       "      <td>0.029685</td>\n",
       "      <td>0.393443</td>\n",
       "      <td>0.466667</td>\n",
       "    </tr>\n",
       "    <tr>\n",
       "      <td>7</td>\n",
       "      <td>Martinez.M</td>\n",
       "      <td>DS</td>\n",
       "      <td>SR</td>\n",
       "      <td>Student</td>\n",
       "      <td>0</td>\n",
       "      <td>6</td>\n",
       "      <td>7.2</td>\n",
       "      <td>0.125000</td>\n",
       "      <td>0.059205</td>\n",
       "      <td>0.387097</td>\n",
       "      <td>0.133333</td>\n",
       "    </tr>\n",
       "  </tbody>\n",
       "</table>\n",
       "</div>"
      ],
      "text/plain": [
       "            Name Degree Year     Role  SA  degree  degree_wtd  deg_cent  \\\n",
       "node                                                                      \n",
       "12        Rios.R     DS   SR  Student   0      10        14.0  0.208333   \n",
       "15        Vega.O     DS   SR  Student   0       9        13.6  0.187500   \n",
       "11        Pham.J     DS   SR  Student   0       8         8.8  0.166667   \n",
       "1       Echard.M     DS   SR  Student   0       6         5.6  0.125000   \n",
       "7     Martinez.M     DS   SR  Student   0       6         7.2  0.125000   \n",
       "\n",
       "      between_cent  close_cent  clustering  \n",
       "node                                        \n",
       "12        0.224569    0.484848    0.311111  \n",
       "15        0.166903    0.421053    0.111111  \n",
       "11        0.180763    0.461538    0.285714  \n",
       "1         0.029685    0.393443    0.466667  \n",
       "7         0.059205    0.387097    0.133333  "
      ]
     },
     "execution_count": 112,
     "metadata": {},
     "output_type": "execute_result"
    }
   ],
   "source": [
    "# let's see highest degree nodes by year and degree - sort the df2 dataframe in ascending order by year and degree\n",
    "# centrality within year  - What are the top 3 nodes/students with the highest number of connections?\n",
    "df2.sort_values(by=[\"Year\",\"degree\"],ascending=False).head()"
   ]
  },
  {
   "cell_type": "code",
   "execution_count": 113,
   "metadata": {},
   "outputs": [
    {
     "data": {
      "text/plain": [
       "{'Name': 'Ibe.J',\n",
       " 'Degree': 'DS',\n",
       " 'Year': 'SR',\n",
       " 'Role': 'Student',\n",
       " 'SA': 1,\n",
       " 'centrality': 1}"
      ]
     },
     "execution_count": 113,
     "metadata": {},
     "output_type": "execute_result"
    }
   ],
   "source": [
    "# need to create meta-data in dictionary for circos plot - add centrality measure\n",
    "for n in G.nodes():\n",
    "    G.nodes[n]['centrality'] = df2.degree.loc[n]\n",
    "G.nodes[33]"
   ]
  },
  {
   "cell_type": "code",
   "execution_count": 116,
   "metadata": {
    "scrolled": true
   },
   "outputs": [
    {
     "data": {
      "image/png": "[encoded data removed]",
      "text/plain": [
       "<Figure size 720x720 with 1 Axes>"
      ]
     },
     "metadata": {
      "needs_background": "light"
     },
     "output_type": "display_data"
    }
   ],
   "source": [
    "# Import necessary modules\n",
    "import matplotlib.pyplot as plt\n",
    "\n",
    "from nxviz import CircosPlot\n",
    "#import CircosPlot from nxviz\n",
    "\n",
    "\n",
    "# Create the CircosPlot object: c\n",
    "# Color nodes by \"Year\", group by \"Year\", order by centrality, set edge width to weight\n",
    "c = CircosPlot(G,node_color = \"Year\",node_grouping= \"Year\",node_order = 'centrality',node_labels=True,\n",
    "               edge_width = 'weight',figsize= (10,10))\n",
    "plt.title(\"Circos plot of Student Network\")\n",
    "\n",
    "# Draw c to the screen\n",
    "c.draw()\n",
    "\n",
    "# Display the plot\n",
    "plt.show()\n",
    "\n"
   ]
  },
  {
   "cell_type": "markdown",
   "metadata": {},
   "source": [
    "<a id='Subgraph'></a>\n",
    "# 9 Creating a sub-graph\n",
    "[TOC](#TOC)"
   ]
  },
  {
   "cell_type": "markdown",
   "metadata": {},
   "source": [
    "### Methods/functions to learn to use:\n",
    "\n",
    "* `.subgraph()`\n",
    "* `.sort_values(by= )`"
   ]
  },
  {
   "cell_type": "markdown",
   "metadata": {},
   "source": [
    "Sometimes it is useful to examine a sub-graph of selected nodes in a network.  We can use the subgraph() method for this."
   ]
  },
  {
   "cell_type": "code",
   "execution_count": 115,
   "metadata": {},
   "outputs": [
    {
     "data": {
      "image/png": "[encoded data removed]",
      "text/plain": [
       "<Figure size 432x432 with 1 Axes>"
      ]
     },
     "metadata": {},
     "output_type": "display_data"
    }
   ],
   "source": [
    "# suppose we want the subgraph of the following nodes\n",
    "res = [5,3,2,9,8,16,31,10,13,4]\n",
    "k = G.subgraph(res)  \n",
    "pos = nx.spring_layout(k)  #setting the positions with respect to G, not k.\n",
    "plt.figure(figsize=(6,6))\n",
    "nx.draw_networkx(k, pos=pos)\n",
    "plt.show()"
   ]
  },
  {
   "cell_type": "markdown",
   "metadata": {},
   "source": [
    "<pre>_____________________________________________________________________________________________________</pre>"
   ]
  },
  {
   "cell_type": "markdown",
   "metadata": {},
   "source": [
    "<a id='ExtraCredit'></a>\n",
    "# 10 Extra Credit and Questions \n",
    "## Answer this problem in a new Jupyter Notebook\n",
    "[TOC](#TOC)"
   ]
  },
  {
   "cell_type": "code",
   "execution_count": 121,
   "metadata": {},
   "outputs": [],
   "source": [
    "# Repeat analysis using the CS2311 Spring 2020 Student data file"
   ]
  },
  {
   "cell_type": "markdown",
   "metadata": {},
   "source": [
    "1.\tWhat is the shortest path between me and the highest centrality node? (assuming you aren’t the highest centrality node otherwise, pick the next most central node)."
   ]
  },
  {
   "cell_type": "markdown",
   "metadata": {},
   "source": [
    "2.\tWho are the neighbors of the highest degree centrality node?"
   ]
  },
  {
   "cell_type": "markdown",
   "metadata": {},
   "source": [
    "3.\tWhat is the subgraph and plot of your node and the nodes of the two highest degree centrality node – This could form a basis for a recommendation engine for students to get to know (they seem to be connected and central for some reason)"
   ]
  }
 ],
 "metadata": {
  "kernelspec": {
   "display_name": "Python 3",
   "language": "python",
   "name": "python3"
  },
  "language_info": {
   "codemirror_mode": {
    "name": "ipython",
    "version": 3
   },
   "file_extension": ".py",
   "mimetype": "text/x-python",
   "name": "python",
   "nbconvert_exporter": "python",
   "pygments_lexer": "ipython3",
   "version": "3.7.4"
  }
 },
 "nbformat": 4,
 "nbformat_minor": 2
}
