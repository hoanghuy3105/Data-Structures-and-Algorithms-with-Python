{
 "cells": [
  {
   "cell_type": "code",
   "execution_count": null,
   "metadata": {},
   "outputs": [],
   "source": [
    "#Extra Credit Assignment"
   ]
  },
  {
   "cell_type": "code",
   "execution_count": null,
   "metadata": {},
   "outputs": [],
   "source": [
    "#Student Name: Huy Huynh"
   ]
  },
  {
   "cell_type": "code",
   "execution_count": 391,
   "metadata": {},
   "outputs": [],
   "source": [
    "import pandas as pd\n",
    "import numpy as np\n",
    "import matplotlib.pyplot as plt\n",
    "import seaborn as sns\n",
    "import networkx as nx               \n",
    "from nxviz import CircosPlot"
   ]
  },
  {
   "cell_type": "code",
   "execution_count": 392,
   "metadata": {},
   "outputs": [
    {
     "data": {
      "text/html": [
       "<style>div.output_scroll { height: 44em; }</style>"
      ],
      "text/plain": [
       "<IPython.core.display.HTML object>"
      ]
     },
     "metadata": {},
     "output_type": "display_data"
    }
   ],
   "source": [
    "from IPython.core.display import display, HTML\n",
    "# Modify the height of your scolling output window in Jupyter notebook\n",
    "display(HTML(\"<style>div.output_scroll { height: 44em; }</style>\"))"
   ]
  },
  {
   "cell_type": "code",
   "execution_count": 393,
   "metadata": {},
   "outputs": [],
   "source": [
    "# read from excel\n",
    "xlsx = pd.ExcelFile('CS2311 S20GraphEntry.xlsx')"
   ]
  },
  {
   "cell_type": "code",
   "execution_count": 394,
   "metadata": {},
   "outputs": [
    {
     "data": {
      "text/plain": [
       "pandas.io.excel._base.ExcelFile"
      ]
     },
     "execution_count": 394,
     "metadata": {},
     "output_type": "execute_result"
    }
   ],
   "source": [
    "type(xlsx) "
   ]
  },
  {
   "cell_type": "code",
   "execution_count": 395,
   "metadata": {},
   "outputs": [],
   "source": [
    "edge_df = pd.read_excel(xlsx, sheet_name = \"Edge_List\")"
   ]
  },
  {
   "cell_type": "code",
   "execution_count": 396,
   "metadata": {},
   "outputs": [
    {
     "data": {
      "text/html": [
       "<div>\n",
       "<style scoped>\n",
       "    .dataframe tbody tr th:only-of-type {\n",
       "        vertical-align: middle;\n",
       "    }\n",
       "\n",
       "    .dataframe tbody tr th {\n",
       "        vertical-align: top;\n",
       "    }\n",
       "\n",
       "    .dataframe thead th {\n",
       "        text-align: right;\n",
       "    }\n",
       "</style>\n",
       "<table border=\"1\" class=\"dataframe\">\n",
       "  <thead>\n",
       "    <tr style=\"text-align: right;\">\n",
       "      <th></th>\n",
       "      <th>N_1_Index</th>\n",
       "      <th>N_2_Index</th>\n",
       "      <th>Frequency_(1-5)</th>\n",
       "    </tr>\n",
       "  </thead>\n",
       "  <tbody>\n",
       "    <tr>\n",
       "      <td>0</td>\n",
       "      <td>1</td>\n",
       "      <td>23</td>\n",
       "      <td>1.6</td>\n",
       "    </tr>\n",
       "    <tr>\n",
       "      <td>1</td>\n",
       "      <td>1</td>\n",
       "      <td>20</td>\n",
       "      <td>1.2</td>\n",
       "    </tr>\n",
       "    <tr>\n",
       "      <td>2</td>\n",
       "      <td>1</td>\n",
       "      <td>18</td>\n",
       "      <td>0.8</td>\n",
       "    </tr>\n",
       "    <tr>\n",
       "      <td>3</td>\n",
       "      <td>1</td>\n",
       "      <td>4</td>\n",
       "      <td>0.4</td>\n",
       "    </tr>\n",
       "    <tr>\n",
       "      <td>4</td>\n",
       "      <td>1</td>\n",
       "      <td>3</td>\n",
       "      <td>0.4</td>\n",
       "    </tr>\n",
       "  </tbody>\n",
       "</table>\n",
       "</div>"
      ],
      "text/plain": [
       "   N_1_Index  N_2_Index  Frequency_(1-5)\n",
       "0          1         23              1.6\n",
       "1          1         20              1.2\n",
       "2          1         18              0.8\n",
       "3          1          4              0.4\n",
       "4          1          3              0.4"
      ]
     },
     "execution_count": 396,
     "metadata": {},
     "output_type": "execute_result"
    }
   ],
   "source": [
    "edge_df.head()"
   ]
  },
  {
   "cell_type": "code",
   "execution_count": 397,
   "metadata": {},
   "outputs": [
    {
     "data": {
      "text/plain": [
       "N_1_Index            int64\n",
       "N_2_Index            int64\n",
       "Frequency_(1-5)    float64\n",
       "dtype: object"
      ]
     },
     "execution_count": 397,
     "metadata": {},
     "output_type": "execute_result"
    }
   ],
   "source": [
    "edge_df.dtypes"
   ]
  },
  {
   "cell_type": "code",
   "execution_count": 398,
   "metadata": {},
   "outputs": [
    {
     "name": "stdout",
     "output_type": "stream",
     "text": [
      "<class 'pandas.core.frame.DataFrame'>\n",
      "RangeIndex: 91 entries, 0 to 90\n",
      "Data columns (total 3 columns):\n",
      "N_1_Index          91 non-null int64\n",
      "N_2_Index          91 non-null int64\n",
      "Frequency_(1-5)    91 non-null float64\n",
      "dtypes: float64(1), int64(2)\n",
      "memory usage: 2.3 KB\n"
     ]
    }
   ],
   "source": [
    "edge_df.info()"
   ]
  },
  {
   "cell_type": "code",
   "execution_count": 399,
   "metadata": {},
   "outputs": [
    {
     "data": {
      "text/plain": [
       "N_1_Index          0\n",
       "N_2_Index          0\n",
       "Frequency_(1-5)    0\n",
       "dtype: int64"
      ]
     },
     "execution_count": 399,
     "metadata": {},
     "output_type": "execute_result"
    }
   ],
   "source": [
    "edge_df.isna().sum()"
   ]
  },
  {
   "cell_type": "code",
   "execution_count": 400,
   "metadata": {},
   "outputs": [
    {
     "data": {
      "text/html": [
       "<div>\n",
       "<style scoped>\n",
       "    .dataframe tbody tr th:only-of-type {\n",
       "        vertical-align: middle;\n",
       "    }\n",
       "\n",
       "    .dataframe tbody tr th {\n",
       "        vertical-align: top;\n",
       "    }\n",
       "\n",
       "    .dataframe thead th {\n",
       "        text-align: right;\n",
       "    }\n",
       "</style>\n",
       "<table border=\"1\" class=\"dataframe\">\n",
       "  <thead>\n",
       "    <tr style=\"text-align: right;\">\n",
       "      <th></th>\n",
       "      <th>N_1_Index</th>\n",
       "      <th>N_2_Index</th>\n",
       "      <th>Frequency_(1-5)</th>\n",
       "    </tr>\n",
       "  </thead>\n",
       "  <tbody>\n",
       "    <tr>\n",
       "      <td>count</td>\n",
       "      <td>91.000000</td>\n",
       "      <td>91.000000</td>\n",
       "      <td>91.000000</td>\n",
       "    </tr>\n",
       "    <tr>\n",
       "      <td>mean</td>\n",
       "      <td>13.494505</td>\n",
       "      <td>28.560440</td>\n",
       "      <td>1.331868</td>\n",
       "    </tr>\n",
       "    <tr>\n",
       "      <td>std</td>\n",
       "      <td>8.212962</td>\n",
       "      <td>15.954246</td>\n",
       "      <td>0.587439</td>\n",
       "    </tr>\n",
       "    <tr>\n",
       "      <td>min</td>\n",
       "      <td>1.000000</td>\n",
       "      <td>1.000000</td>\n",
       "      <td>0.400000</td>\n",
       "    </tr>\n",
       "    <tr>\n",
       "      <td>25%</td>\n",
       "      <td>6.000000</td>\n",
       "      <td>14.000000</td>\n",
       "      <td>0.800000</td>\n",
       "    </tr>\n",
       "    <tr>\n",
       "      <td>50%</td>\n",
       "      <td>13.000000</td>\n",
       "      <td>32.000000</td>\n",
       "      <td>1.200000</td>\n",
       "    </tr>\n",
       "    <tr>\n",
       "      <td>75%</td>\n",
       "      <td>22.000000</td>\n",
       "      <td>39.500000</td>\n",
       "      <td>2.000000</td>\n",
       "    </tr>\n",
       "    <tr>\n",
       "      <td>max</td>\n",
       "      <td>26.000000</td>\n",
       "      <td>56.000000</td>\n",
       "      <td>2.000000</td>\n",
       "    </tr>\n",
       "  </tbody>\n",
       "</table>\n",
       "</div>"
      ],
      "text/plain": [
       "       N_1_Index  N_2_Index  Frequency_(1-5)\n",
       "count  91.000000  91.000000        91.000000\n",
       "mean   13.494505  28.560440         1.331868\n",
       "std     8.212962  15.954246         0.587439\n",
       "min     1.000000   1.000000         0.400000\n",
       "25%     6.000000  14.000000         0.800000\n",
       "50%    13.000000  32.000000         1.200000\n",
       "75%    22.000000  39.500000         2.000000\n",
       "max    26.000000  56.000000         2.000000"
      ]
     },
     "execution_count": 400,
     "metadata": {},
     "output_type": "execute_result"
    }
   ],
   "source": [
    "edge_df.describe()"
   ]
  },
  {
   "cell_type": "code",
   "execution_count": 401,
   "metadata": {},
   "outputs": [
    {
     "data": {
      "text/plain": [
       "<matplotlib.axes._subplots.AxesSubplot at 0x1a19b56a50>"
      ]
     },
     "execution_count": 401,
     "metadata": {},
     "output_type": "execute_result"
    },
    {
     "data": {
      "image/png": "[encoded data removed]",
      "text/plain": [
       "<Figure size 432x288 with 3 Axes>"
      ]
     },
     "metadata": {
      "needs_background": "light"
     },
     "output_type": "display_data"
    }
   ],
   "source": [
    "# Visualize the distribution of the columns - set up a subplot grid 1x3 for this\n",
    "fig,ax = plt.subplots(1,3)\n",
    "plt.subplots_adjust(wspace=1, hspace=1)\n",
    "sns.distplot(edge_df[\"Frequency_(1-5)\"],ax=ax[0],bins=10)\n",
    "sns.distplot(edge_df[\"N_1_Index\"],ax=ax[1],bins=10)\n",
    "sns.distplot(edge_df[\"N_2_Index\"],ax=ax[2],bins=10)"
   ]
  },
  {
   "cell_type": "code",
   "execution_count": 402,
   "metadata": {},
   "outputs": [
    {
     "data": {
      "text/plain": [
       "array([ 1, 10,  3,  6, 22, 13, 15, 17, 26,  7, 11, 24, 20,  4,  9, 25])"
      ]
     },
     "metadata": {},
     "output_type": "display_data"
    },
    {
     "data": {
      "text/plain": [
       "array([ 1,  3,  4,  6,  9, 10, 11, 13, 15, 17, 18, 19, 20, 22, 23, 24, 25,\n",
       "       26, 27, 28, 29, 30, 31, 32, 33, 34, 35, 36, 37, 38, 39, 40, 41, 42,\n",
       "       43, 44, 45, 46, 47, 48, 49, 50, 51, 52, 53, 54, 55, 56])"
      ]
     },
     "metadata": {},
     "output_type": "display_data"
    }
   ],
   "source": [
    "# Find number of unique values in N_1_Index and N_2_Index. Using display() here to do the pretty print of the output.\n",
    "# Methods to use:  .unique(), .sort_values()\n",
    "display(edge_df.N_1_Index.unique())\n",
    "display(edge_df.N_2_Index.sort_values().unique())"
   ]
  },
  {
   "cell_type": "code",
   "execution_count": 403,
   "metadata": {},
   "outputs": [],
   "source": [
    "e1 = edge_df.N_1_Index"
   ]
  },
  {
   "cell_type": "code",
   "execution_count": 404,
   "metadata": {},
   "outputs": [],
   "source": [
    "e2 = edge_df.N_2_Index"
   ]
  },
  {
   "cell_type": "code",
   "execution_count": 405,
   "metadata": {},
   "outputs": [],
   "source": [
    "def f(e1,e2):\n",
    "    pairs = []\n",
    "    for i in range(len(e1)):\n",
    "        #print(str(e1),str(e2))\n",
    "        if e1[i] < e2[i]:\n",
    "            s = (format(e1[i],\".2f\") + format(e2[i],\".2f\"))\n",
    "        else:\n",
    "            s = (format(e2[i],\".2f\") + format(e1[i],\".2f\"))\n",
    "        pairs.append(s)\n",
    "    return pairs"
   ]
  },
  {
   "cell_type": "code",
   "execution_count": 406,
   "metadata": {},
   "outputs": [],
   "source": [
    "l = f(e1,e2)"
   ]
  },
  {
   "cell_type": "code",
   "execution_count": 407,
   "metadata": {},
   "outputs": [
    {
     "data": {
      "text/html": [
       "<div>\n",
       "<style scoped>\n",
       "    .dataframe tbody tr th:only-of-type {\n",
       "        vertical-align: middle;\n",
       "    }\n",
       "\n",
       "    .dataframe tbody tr th {\n",
       "        vertical-align: top;\n",
       "    }\n",
       "\n",
       "    .dataframe thead th {\n",
       "        text-align: right;\n",
       "    }\n",
       "</style>\n",
       "<table border=\"1\" class=\"dataframe\">\n",
       "  <thead>\n",
       "    <tr style=\"text-align: right;\">\n",
       "      <th></th>\n",
       "      <th>N_1_Index</th>\n",
       "      <th>N_2_Index</th>\n",
       "      <th>Frequency_(1-5)</th>\n",
       "      <th>pairs</th>\n",
       "    </tr>\n",
       "  </thead>\n",
       "  <tbody>\n",
       "    <tr>\n",
       "      <td>0</td>\n",
       "      <td>1</td>\n",
       "      <td>23</td>\n",
       "      <td>1.6</td>\n",
       "      <td>1.0023.00</td>\n",
       "    </tr>\n",
       "    <tr>\n",
       "      <td>1</td>\n",
       "      <td>1</td>\n",
       "      <td>20</td>\n",
       "      <td>1.2</td>\n",
       "      <td>1.0020.00</td>\n",
       "    </tr>\n",
       "    <tr>\n",
       "      <td>2</td>\n",
       "      <td>1</td>\n",
       "      <td>18</td>\n",
       "      <td>0.8</td>\n",
       "      <td>1.0018.00</td>\n",
       "    </tr>\n",
       "    <tr>\n",
       "      <td>3</td>\n",
       "      <td>1</td>\n",
       "      <td>4</td>\n",
       "      <td>0.4</td>\n",
       "      <td>1.004.00</td>\n",
       "    </tr>\n",
       "    <tr>\n",
       "      <td>4</td>\n",
       "      <td>1</td>\n",
       "      <td>3</td>\n",
       "      <td>0.4</td>\n",
       "      <td>1.003.00</td>\n",
       "    </tr>\n",
       "  </tbody>\n",
       "</table>\n",
       "</div>"
      ],
      "text/plain": [
       "   N_1_Index  N_2_Index  Frequency_(1-5)      pairs\n",
       "0          1         23              1.6  1.0023.00\n",
       "1          1         20              1.2  1.0020.00\n",
       "2          1         18              0.8  1.0018.00\n",
       "3          1          4              0.4   1.004.00\n",
       "4          1          3              0.4   1.003.00"
      ]
     },
     "execution_count": 407,
     "metadata": {},
     "output_type": "execute_result"
    }
   ],
   "source": [
    "edge_df[\"pairs\"]=pd.Series(l)\n",
    "edge_df.head()"
   ]
  },
  {
   "cell_type": "code",
   "execution_count": 408,
   "metadata": {},
   "outputs": [
    {
     "data": {
      "text/plain": [
       "array([False, False, False,  True, False, False, False,  True, False,\n",
       "        True,  True, False, False, False, False, False, False, False,\n",
       "        True, False,  True, False, False, False, False, False, False,\n",
       "       False, False,  True,  True,  True, False, False, False, False,\n",
       "       False,  True,  True, False, False, False, False,  True, False,\n",
       "       False, False, False, False, False, False, False, False, False,\n",
       "       False,  True,  True, False, False, False, False, False, False,\n",
       "        True, False, False, False,  True, False, False, False, False,\n",
       "       False,  True,  True,  True, False, False, False,  True, False,\n",
       "       False,  True,  True, False, False, False, False, False, False,\n",
       "       False])"
      ]
     },
     "execution_count": 408,
     "metadata": {},
     "output_type": "execute_result"
    }
   ],
   "source": [
    "# identify the duplicates using .duplicated - show all duplicates - notice that there are indeed a few duplicates.\n",
    "# show the values for the dataframe\n",
    "dups = edge_df.pairs.duplicated(keep=False)\n",
    "dups.values"
   ]
  },
  {
   "cell_type": "code",
   "execution_count": 409,
   "metadata": {},
   "outputs": [
    {
     "data": {
      "text/plain": [
       "{'1.004.00': 0.4,\n",
       " '11.0017.00': 2.0,\n",
       " '15.0020.00': 1.6,\n",
       " '22.0026.00': 1.0,\n",
       " '3.0013.00': 1.6,\n",
       " '3.004.00': 2.0,\n",
       " '3.009.00': 0.6000000000000001,\n",
       " '4.0013.00': 2.0,\n",
       " '6.0024.00': 1.2,\n",
       " '9.0011.00': 2.0,\n",
       " '9.0017.00': 2.0}"
      ]
     },
     "execution_count": 409,
     "metadata": {},
     "output_type": "execute_result"
    }
   ],
   "source": [
    "fmap = edge_df[dups.values].groupby(\"pairs\")[\"Frequency_(1-5)\"].apply(np.mean).to_dict()\n",
    "fmap"
   ]
  },
  {
   "cell_type": "code",
   "execution_count": 410,
   "metadata": {},
   "outputs": [],
   "source": [
    "# create a new column \"temp\" that will map the value in \"pairs\" to value in fmap. All other values in temp where therabse\n",
    "# is no map will be set to NaN\n",
    "edge_df[\"temp\"]=edge_df[\"pairs\"].map(fmap)"
   ]
  },
  {
   "cell_type": "code",
   "execution_count": 411,
   "metadata": {},
   "outputs": [],
   "source": [
    "# fill then NaN values with the values in the \"Frequency_(1-5) column\". Use inplace=True to permanently change values\n",
    "edge_df.temp.fillna(edge_df[\"Frequency_(1-5)\"],inplace=True)"
   ]
  },
  {
   "cell_type": "code",
   "execution_count": 412,
   "metadata": {},
   "outputs": [
    {
     "data": {
      "text/html": [
       "<div>\n",
       "<style scoped>\n",
       "    .dataframe tbody tr th:only-of-type {\n",
       "        vertical-align: middle;\n",
       "    }\n",
       "\n",
       "    .dataframe tbody tr th {\n",
       "        vertical-align: top;\n",
       "    }\n",
       "\n",
       "    .dataframe thead th {\n",
       "        text-align: right;\n",
       "    }\n",
       "</style>\n",
       "<table border=\"1\" class=\"dataframe\">\n",
       "  <thead>\n",
       "    <tr style=\"text-align: right;\">\n",
       "      <th></th>\n",
       "      <th>N_1_Index</th>\n",
       "      <th>N_2_Index</th>\n",
       "      <th>Frequency_(1-5)</th>\n",
       "      <th>pairs</th>\n",
       "      <th>temp</th>\n",
       "    </tr>\n",
       "  </thead>\n",
       "  <tbody>\n",
       "    <tr>\n",
       "      <td>0</td>\n",
       "      <td>1</td>\n",
       "      <td>23</td>\n",
       "      <td>1.6</td>\n",
       "      <td>1.0023.00</td>\n",
       "      <td>1.6</td>\n",
       "    </tr>\n",
       "    <tr>\n",
       "      <td>1</td>\n",
       "      <td>1</td>\n",
       "      <td>20</td>\n",
       "      <td>1.2</td>\n",
       "      <td>1.0020.00</td>\n",
       "      <td>1.2</td>\n",
       "    </tr>\n",
       "    <tr>\n",
       "      <td>2</td>\n",
       "      <td>1</td>\n",
       "      <td>18</td>\n",
       "      <td>0.8</td>\n",
       "      <td>1.0018.00</td>\n",
       "      <td>0.8</td>\n",
       "    </tr>\n",
       "    <tr>\n",
       "      <td>3</td>\n",
       "      <td>1</td>\n",
       "      <td>4</td>\n",
       "      <td>0.4</td>\n",
       "      <td>1.004.00</td>\n",
       "      <td>0.4</td>\n",
       "    </tr>\n",
       "    <tr>\n",
       "      <td>4</td>\n",
       "      <td>1</td>\n",
       "      <td>3</td>\n",
       "      <td>0.4</td>\n",
       "      <td>1.003.00</td>\n",
       "      <td>0.4</td>\n",
       "    </tr>\n",
       "  </tbody>\n",
       "</table>\n",
       "</div>"
      ],
      "text/plain": [
       "   N_1_Index  N_2_Index  Frequency_(1-5)      pairs  temp\n",
       "0          1         23              1.6  1.0023.00   1.6\n",
       "1          1         20              1.2  1.0020.00   1.2\n",
       "2          1         18              0.8  1.0018.00   0.8\n",
       "3          1          4              0.4   1.004.00   0.4\n",
       "4          1          3              0.4   1.003.00   0.4"
      ]
     },
     "execution_count": 412,
     "metadata": {},
     "output_type": "execute_result"
    }
   ],
   "source": [
    "# inspect - notice that Frequenc_(1-5) and temp now match except for duplicates in temp that have the average value\n",
    "edge_df.head()"
   ]
  },
  {
   "cell_type": "code",
   "execution_count": 413,
   "metadata": {},
   "outputs": [],
   "source": [
    "# Now assign the \"temp\" colum to \"Frequency_(1-5)\", drop the duplicates in the \"pairs\" column, keeping the first and\n",
    "# use inplace=True to permanetly modify\n",
    "edge_df[\"temp\"]=edge_df[\"Frequency_(1-5)\"]"
   ]
  },
  {
   "cell_type": "code",
   "execution_count": 414,
   "metadata": {},
   "outputs": [],
   "source": [
    "edge_df.drop_duplicates(\"pairs\",keep=\"first\",inplace=True)"
   ]
  },
  {
   "cell_type": "code",
   "execution_count": 415,
   "metadata": {},
   "outputs": [],
   "source": [
    "# Drop the \"pairs\", and \"temp\" columns since they are not needed any more\n",
    "edge_df.drop([\"pairs\",\"temp\"],axis=\"columns\",inplace=True)"
   ]
  },
  {
   "cell_type": "code",
   "execution_count": 416,
   "metadata": {},
   "outputs": [
    {
     "data": {
      "text/html": [
       "<div>\n",
       "<style scoped>\n",
       "    .dataframe tbody tr th:only-of-type {\n",
       "        vertical-align: middle;\n",
       "    }\n",
       "\n",
       "    .dataframe tbody tr th {\n",
       "        vertical-align: top;\n",
       "    }\n",
       "\n",
       "    .dataframe thead th {\n",
       "        text-align: right;\n",
       "    }\n",
       "</style>\n",
       "<table border=\"1\" class=\"dataframe\">\n",
       "  <thead>\n",
       "    <tr style=\"text-align: right;\">\n",
       "      <th></th>\n",
       "      <th>N_1_Index</th>\n",
       "      <th>N_2_Index</th>\n",
       "      <th>Frequency_(1-5)</th>\n",
       "    </tr>\n",
       "  </thead>\n",
       "  <tbody>\n",
       "    <tr>\n",
       "      <td>0</td>\n",
       "      <td>1</td>\n",
       "      <td>23</td>\n",
       "      <td>1.6</td>\n",
       "    </tr>\n",
       "    <tr>\n",
       "      <td>1</td>\n",
       "      <td>1</td>\n",
       "      <td>20</td>\n",
       "      <td>1.2</td>\n",
       "    </tr>\n",
       "    <tr>\n",
       "      <td>2</td>\n",
       "      <td>1</td>\n",
       "      <td>18</td>\n",
       "      <td>0.8</td>\n",
       "    </tr>\n",
       "    <tr>\n",
       "      <td>3</td>\n",
       "      <td>1</td>\n",
       "      <td>4</td>\n",
       "      <td>0.4</td>\n",
       "    </tr>\n",
       "    <tr>\n",
       "      <td>4</td>\n",
       "      <td>1</td>\n",
       "      <td>3</td>\n",
       "      <td>0.4</td>\n",
       "    </tr>\n",
       "    <tr>\n",
       "      <td>...</td>\n",
       "      <td>...</td>\n",
       "      <td>...</td>\n",
       "      <td>...</td>\n",
       "    </tr>\n",
       "    <tr>\n",
       "      <td>86</td>\n",
       "      <td>25</td>\n",
       "      <td>37</td>\n",
       "      <td>1.2</td>\n",
       "    </tr>\n",
       "    <tr>\n",
       "      <td>87</td>\n",
       "      <td>25</td>\n",
       "      <td>9</td>\n",
       "      <td>0.4</td>\n",
       "    </tr>\n",
       "    <tr>\n",
       "      <td>88</td>\n",
       "      <td>25</td>\n",
       "      <td>46</td>\n",
       "      <td>0.8</td>\n",
       "    </tr>\n",
       "    <tr>\n",
       "      <td>89</td>\n",
       "      <td>25</td>\n",
       "      <td>38</td>\n",
       "      <td>0.4</td>\n",
       "    </tr>\n",
       "    <tr>\n",
       "      <td>90</td>\n",
       "      <td>25</td>\n",
       "      <td>55</td>\n",
       "      <td>1.2</td>\n",
       "    </tr>\n",
       "  </tbody>\n",
       "</table>\n",
       "<p>80 rows × 3 columns</p>\n",
       "</div>"
      ],
      "text/plain": [
       "    N_1_Index  N_2_Index  Frequency_(1-5)\n",
       "0           1         23              1.6\n",
       "1           1         20              1.2\n",
       "2           1         18              0.8\n",
       "3           1          4              0.4\n",
       "4           1          3              0.4\n",
       "..        ...        ...              ...\n",
       "86         25         37              1.2\n",
       "87         25          9              0.4\n",
       "88         25         46              0.8\n",
       "89         25         38              0.4\n",
       "90         25         55              1.2\n",
       "\n",
       "[80 rows x 3 columns]"
      ]
     },
     "execution_count": 416,
     "metadata": {},
     "output_type": "execute_result"
    }
   ],
   "source": [
    "# inspect\n",
    "edge_df"
   ]
  },
  {
   "cell_type": "code",
   "execution_count": 417,
   "metadata": {},
   "outputs": [],
   "source": [
    "# ----------------fill in missing code.  Use tuple() and iloc\n",
    "edge_list = []\n",
    "for i in range(len(edge_df)):\n",
    "    edge_list.append(tuple(edge_df.iloc[i]))"
   ]
  },
  {
   "cell_type": "code",
   "execution_count": 418,
   "metadata": {},
   "outputs": [
    {
     "data": {
      "text/plain": [
       "[(1.0, 23.0, 1.6),\n",
       " (1.0, 20.0, 1.2),\n",
       " (1.0, 18.0, 0.8),\n",
       " (1.0, 4.0, 0.4),\n",
       " (1.0, 3.0, 0.4)]"
      ]
     },
     "execution_count": 418,
     "metadata": {},
     "output_type": "execute_result"
    }
   ],
   "source": [
    "# Inspect output for first 5 entries in edge list dataframe\n",
    "edge_list[0:5]   "
   ]
  },
  {
   "cell_type": "code",
   "execution_count": 419,
   "metadata": {},
   "outputs": [
    {
     "data": {
      "text/plain": [
       "80"
      ]
     },
     "execution_count": 419,
     "metadata": {},
     "output_type": "execute_result"
    }
   ],
   "source": [
    "len(edge_list)"
   ]
  },
  {
   "cell_type": "code",
   "execution_count": 420,
   "metadata": {},
   "outputs": [],
   "source": [
    "# read node information from the \"Node_list\" sheet\n",
    "node_df = pd.read_excel(xlsx,sheet_name=\"Node_List\")"
   ]
  },
  {
   "cell_type": "code",
   "execution_count": 421,
   "metadata": {},
   "outputs": [
    {
     "data": {
      "text/html": [
       "<div>\n",
       "<style scoped>\n",
       "    .dataframe tbody tr th:only-of-type {\n",
       "        vertical-align: middle;\n",
       "    }\n",
       "\n",
       "    .dataframe tbody tr th {\n",
       "        vertical-align: top;\n",
       "    }\n",
       "\n",
       "    .dataframe thead th {\n",
       "        text-align: right;\n",
       "    }\n",
       "</style>\n",
       "<table border=\"1\" class=\"dataframe\">\n",
       "  <thead>\n",
       "    <tr style=\"text-align: right;\">\n",
       "      <th></th>\n",
       "      <th>Name</th>\n",
       "      <th>Node_ID</th>\n",
       "      <th>Degree</th>\n",
       "      <th>Year</th>\n",
       "      <th>Role</th>\n",
       "      <th>Schol_Acad</th>\n",
       "    </tr>\n",
       "  </thead>\n",
       "  <tbody>\n",
       "    <tr>\n",
       "      <td>0</td>\n",
       "      <td>Arzadon.M</td>\n",
       "      <td>1</td>\n",
       "      <td>DS</td>\n",
       "      <td>FR</td>\n",
       "      <td>Student</td>\n",
       "      <td>1</td>\n",
       "    </tr>\n",
       "    <tr>\n",
       "      <td>1</td>\n",
       "      <td>Copsey.L</td>\n",
       "      <td>3</td>\n",
       "      <td>DS</td>\n",
       "      <td>JR</td>\n",
       "      <td>Student</td>\n",
       "      <td>0</td>\n",
       "    </tr>\n",
       "    <tr>\n",
       "      <td>2</td>\n",
       "      <td>Cox.K</td>\n",
       "      <td>4</td>\n",
       "      <td>DS</td>\n",
       "      <td>JR</td>\n",
       "      <td>Student</td>\n",
       "      <td>0</td>\n",
       "    </tr>\n",
       "    <tr>\n",
       "      <td>3</td>\n",
       "      <td>Gee.J</td>\n",
       "      <td>6</td>\n",
       "      <td>DS</td>\n",
       "      <td>SR</td>\n",
       "      <td>Student</td>\n",
       "      <td>0</td>\n",
       "    </tr>\n",
       "    <tr>\n",
       "      <td>4</td>\n",
       "      <td>Hoang.M</td>\n",
       "      <td>7</td>\n",
       "      <td>DS</td>\n",
       "      <td>SO</td>\n",
       "      <td>Student</td>\n",
       "      <td>0</td>\n",
       "    </tr>\n",
       "  </tbody>\n",
       "</table>\n",
       "</div>"
      ],
      "text/plain": [
       "        Name  Node_ID Degree Year     Role  Schol_Acad\n",
       "0  Arzadon.M        1     DS   FR  Student           1\n",
       "1   Copsey.L        3     DS   JR  Student           0\n",
       "2      Cox.K        4     DS   JR  Student           0\n",
       "3      Gee.J        6     DS   SR  Student           0\n",
       "4    Hoang.M        7     DS   SO  Student           0"
      ]
     },
     "metadata": {},
     "output_type": "display_data"
    },
    {
     "data": {
      "text/html": [
       "<div>\n",
       "<style scoped>\n",
       "    .dataframe tbody tr th:only-of-type {\n",
       "        vertical-align: middle;\n",
       "    }\n",
       "\n",
       "    .dataframe tbody tr th {\n",
       "        vertical-align: top;\n",
       "    }\n",
       "\n",
       "    .dataframe thead th {\n",
       "        text-align: right;\n",
       "    }\n",
       "</style>\n",
       "<table border=\"1\" class=\"dataframe\">\n",
       "  <thead>\n",
       "    <tr style=\"text-align: right;\">\n",
       "      <th></th>\n",
       "      <th>Name</th>\n",
       "      <th>Node_ID</th>\n",
       "      <th>Degree</th>\n",
       "      <th>Year</th>\n",
       "      <th>Role</th>\n",
       "      <th>Schol_Acad</th>\n",
       "    </tr>\n",
       "  </thead>\n",
       "  <tbody>\n",
       "    <tr>\n",
       "      <td>45</td>\n",
       "      <td>Le. P</td>\n",
       "      <td>56</td>\n",
       "      <td>DS</td>\n",
       "      <td>SO</td>\n",
       "      <td>Student</td>\n",
       "      <td>0</td>\n",
       "    </tr>\n",
       "    <tr>\n",
       "      <td>46</td>\n",
       "      <td>Nguyen.D</td>\n",
       "      <td>57</td>\n",
       "      <td>CS</td>\n",
       "      <td>JR</td>\n",
       "      <td>Student</td>\n",
       "      <td>0</td>\n",
       "    </tr>\n",
       "    <tr>\n",
       "      <td>47</td>\n",
       "      <td>Moore.S</td>\n",
       "      <td>58</td>\n",
       "      <td>CS</td>\n",
       "      <td>SO</td>\n",
       "      <td>Student</td>\n",
       "      <td>0</td>\n",
       "    </tr>\n",
       "    <tr>\n",
       "      <td>48</td>\n",
       "      <td>Pham. T</td>\n",
       "      <td>59</td>\n",
       "      <td>MATH</td>\n",
       "      <td>JR</td>\n",
       "      <td>Student</td>\n",
       "      <td>0</td>\n",
       "    </tr>\n",
       "    <tr>\n",
       "      <td>49</td>\n",
       "      <td>hernandez.C</td>\n",
       "      <td>60</td>\n",
       "      <td>MATH</td>\n",
       "      <td>SO</td>\n",
       "      <td>Student</td>\n",
       "      <td>0</td>\n",
       "    </tr>\n",
       "  </tbody>\n",
       "</table>\n",
       "</div>"
      ],
      "text/plain": [
       "           Name  Node_ID Degree Year     Role  Schol_Acad\n",
       "45        Le. P       56     DS   SO  Student           0\n",
       "46     Nguyen.D       57     CS   JR  Student           0\n",
       "47      Moore.S       58     CS   SO  Student           0\n",
       "48      Pham. T       59   MATH   JR  Student           0\n",
       "49  hernandez.C       60   MATH   SO  Student           0"
      ]
     },
     "metadata": {},
     "output_type": "display_data"
    }
   ],
   "source": [
    "# inspect\n",
    "display(node_df.head())\n",
    "display(node_df.tail())"
   ]
  },
  {
   "cell_type": "code",
   "execution_count": 422,
   "metadata": {},
   "outputs": [
    {
     "data": {
      "text/plain": [
       "Name          object\n",
       "Node_ID        int64\n",
       "Degree        object\n",
       "Year          object\n",
       "Role          object\n",
       "Schol_Acad     int64\n",
       "dtype: object"
      ]
     },
     "execution_count": 422,
     "metadata": {},
     "output_type": "execute_result"
    }
   ],
   "source": [
    "# show types - notice Node_ID and Schol_Acad are float need to be converted to int\n",
    "node_df.dtypes"
   ]
  },
  {
   "cell_type": "code",
   "execution_count": 423,
   "metadata": {},
   "outputs": [
    {
     "name": "stdout",
     "output_type": "stream",
     "text": [
      "<class 'pandas.core.frame.DataFrame'>\n",
      "RangeIndex: 50 entries, 0 to 49\n",
      "Data columns (total 6 columns):\n",
      "Name          50 non-null object\n",
      "Node_ID       50 non-null int64\n",
      "Degree        50 non-null object\n",
      "Year          50 non-null object\n",
      "Role          50 non-null object\n",
      "Schol_Acad    50 non-null int64\n",
      "dtypes: int64(2), object(4)\n",
      "memory usage: 2.5+ KB\n"
     ]
    }
   ],
   "source": [
    "# examine info - looks like we have a lot of NaN info length one hundred and only 49 rows filled. Probably blank\n",
    "# entries from excel\n",
    "node_df.info()"
   ]
  },
  {
   "cell_type": "code",
   "execution_count": 424,
   "metadata": {},
   "outputs": [
    {
     "data": {
      "text/plain": [
       "Name          0\n",
       "Node_ID       0\n",
       "Degree        0\n",
       "Year          0\n",
       "Role          0\n",
       "Schol_Acad    0\n",
       "dtype: int64"
      ]
     },
     "execution_count": 424,
     "metadata": {},
     "output_type": "execute_result"
    }
   ],
   "source": [
    "# get sum of Nan's\n",
    "node_df.isna().sum()"
   ]
  },
  {
   "cell_type": "code",
   "execution_count": 425,
   "metadata": {},
   "outputs": [
    {
     "data": {
      "text/html": [
       "<div>\n",
       "<style scoped>\n",
       "    .dataframe tbody tr th:only-of-type {\n",
       "        vertical-align: middle;\n",
       "    }\n",
       "\n",
       "    .dataframe tbody tr th {\n",
       "        vertical-align: top;\n",
       "    }\n",
       "\n",
       "    .dataframe thead th {\n",
       "        text-align: right;\n",
       "    }\n",
       "</style>\n",
       "<table border=\"1\" class=\"dataframe\">\n",
       "  <thead>\n",
       "    <tr style=\"text-align: right;\">\n",
       "      <th></th>\n",
       "      <th>Name</th>\n",
       "      <th>Node_ID</th>\n",
       "      <th>Degree</th>\n",
       "      <th>Year</th>\n",
       "      <th>Role</th>\n",
       "      <th>Schol_Acad</th>\n",
       "    </tr>\n",
       "  </thead>\n",
       "  <tbody>\n",
       "    <tr>\n",
       "      <td>count</td>\n",
       "      <td>50</td>\n",
       "      <td>50.000000</td>\n",
       "      <td>50</td>\n",
       "      <td>50</td>\n",
       "      <td>50</td>\n",
       "      <td>50.000000</td>\n",
       "    </tr>\n",
       "    <tr>\n",
       "      <td>unique</td>\n",
       "      <td>50</td>\n",
       "      <td>NaN</td>\n",
       "      <td>6</td>\n",
       "      <td>7</td>\n",
       "      <td>2</td>\n",
       "      <td>NaN</td>\n",
       "    </tr>\n",
       "    <tr>\n",
       "      <td>top</td>\n",
       "      <td>Kimble. K</td>\n",
       "      <td>NaN</td>\n",
       "      <td>DS</td>\n",
       "      <td>SR</td>\n",
       "      <td>Student</td>\n",
       "      <td>NaN</td>\n",
       "    </tr>\n",
       "    <tr>\n",
       "      <td>freq</td>\n",
       "      <td>1</td>\n",
       "      <td>NaN</td>\n",
       "      <td>22</td>\n",
       "      <td>19</td>\n",
       "      <td>41</td>\n",
       "      <td>NaN</td>\n",
       "    </tr>\n",
       "    <tr>\n",
       "      <td>mean</td>\n",
       "      <td>NaN</td>\n",
       "      <td>34.000000</td>\n",
       "      <td>NaN</td>\n",
       "      <td>NaN</td>\n",
       "      <td>NaN</td>\n",
       "      <td>0.320000</td>\n",
       "    </tr>\n",
       "    <tr>\n",
       "      <td>std</td>\n",
       "      <td>NaN</td>\n",
       "      <td>16.836549</td>\n",
       "      <td>NaN</td>\n",
       "      <td>NaN</td>\n",
       "      <td>NaN</td>\n",
       "      <td>0.471212</td>\n",
       "    </tr>\n",
       "    <tr>\n",
       "      <td>min</td>\n",
       "      <td>NaN</td>\n",
       "      <td>1.000000</td>\n",
       "      <td>NaN</td>\n",
       "      <td>NaN</td>\n",
       "      <td>NaN</td>\n",
       "      <td>0.000000</td>\n",
       "    </tr>\n",
       "    <tr>\n",
       "      <td>25%</td>\n",
       "      <td>NaN</td>\n",
       "      <td>22.500000</td>\n",
       "      <td>NaN</td>\n",
       "      <td>NaN</td>\n",
       "      <td>NaN</td>\n",
       "      <td>0.000000</td>\n",
       "    </tr>\n",
       "    <tr>\n",
       "      <td>50%</td>\n",
       "      <td>NaN</td>\n",
       "      <td>35.500000</td>\n",
       "      <td>NaN</td>\n",
       "      <td>NaN</td>\n",
       "      <td>NaN</td>\n",
       "      <td>0.000000</td>\n",
       "    </tr>\n",
       "    <tr>\n",
       "      <td>75%</td>\n",
       "      <td>NaN</td>\n",
       "      <td>47.750000</td>\n",
       "      <td>NaN</td>\n",
       "      <td>NaN</td>\n",
       "      <td>NaN</td>\n",
       "      <td>1.000000</td>\n",
       "    </tr>\n",
       "    <tr>\n",
       "      <td>max</td>\n",
       "      <td>NaN</td>\n",
       "      <td>60.000000</td>\n",
       "      <td>NaN</td>\n",
       "      <td>NaN</td>\n",
       "      <td>NaN</td>\n",
       "      <td>1.000000</td>\n",
       "    </tr>\n",
       "  </tbody>\n",
       "</table>\n",
       "</div>"
      ],
      "text/plain": [
       "             Name    Node_ID Degree Year     Role  Schol_Acad\n",
       "count          50  50.000000     50   50       50   50.000000\n",
       "unique         50        NaN      6    7        2         NaN\n",
       "top     Kimble. K        NaN     DS   SR  Student         NaN\n",
       "freq            1        NaN     22   19       41         NaN\n",
       "mean          NaN  34.000000    NaN  NaN      NaN    0.320000\n",
       "std           NaN  16.836549    NaN  NaN      NaN    0.471212\n",
       "min           NaN   1.000000    NaN  NaN      NaN    0.000000\n",
       "25%           NaN  22.500000    NaN  NaN      NaN    0.000000\n",
       "50%           NaN  35.500000    NaN  NaN      NaN    0.000000\n",
       "75%           NaN  47.750000    NaN  NaN      NaN    1.000000\n",
       "max           NaN  60.000000    NaN  NaN      NaN    1.000000"
      ]
     },
     "execution_count": 425,
     "metadata": {},
     "output_type": "execute_result"
    }
   ],
   "source": [
    "# quick summary look at your data - not very useful in this case (use include=\"all\") to summariz numeric and categorical\n",
    "node_df.describe(include=\"all\")"
   ]
  },
  {
   "cell_type": "code",
   "execution_count": 426,
   "metadata": {},
   "outputs": [],
   "source": [
    "# Drop all rows that have any NaN i.e. the 51 blank rows use how=\"any\"\n",
    "node_df = node_df.dropna(how='any')"
   ]
  },
  {
   "cell_type": "code",
   "execution_count": 427,
   "metadata": {},
   "outputs": [
    {
     "data": {
      "text/html": [
       "<div>\n",
       "<style scoped>\n",
       "    .dataframe tbody tr th:only-of-type {\n",
       "        vertical-align: middle;\n",
       "    }\n",
       "\n",
       "    .dataframe tbody tr th {\n",
       "        vertical-align: top;\n",
       "    }\n",
       "\n",
       "    .dataframe thead th {\n",
       "        text-align: right;\n",
       "    }\n",
       "</style>\n",
       "<table border=\"1\" class=\"dataframe\">\n",
       "  <thead>\n",
       "    <tr style=\"text-align: right;\">\n",
       "      <th></th>\n",
       "      <th>Name</th>\n",
       "      <th>Node_ID</th>\n",
       "      <th>Degree</th>\n",
       "      <th>Year</th>\n",
       "      <th>Role</th>\n",
       "      <th>Schol_Acad</th>\n",
       "    </tr>\n",
       "  </thead>\n",
       "  <tbody>\n",
       "    <tr>\n",
       "      <td>0</td>\n",
       "      <td>Arzadon.M</td>\n",
       "      <td>1</td>\n",
       "      <td>DS</td>\n",
       "      <td>FR</td>\n",
       "      <td>Student</td>\n",
       "      <td>1</td>\n",
       "    </tr>\n",
       "    <tr>\n",
       "      <td>1</td>\n",
       "      <td>Copsey.L</td>\n",
       "      <td>3</td>\n",
       "      <td>DS</td>\n",
       "      <td>JR</td>\n",
       "      <td>Student</td>\n",
       "      <td>0</td>\n",
       "    </tr>\n",
       "    <tr>\n",
       "      <td>2</td>\n",
       "      <td>Cox.K</td>\n",
       "      <td>4</td>\n",
       "      <td>DS</td>\n",
       "      <td>JR</td>\n",
       "      <td>Student</td>\n",
       "      <td>0</td>\n",
       "    </tr>\n",
       "    <tr>\n",
       "      <td>3</td>\n",
       "      <td>Gee.J</td>\n",
       "      <td>6</td>\n",
       "      <td>DS</td>\n",
       "      <td>SR</td>\n",
       "      <td>Student</td>\n",
       "      <td>0</td>\n",
       "    </tr>\n",
       "    <tr>\n",
       "      <td>4</td>\n",
       "      <td>Hoang.M</td>\n",
       "      <td>7</td>\n",
       "      <td>DS</td>\n",
       "      <td>SO</td>\n",
       "      <td>Student</td>\n",
       "      <td>0</td>\n",
       "    </tr>\n",
       "  </tbody>\n",
       "</table>\n",
       "</div>"
      ],
      "text/plain": [
       "        Name  Node_ID Degree Year     Role  Schol_Acad\n",
       "0  Arzadon.M        1     DS   FR  Student           1\n",
       "1   Copsey.L        3     DS   JR  Student           0\n",
       "2      Cox.K        4     DS   JR  Student           0\n",
       "3      Gee.J        6     DS   SR  Student           0\n",
       "4    Hoang.M        7     DS   SO  Student           0"
      ]
     },
     "metadata": {},
     "output_type": "display_data"
    },
    {
     "data": {
      "text/html": [
       "<div>\n",
       "<style scoped>\n",
       "    .dataframe tbody tr th:only-of-type {\n",
       "        vertical-align: middle;\n",
       "    }\n",
       "\n",
       "    .dataframe tbody tr th {\n",
       "        vertical-align: top;\n",
       "    }\n",
       "\n",
       "    .dataframe thead th {\n",
       "        text-align: right;\n",
       "    }\n",
       "</style>\n",
       "<table border=\"1\" class=\"dataframe\">\n",
       "  <thead>\n",
       "    <tr style=\"text-align: right;\">\n",
       "      <th></th>\n",
       "      <th>Name</th>\n",
       "      <th>Node_ID</th>\n",
       "      <th>Degree</th>\n",
       "      <th>Year</th>\n",
       "      <th>Role</th>\n",
       "      <th>Schol_Acad</th>\n",
       "    </tr>\n",
       "  </thead>\n",
       "  <tbody>\n",
       "    <tr>\n",
       "      <td>45</td>\n",
       "      <td>Le. P</td>\n",
       "      <td>56</td>\n",
       "      <td>DS</td>\n",
       "      <td>SO</td>\n",
       "      <td>Student</td>\n",
       "      <td>0</td>\n",
       "    </tr>\n",
       "    <tr>\n",
       "      <td>46</td>\n",
       "      <td>Nguyen.D</td>\n",
       "      <td>57</td>\n",
       "      <td>CS</td>\n",
       "      <td>JR</td>\n",
       "      <td>Student</td>\n",
       "      <td>0</td>\n",
       "    </tr>\n",
       "    <tr>\n",
       "      <td>47</td>\n",
       "      <td>Moore.S</td>\n",
       "      <td>58</td>\n",
       "      <td>CS</td>\n",
       "      <td>SO</td>\n",
       "      <td>Student</td>\n",
       "      <td>0</td>\n",
       "    </tr>\n",
       "    <tr>\n",
       "      <td>48</td>\n",
       "      <td>Pham. T</td>\n",
       "      <td>59</td>\n",
       "      <td>MATH</td>\n",
       "      <td>JR</td>\n",
       "      <td>Student</td>\n",
       "      <td>0</td>\n",
       "    </tr>\n",
       "    <tr>\n",
       "      <td>49</td>\n",
       "      <td>hernandez.C</td>\n",
       "      <td>60</td>\n",
       "      <td>MATH</td>\n",
       "      <td>SO</td>\n",
       "      <td>Student</td>\n",
       "      <td>0</td>\n",
       "    </tr>\n",
       "  </tbody>\n",
       "</table>\n",
       "</div>"
      ],
      "text/plain": [
       "           Name  Node_ID Degree Year     Role  Schol_Acad\n",
       "45        Le. P       56     DS   SO  Student           0\n",
       "46     Nguyen.D       57     CS   JR  Student           0\n",
       "47      Moore.S       58     CS   SO  Student           0\n",
       "48      Pham. T       59   MATH   JR  Student           0\n",
       "49  hernandez.C       60   MATH   SO  Student           0"
      ]
     },
     "metadata": {},
     "output_type": "display_data"
    }
   ],
   "source": [
    "# inspect\n",
    "display(node_df.head())\n",
    "display(node_df.tail())"
   ]
  },
  {
   "cell_type": "code",
   "execution_count": 428,
   "metadata": {},
   "outputs": [],
   "source": [
    "# Rename the columns to [\"Name\",\"node\",\"Degree\",\"Year\",\"Role\",\"SA\"]\n",
    "node_df.columns= [\"Name\",\"node\",\"Degree\",\"Year\",\"Role\",\"SA\"]"
   ]
  },
  {
   "cell_type": "code",
   "execution_count": 429,
   "metadata": {},
   "outputs": [
    {
     "data": {
      "text/html": [
       "<div>\n",
       "<style scoped>\n",
       "    .dataframe tbody tr th:only-of-type {\n",
       "        vertical-align: middle;\n",
       "    }\n",
       "\n",
       "    .dataframe tbody tr th {\n",
       "        vertical-align: top;\n",
       "    }\n",
       "\n",
       "    .dataframe thead th {\n",
       "        text-align: right;\n",
       "    }\n",
       "</style>\n",
       "<table border=\"1\" class=\"dataframe\">\n",
       "  <thead>\n",
       "    <tr style=\"text-align: right;\">\n",
       "      <th></th>\n",
       "      <th>Name</th>\n",
       "      <th>node</th>\n",
       "      <th>Degree</th>\n",
       "      <th>Year</th>\n",
       "      <th>Role</th>\n",
       "      <th>SA</th>\n",
       "    </tr>\n",
       "  </thead>\n",
       "  <tbody>\n",
       "    <tr>\n",
       "      <td>0</td>\n",
       "      <td>Arzadon.M</td>\n",
       "      <td>1</td>\n",
       "      <td>DS</td>\n",
       "      <td>FR</td>\n",
       "      <td>Student</td>\n",
       "      <td>1</td>\n",
       "    </tr>\n",
       "    <tr>\n",
       "      <td>1</td>\n",
       "      <td>Copsey.L</td>\n",
       "      <td>3</td>\n",
       "      <td>DS</td>\n",
       "      <td>JR</td>\n",
       "      <td>Student</td>\n",
       "      <td>0</td>\n",
       "    </tr>\n",
       "    <tr>\n",
       "      <td>2</td>\n",
       "      <td>Cox.K</td>\n",
       "      <td>4</td>\n",
       "      <td>DS</td>\n",
       "      <td>JR</td>\n",
       "      <td>Student</td>\n",
       "      <td>0</td>\n",
       "    </tr>\n",
       "    <tr>\n",
       "      <td>3</td>\n",
       "      <td>Gee.J</td>\n",
       "      <td>6</td>\n",
       "      <td>DS</td>\n",
       "      <td>SR</td>\n",
       "      <td>Student</td>\n",
       "      <td>0</td>\n",
       "    </tr>\n",
       "    <tr>\n",
       "      <td>4</td>\n",
       "      <td>Hoang.M</td>\n",
       "      <td>7</td>\n",
       "      <td>DS</td>\n",
       "      <td>SO</td>\n",
       "      <td>Student</td>\n",
       "      <td>0</td>\n",
       "    </tr>\n",
       "  </tbody>\n",
       "</table>\n",
       "</div>"
      ],
      "text/plain": [
       "        Name  node Degree Year     Role  SA\n",
       "0  Arzadon.M     1     DS   FR  Student   1\n",
       "1   Copsey.L     3     DS   JR  Student   0\n",
       "2      Cox.K     4     DS   JR  Student   0\n",
       "3      Gee.J     6     DS   SR  Student   0\n",
       "4    Hoang.M     7     DS   SO  Student   0"
      ]
     },
     "execution_count": 429,
     "metadata": {},
     "output_type": "execute_result"
    }
   ],
   "source": [
    "# inspect\n",
    "node_df.head()"
   ]
  },
  {
   "cell_type": "code",
   "execution_count": 430,
   "metadata": {},
   "outputs": [],
   "source": [
    "# \"node\" and \"SA\" column are float need to be integer. use .applymap(np.int64) on the \"node\" and \"SA\" columns\n",
    "# (Use .map for series, .applymap for dataframes)\n",
    "node_df[[\"node\",\"SA\"]] = node_df[[\"node\",\"SA\"]].applymap(np.int64)"
   ]
  },
  {
   "cell_type": "code",
   "execution_count": 431,
   "metadata": {},
   "outputs": [],
   "source": [
    "# now set the node integer column to the dataframe index.  Use the .set_index() method, drop the current index and \n",
    "# set inplace = True to make permanent\n",
    "node_df.set_index(\"node\",drop=True,inplace=True)"
   ]
  },
  {
   "cell_type": "code",
   "execution_count": 432,
   "metadata": {},
   "outputs": [
    {
     "data": {
      "text/html": [
       "<div>\n",
       "<style scoped>\n",
       "    .dataframe tbody tr th:only-of-type {\n",
       "        vertical-align: middle;\n",
       "    }\n",
       "\n",
       "    .dataframe tbody tr th {\n",
       "        vertical-align: top;\n",
       "    }\n",
       "\n",
       "    .dataframe thead th {\n",
       "        text-align: right;\n",
       "    }\n",
       "</style>\n",
       "<table border=\"1\" class=\"dataframe\">\n",
       "  <thead>\n",
       "    <tr style=\"text-align: right;\">\n",
       "      <th></th>\n",
       "      <th>Name</th>\n",
       "      <th>Degree</th>\n",
       "      <th>Year</th>\n",
       "      <th>Role</th>\n",
       "      <th>SA</th>\n",
       "    </tr>\n",
       "    <tr>\n",
       "      <th>node</th>\n",
       "      <th></th>\n",
       "      <th></th>\n",
       "      <th></th>\n",
       "      <th></th>\n",
       "      <th></th>\n",
       "    </tr>\n",
       "  </thead>\n",
       "  <tbody>\n",
       "    <tr>\n",
       "      <td>1</td>\n",
       "      <td>Arzadon.M</td>\n",
       "      <td>DS</td>\n",
       "      <td>FR</td>\n",
       "      <td>Student</td>\n",
       "      <td>1</td>\n",
       "    </tr>\n",
       "    <tr>\n",
       "      <td>3</td>\n",
       "      <td>Copsey.L</td>\n",
       "      <td>DS</td>\n",
       "      <td>JR</td>\n",
       "      <td>Student</td>\n",
       "      <td>0</td>\n",
       "    </tr>\n",
       "    <tr>\n",
       "      <td>4</td>\n",
       "      <td>Cox.K</td>\n",
       "      <td>DS</td>\n",
       "      <td>JR</td>\n",
       "      <td>Student</td>\n",
       "      <td>0</td>\n",
       "    </tr>\n",
       "    <tr>\n",
       "      <td>6</td>\n",
       "      <td>Gee.J</td>\n",
       "      <td>DS</td>\n",
       "      <td>SR</td>\n",
       "      <td>Student</td>\n",
       "      <td>0</td>\n",
       "    </tr>\n",
       "    <tr>\n",
       "      <td>7</td>\n",
       "      <td>Hoang.M</td>\n",
       "      <td>DS</td>\n",
       "      <td>SO</td>\n",
       "      <td>Student</td>\n",
       "      <td>0</td>\n",
       "    </tr>\n",
       "  </tbody>\n",
       "</table>\n",
       "</div>"
      ],
      "text/plain": [
       "           Name Degree Year     Role  SA\n",
       "node                                    \n",
       "1     Arzadon.M     DS   FR  Student   1\n",
       "3      Copsey.L     DS   JR  Student   0\n",
       "4         Cox.K     DS   JR  Student   0\n",
       "6         Gee.J     DS   SR  Student   0\n",
       "7       Hoang.M     DS   SO  Student   0"
      ]
     },
     "execution_count": 432,
     "metadata": {},
     "output_type": "execute_result"
    }
   ],
   "source": [
    "# inspect\n",
    "node_df.head()"
   ]
  },
  {
   "cell_type": "code",
   "execution_count": 433,
   "metadata": {},
   "outputs": [
    {
     "name": "stdout",
     "output_type": "stream",
     "text": [
      "<class 'pandas.core.frame.DataFrame'>\n",
      "Int64Index: 50 entries, 1 to 60\n",
      "Data columns (total 5 columns):\n",
      "Name      50 non-null object\n",
      "Degree    50 non-null object\n",
      "Year      50 non-null object\n",
      "Role      50 non-null object\n",
      "SA        50 non-null int64\n",
      "dtypes: int64(1), object(4)\n",
      "memory usage: 2.3+ KB\n"
     ]
    }
   ],
   "source": [
    "# Inspect data types\n",
    "node_df.info()"
   ]
  },
  {
   "cell_type": "code",
   "execution_count": 434,
   "metadata": {},
   "outputs": [
    {
     "data": {
      "text/plain": [
       "Name      Arzadon.M\n",
       "Degree           DS\n",
       "Year             FR\n",
       "Role        Student\n",
       "SA                1\n",
       "Name: 1, dtype: object"
      ]
     },
     "execution_count": 434,
     "metadata": {},
     "output_type": "execute_result"
    }
   ],
   "source": [
    "# inspect first node - use .iloc\n",
    "node_df.iloc[0]"
   ]
  },
  {
   "cell_type": "code",
   "execution_count": 435,
   "metadata": {},
   "outputs": [
    {
     "data": {
      "text/plain": [
       "{'Name': 'Arzadon.M', 'Degree': 'DS', 'Year': 'FR', 'Role': 'Student', 'SA': 1}"
      ]
     },
     "execution_count": 435,
     "metadata": {},
     "output_type": "execute_result"
    }
   ],
   "source": [
    "# see if we can convert from df to dictionary - yes\n",
    "node_df.iloc[0,:].to_dict()"
   ]
  },
  {
   "cell_type": "code",
   "execution_count": 436,
   "metadata": {},
   "outputs": [],
   "source": [
    "# set up the node list for graph. Use tuple() and .to_dict()\n",
    "node_list = []\n",
    "for i in range(len(node_df)):\n",
    "    node_list.append(tuple([i+1,node_df.iloc[i,:].to_dict()]))"
   ]
  },
  {
   "cell_type": "code",
   "execution_count": 437,
   "metadata": {},
   "outputs": [
    {
     "data": {
      "text/plain": [
       "[(1,\n",
       "  {'Name': 'Arzadon.M',\n",
       "   'Degree': 'DS',\n",
       "   'Year': 'FR',\n",
       "   'Role': 'Student',\n",
       "   'SA': 1}),\n",
       " (2,\n",
       "  {'Name': 'Copsey.L',\n",
       "   'Degree': 'DS',\n",
       "   'Year': 'JR',\n",
       "   'Role': 'Student',\n",
       "   'SA': 0}),\n",
       " (3,\n",
       "  {'Name': 'Cox.K', 'Degree': 'DS', 'Year': 'JR', 'Role': 'Student', 'SA': 0})]"
      ]
     },
     "execution_count": 437,
     "metadata": {},
     "output_type": "execute_result"
    }
   ],
   "source": [
    "# inspect first 3 elements of node list\n",
    "node_list[0:3]"
   ]
  },
  {
   "cell_type": "code",
   "execution_count": 438,
   "metadata": {},
   "outputs": [],
   "source": [
    "# Set up empty graph\n",
    "G = nx.Graph()                        # empty graph"
   ]
  },
  {
   "cell_type": "code",
   "execution_count": 439,
   "metadata": {},
   "outputs": [
    {
     "data": {
      "text/plain": [
       "networkx.classes.graph.Graph"
      ]
     },
     "execution_count": 439,
     "metadata": {},
     "output_type": "execute_result"
    }
   ],
   "source": [
    "# what data type are we working with?\n",
    "type(G)"
   ]
  },
  {
   "cell_type": "code",
   "execution_count": 440,
   "metadata": {},
   "outputs": [],
   "source": [
    "# set up the nodes use .add_node_from() method for G\n",
    "G.add_nodes_from(node_list)"
   ]
  },
  {
   "cell_type": "code",
   "execution_count": 441,
   "metadata": {},
   "outputs": [],
   "source": [
    "# set up the edges use .add_weighted_edges_from() method for G\n",
    "G.add_weighted_edges_from(edge_list)"
   ]
  },
  {
   "cell_type": "code",
   "execution_count": 442,
   "metadata": {},
   "outputs": [
    {
     "data": {
      "text/plain": [
       "56"
      ]
     },
     "execution_count": 442,
     "metadata": {},
     "output_type": "execute_result"
    }
   ],
   "source": [
    "# let's start to examine the graph - how many nodes?\n",
    "len(G)"
   ]
  },
  {
   "cell_type": "code",
   "execution_count": 443,
   "metadata": {},
   "outputs": [
    {
     "name": "stdout",
     "output_type": "stream",
     "text": [
      "Name: \n",
      "Type: Graph\n",
      "Number of nodes: 56\n",
      "Number of edges: 80\n",
      "Average degree:   2.8571\n"
     ]
    }
   ],
   "source": [
    "# The .info() method summarizes the graph for us\n",
    "print(nx.info(G))"
   ]
  },
  {
   "cell_type": "code",
   "execution_count": 444,
   "metadata": {},
   "outputs": [
    {
     "name": "stdout",
     "output_type": "stream",
     "text": [
      "Node 16 has the following properties:\n",
      "Degree: 0\n",
      "Neighbors: \n"
     ]
    }
   ],
   "source": [
    "# we can also summarize information on a particular node \n",
    "print(nx.info(G,16))"
   ]
  },
  {
   "cell_type": "code",
   "execution_count": 445,
   "metadata": {},
   "outputs": [
    {
     "data": {
      "text/plain": [
       "NodeView((1, 2, 3, 4, 5, 6, 7, 8, 9, 10, 11, 12, 13, 14, 15, 16, 17, 18, 19, 20, 21, 22, 23, 24, 25, 26, 27, 28, 29, 30, 31, 32, 33, 34, 35, 36, 37, 38, 39, 40, 41, 42, 43, 44, 45, 46, 47, 48, 49, 50, 53.0, 51.0, 52.0, 55.0, 56.0, 54.0))"
      ]
     },
     "execution_count": 445,
     "metadata": {},
     "output_type": "execute_result"
    }
   ],
   "source": [
    "# get a list of all the nodes\n",
    "G.nodes()"
   ]
  },
  {
   "cell_type": "code",
   "execution_count": 446,
   "metadata": {},
   "outputs": [
    {
     "data": {
      "text/plain": [
       "{'Name': 'Arzadon.M', 'Degree': 'DS', 'Year': 'FR', 'Role': 'Student', 'SA': 1}"
      ]
     },
     "metadata": {},
     "output_type": "display_data"
    },
    {
     "data": {
      "text/plain": [
       "{'Name': 'Hoang.M', 'Degree': 'DS', 'Year': 'SO', 'Role': 'Student', 'SA': 0}"
      ]
     },
     "metadata": {},
     "output_type": "display_data"
    },
    {
     "data": {
      "text/plain": [
       "{'Name': 'Zhamangaraeva.A',\n",
       " 'Degree': 'CS',\n",
       " 'Year': 'SR',\n",
       " 'Role': 'Student',\n",
       " 'SA': 1}"
      ]
     },
     "metadata": {},
     "output_type": "display_data"
    }
   ],
   "source": [
    "# now get the list with all the associated information. Note that the node \"metadata\" is kept in a dictionary for that\n",
    "# node. We can add to the dictionary for each or all nodes.\n",
    "display(G.nodes(data=True)[1])    # inspect 1st node\n",
    "display(G.nodes(data=True)[5])    # inspect 5th\n",
    "display(G.nodes(data=True)[16])   # inspect 16th"
   ]
  },
  {
   "cell_type": "code",
   "execution_count": 447,
   "metadata": {},
   "outputs": [
    {
     "data": {
      "text/plain": [
       "(1, 20.0, {'weight': 1.2})"
      ]
     },
     "metadata": {},
     "output_type": "display_data"
    },
    {
     "data": {
      "text/plain": [
       "(1, 18.0, {'weight': 0.8})"
      ]
     },
     "metadata": {},
     "output_type": "display_data"
    },
    {
     "data": {
      "text/plain": [
       "(1, 4.0, {'weight': 0.4})"
      ]
     },
     "metadata": {},
     "output_type": "display_data"
    }
   ],
   "source": [
    "# Now lets look at the edges information.  Data here is also list of tuples with start node, end node, and meta-data\n",
    "# dictionary.  Need to use data = True to get the metadata dictionary for the edge pairs.\n",
    "display(list(G.edges(data=True))[1])    #  <--- inspect 1st edge\n",
    "display(list(G.edges(data=True))[2])    #  <--- inspect 2nd edge\n",
    "display(list(G.edges(data=True))[3])    #  <--- inspect 3rd edge"
   ]
  },
  {
   "cell_type": "code",
   "execution_count": 448,
   "metadata": {},
   "outputs": [
    {
     "data": {
      "text/plain": [
       "80"
      ]
     },
     "execution_count": 448,
     "metadata": {},
     "output_type": "execute_result"
    }
   ],
   "source": [
    "# number of edges\n",
    "G.number_of_edges()"
   ]
  },
  {
   "cell_type": "code",
   "execution_count": 449,
   "metadata": {},
   "outputs": [],
   "source": [
    "# Now let's put the edge information in a data frame to make it easier to see what's going on. Relabel columns to those \n",
    "# shown\n",
    "edges_df = pd.DataFrame(G.edges(data=True),columns=[\"n1\",\"n2\",\"weight\"])"
   ]
  },
  {
   "cell_type": "code",
   "execution_count": 450,
   "metadata": {},
   "outputs": [
    {
     "data": {
      "text/html": [
       "<div>\n",
       "<style scoped>\n",
       "    .dataframe tbody tr th:only-of-type {\n",
       "        vertical-align: middle;\n",
       "    }\n",
       "\n",
       "    .dataframe tbody tr th {\n",
       "        vertical-align: top;\n",
       "    }\n",
       "\n",
       "    .dataframe thead th {\n",
       "        text-align: right;\n",
       "    }\n",
       "</style>\n",
       "<table border=\"1\" class=\"dataframe\">\n",
       "  <thead>\n",
       "    <tr style=\"text-align: right;\">\n",
       "      <th></th>\n",
       "      <th>n1</th>\n",
       "      <th>n2</th>\n",
       "      <th>weight</th>\n",
       "    </tr>\n",
       "  </thead>\n",
       "  <tbody>\n",
       "    <tr>\n",
       "      <td>0</td>\n",
       "      <td>1</td>\n",
       "      <td>23.0</td>\n",
       "      <td>{'weight': 1.6}</td>\n",
       "    </tr>\n",
       "    <tr>\n",
       "      <td>1</td>\n",
       "      <td>1</td>\n",
       "      <td>20.0</td>\n",
       "      <td>{'weight': 1.2}</td>\n",
       "    </tr>\n",
       "    <tr>\n",
       "      <td>2</td>\n",
       "      <td>1</td>\n",
       "      <td>18.0</td>\n",
       "      <td>{'weight': 0.8}</td>\n",
       "    </tr>\n",
       "    <tr>\n",
       "      <td>3</td>\n",
       "      <td>1</td>\n",
       "      <td>4.0</td>\n",
       "      <td>{'weight': 0.4}</td>\n",
       "    </tr>\n",
       "    <tr>\n",
       "      <td>4</td>\n",
       "      <td>1</td>\n",
       "      <td>3.0</td>\n",
       "      <td>{'weight': 0.4}</td>\n",
       "    </tr>\n",
       "  </tbody>\n",
       "</table>\n",
       "</div>"
      ],
      "text/plain": [
       "   n1    n2           weight\n",
       "0   1  23.0  {'weight': 1.6}\n",
       "1   1  20.0  {'weight': 1.2}\n",
       "2   1  18.0  {'weight': 0.8}\n",
       "3   1   4.0  {'weight': 0.4}\n",
       "4   1   3.0  {'weight': 0.4}"
      ]
     },
     "execution_count": 450,
     "metadata": {},
     "output_type": "execute_result"
    }
   ],
   "source": [
    "edges_df.head()"
   ]
  },
  {
   "cell_type": "code",
   "execution_count": 451,
   "metadata": {},
   "outputs": [],
   "source": [
    "# Set up a lambda function and do a mapping to just the value associated with weight key in dictionary. Use .map(f)\n",
    "f = lambda d: d[\"weight\"]\n",
    "edges_df[\"weight\"] = edges_df[\"weight\"].map(f)"
   ]
  },
  {
   "cell_type": "code",
   "execution_count": 452,
   "metadata": {},
   "outputs": [
    {
     "data": {
      "text/html": [
       "<div>\n",
       "<style scoped>\n",
       "    .dataframe tbody tr th:only-of-type {\n",
       "        vertical-align: middle;\n",
       "    }\n",
       "\n",
       "    .dataframe tbody tr th {\n",
       "        vertical-align: top;\n",
       "    }\n",
       "\n",
       "    .dataframe thead th {\n",
       "        text-align: right;\n",
       "    }\n",
       "</style>\n",
       "<table border=\"1\" class=\"dataframe\">\n",
       "  <thead>\n",
       "    <tr style=\"text-align: right;\">\n",
       "      <th></th>\n",
       "      <th>n1</th>\n",
       "      <th>n2</th>\n",
       "      <th>weight</th>\n",
       "    </tr>\n",
       "  </thead>\n",
       "  <tbody>\n",
       "    <tr>\n",
       "      <td>75</td>\n",
       "      <td>26</td>\n",
       "      <td>49.0</td>\n",
       "      <td>1.6</td>\n",
       "    </tr>\n",
       "    <tr>\n",
       "      <td>76</td>\n",
       "      <td>26</td>\n",
       "      <td>50.0</td>\n",
       "      <td>1.6</td>\n",
       "    </tr>\n",
       "    <tr>\n",
       "      <td>77</td>\n",
       "      <td>26</td>\n",
       "      <td>35.0</td>\n",
       "      <td>0.8</td>\n",
       "    </tr>\n",
       "    <tr>\n",
       "      <td>78</td>\n",
       "      <td>26</td>\n",
       "      <td>51.0</td>\n",
       "      <td>1.2</td>\n",
       "    </tr>\n",
       "    <tr>\n",
       "      <td>79</td>\n",
       "      <td>26</td>\n",
       "      <td>52.0</td>\n",
       "      <td>0.4</td>\n",
       "    </tr>\n",
       "  </tbody>\n",
       "</table>\n",
       "</div>"
      ],
      "text/plain": [
       "    n1    n2  weight\n",
       "75  26  49.0     1.6\n",
       "76  26  50.0     1.6\n",
       "77  26  35.0     0.8\n",
       "78  26  51.0     1.2\n",
       "79  26  52.0     0.4"
      ]
     },
     "execution_count": 452,
     "metadata": {},
     "output_type": "execute_result"
    }
   ],
   "source": [
    "#inspect\n",
    "edges_df.tail()"
   ]
  },
  {
   "cell_type": "code",
   "execution_count": 453,
   "metadata": {},
   "outputs": [
    {
     "data": {
      "text/plain": [
       "DegreeView({1: 7, 2: 0, 3: 7, 4: 7, 5: 0, 6: 7, 7: 6, 8: 0, 9: 8, 10: 3, 11: 6, 12: 0, 13: 6, 14: 0, 15: 6, 16: 0, 17: 6, 18: 2, 19: 1, 20: 7, 21: 0, 22: 6, 23: 1, 24: 7, 25: 7, 26: 6, 27: 1, 28: 3, 29: 1, 30: 2, 31: 1, 32: 1, 33: 1, 34: 5, 35: 5, 36: 5, 37: 3, 38: 2, 39: 1, 40: 1, 41: 1, 42: 1, 43: 1, 44: 2, 45: 1, 46: 3, 47: 2, 48: 1, 49: 1, 50: 1, 53.0: 1, 51.0: 1, 52.0: 1, 55.0: 3, 56.0: 1, 54.0: 1})"
      ]
     },
     "execution_count": 453,
     "metadata": {},
     "output_type": "execute_result"
    }
   ],
   "source": [
    "# Get the degree of each node. Use .degree()\n",
    "G.degree()"
   ]
  },
  {
   "cell_type": "code",
   "execution_count": 454,
   "metadata": {},
   "outputs": [],
   "source": [
    "#set up a dataframe with degree for each node in graph, set index to node so we can concatenate with node_df later\n",
    "degree_df = pd.DataFrame(G.degree,columns=[\"node\",\"degree\"])\n",
    "degree_df.set_index(\"node\",drop=True,inplace=True)"
   ]
  },
  {
   "cell_type": "code",
   "execution_count": 455,
   "metadata": {},
   "outputs": [
    {
     "data": {
      "text/html": [
       "<div>\n",
       "<style scoped>\n",
       "    .dataframe tbody tr th:only-of-type {\n",
       "        vertical-align: middle;\n",
       "    }\n",
       "\n",
       "    .dataframe tbody tr th {\n",
       "        vertical-align: top;\n",
       "    }\n",
       "\n",
       "    .dataframe thead th {\n",
       "        text-align: right;\n",
       "    }\n",
       "</style>\n",
       "<table border=\"1\" class=\"dataframe\">\n",
       "  <thead>\n",
       "    <tr style=\"text-align: right;\">\n",
       "      <th></th>\n",
       "      <th>degree</th>\n",
       "    </tr>\n",
       "    <tr>\n",
       "      <th>node</th>\n",
       "      <th></th>\n",
       "    </tr>\n",
       "  </thead>\n",
       "  <tbody>\n",
       "    <tr>\n",
       "      <td>1.0</td>\n",
       "      <td>7</td>\n",
       "    </tr>\n",
       "    <tr>\n",
       "      <td>2.0</td>\n",
       "      <td>0</td>\n",
       "    </tr>\n",
       "    <tr>\n",
       "      <td>3.0</td>\n",
       "      <td>7</td>\n",
       "    </tr>\n",
       "    <tr>\n",
       "      <td>4.0</td>\n",
       "      <td>7</td>\n",
       "    </tr>\n",
       "    <tr>\n",
       "      <td>5.0</td>\n",
       "      <td>0</td>\n",
       "    </tr>\n",
       "  </tbody>\n",
       "</table>\n",
       "</div>"
      ],
      "text/plain": [
       "      degree\n",
       "node        \n",
       "1.0        7\n",
       "2.0        0\n",
       "3.0        7\n",
       "4.0        7\n",
       "5.0        0"
      ]
     },
     "execution_count": 455,
     "metadata": {},
     "output_type": "execute_result"
    }
   ],
   "source": [
    "# inspect \n",
    "degree_df.head()"
   ]
  },
  {
   "cell_type": "code",
   "execution_count": 456,
   "metadata": {},
   "outputs": [
    {
     "data": {
      "text/plain": [
       "DegreeView({1: 5.6, 2: 0, 3: 6.8, 4: 8.8, 5: 0, 6: 10.399999999999999, 7: 7.6000000000000005, 8: 0, 9: 11.6, 10: 4.8, 11: 8.8, 12: 0, 13: 8.0, 14: 0, 15: 9.6, 16: 0, 17: 8.0, 18: 2.4000000000000004, 19: 0.4, 20: 10.4, 21: 0, 22: 8.799999999999999, 23: 1.6, 24: 9.2, 25: 6.000000000000001, 26: 6.800000000000001, 27: 2.0, 28: 4.8, 29: 0.8, 30: 3.2, 31: 2.0, 32: 2.0, 33: 1.6, 34: 7.199999999999999, 35: 7.6000000000000005, 36: 5.2, 37: 2.8, 38: 1.6, 39: 2.0, 40: 1.6, 41: 1.2, 42: 2.0, 43: 1.2, 44: 2.4, 45: 0.4, 46: 3.5999999999999996, 47: 2.4, 48: 2.0, 49: 1.6, 50: 1.6, 53.0: 1.2, 51.0: 1.2, 52.0: 0.4, 55.0: 4.0, 56.0: 2.0, 54.0: 1.6})"
      ]
     },
     "execution_count": 456,
     "metadata": {},
     "output_type": "execute_result"
    }
   ],
   "source": [
    "# get weighted degree\n",
    "G.degree(weight='weight')"
   ]
  },
  {
   "cell_type": "code",
   "execution_count": 457,
   "metadata": {},
   "outputs": [],
   "source": [
    "#set up a dataframe with degree for each node in graph set node as index \n",
    "degree_wtd_df = pd.DataFrame(G.degree(weight='weight'),columns=[\"node\",\"degree_wtd\"])\n",
    "degree_wtd_df.set_index(\"node\",drop=True,inplace=True)"
   ]
  },
  {
   "cell_type": "code",
   "execution_count": 458,
   "metadata": {},
   "outputs": [
    {
     "data": {
      "text/html": [
       "<div>\n",
       "<style scoped>\n",
       "    .dataframe tbody tr th:only-of-type {\n",
       "        vertical-align: middle;\n",
       "    }\n",
       "\n",
       "    .dataframe tbody tr th {\n",
       "        vertical-align: top;\n",
       "    }\n",
       "\n",
       "    .dataframe thead th {\n",
       "        text-align: right;\n",
       "    }\n",
       "</style>\n",
       "<table border=\"1\" class=\"dataframe\">\n",
       "  <thead>\n",
       "    <tr style=\"text-align: right;\">\n",
       "      <th></th>\n",
       "      <th>degree_wtd</th>\n",
       "    </tr>\n",
       "    <tr>\n",
       "      <th>node</th>\n",
       "      <th></th>\n",
       "    </tr>\n",
       "  </thead>\n",
       "  <tbody>\n",
       "    <tr>\n",
       "      <td>1.0</td>\n",
       "      <td>5.6</td>\n",
       "    </tr>\n",
       "    <tr>\n",
       "      <td>2.0</td>\n",
       "      <td>0.0</td>\n",
       "    </tr>\n",
       "    <tr>\n",
       "      <td>3.0</td>\n",
       "      <td>6.8</td>\n",
       "    </tr>\n",
       "    <tr>\n",
       "      <td>4.0</td>\n",
       "      <td>8.8</td>\n",
       "    </tr>\n",
       "    <tr>\n",
       "      <td>5.0</td>\n",
       "      <td>0.0</td>\n",
       "    </tr>\n",
       "  </tbody>\n",
       "</table>\n",
       "</div>"
      ],
      "text/plain": [
       "      degree_wtd\n",
       "node            \n",
       "1.0          5.6\n",
       "2.0          0.0\n",
       "3.0          6.8\n",
       "4.0          8.8\n",
       "5.0          0.0"
      ]
     },
     "execution_count": 458,
     "metadata": {},
     "output_type": "execute_result"
    }
   ],
   "source": [
    "# inspect\n",
    "degree_wtd_df.head()"
   ]
  },
  {
   "cell_type": "code",
   "execution_count": 459,
   "metadata": {},
   "outputs": [],
   "source": [
    "# betweeness centrality - bc is a dictionary of node and metric - can use bc.items() to get node and metric values\n",
    "bc = nx.betweenness_centrality(G)"
   ]
  },
  {
   "cell_type": "code",
   "execution_count": 460,
   "metadata": {},
   "outputs": [],
   "source": [
    "#set up a dataframe with degree for each node in graph set node as index\n",
    "between_df = pd.DataFrame(bc.items(),columns=[\"node\",\"between_cent\"])\n",
    "between_df.set_index(\"node\",drop=True,inplace=True)"
   ]
  },
  {
   "cell_type": "code",
   "execution_count": 461,
   "metadata": {},
   "outputs": [
    {
     "data": {
      "text/html": [
       "<div>\n",
       "<style scoped>\n",
       "    .dataframe tbody tr th:only-of-type {\n",
       "        vertical-align: middle;\n",
       "    }\n",
       "\n",
       "    .dataframe tbody tr th {\n",
       "        vertical-align: top;\n",
       "    }\n",
       "\n",
       "    .dataframe thead th {\n",
       "        text-align: right;\n",
       "    }\n",
       "</style>\n",
       "<table border=\"1\" class=\"dataframe\">\n",
       "  <thead>\n",
       "    <tr style=\"text-align: right;\">\n",
       "      <th></th>\n",
       "      <th>between_cent</th>\n",
       "    </tr>\n",
       "    <tr>\n",
       "      <th>node</th>\n",
       "      <th></th>\n",
       "    </tr>\n",
       "  </thead>\n",
       "  <tbody>\n",
       "    <tr>\n",
       "      <td>1.0</td>\n",
       "      <td>0.156207</td>\n",
       "    </tr>\n",
       "    <tr>\n",
       "      <td>2.0</td>\n",
       "      <td>0.000000</td>\n",
       "    </tr>\n",
       "    <tr>\n",
       "      <td>3.0</td>\n",
       "      <td>0.106886</td>\n",
       "    </tr>\n",
       "    <tr>\n",
       "      <td>4.0</td>\n",
       "      <td>0.053383</td>\n",
       "    </tr>\n",
       "    <tr>\n",
       "      <td>5.0</td>\n",
       "      <td>0.000000</td>\n",
       "    </tr>\n",
       "  </tbody>\n",
       "</table>\n",
       "</div>"
      ],
      "text/plain": [
       "      between_cent\n",
       "node              \n",
       "1.0       0.156207\n",
       "2.0       0.000000\n",
       "3.0       0.106886\n",
       "4.0       0.053383\n",
       "5.0       0.000000"
      ]
     },
     "execution_count": 461,
     "metadata": {},
     "output_type": "execute_result"
    }
   ],
   "source": [
    "# inspect\n",
    "between_df.head()"
   ]
  },
  {
   "cell_type": "code",
   "execution_count": 462,
   "metadata": {},
   "outputs": [],
   "source": [
    "# closeness centrality\n",
    "cc = nx.closeness_centrality(G)"
   ]
  },
  {
   "cell_type": "code",
   "execution_count": 463,
   "metadata": {},
   "outputs": [],
   "source": [
    "#set up a dataframe with degree for each node in graph set node as index\n",
    "close_df = pd.DataFrame(cc.items(),columns=[\"node\",\"close_cent\"])\n",
    "close_df.set_index(\"node\",drop=True,inplace=True)"
   ]
  },
  {
   "cell_type": "code",
   "execution_count": 464,
   "metadata": {},
   "outputs": [
    {
     "data": {
      "text/html": [
       "<div>\n",
       "<style scoped>\n",
       "    .dataframe tbody tr th:only-of-type {\n",
       "        vertical-align: middle;\n",
       "    }\n",
       "\n",
       "    .dataframe tbody tr th {\n",
       "        vertical-align: top;\n",
       "    }\n",
       "\n",
       "    .dataframe thead th {\n",
       "        text-align: right;\n",
       "    }\n",
       "</style>\n",
       "<table border=\"1\" class=\"dataframe\">\n",
       "  <thead>\n",
       "    <tr style=\"text-align: right;\">\n",
       "      <th></th>\n",
       "      <th>close_cent</th>\n",
       "    </tr>\n",
       "    <tr>\n",
       "      <th>node</th>\n",
       "      <th></th>\n",
       "    </tr>\n",
       "  </thead>\n",
       "  <tbody>\n",
       "    <tr>\n",
       "      <td>1.0</td>\n",
       "      <td>0.355008</td>\n",
       "    </tr>\n",
       "    <tr>\n",
       "      <td>2.0</td>\n",
       "      <td>0.000000</td>\n",
       "    </tr>\n",
       "    <tr>\n",
       "      <td>3.0</td>\n",
       "      <td>0.337830</td>\n",
       "    </tr>\n",
       "    <tr>\n",
       "      <td>4.0</td>\n",
       "      <td>0.343368</td>\n",
       "    </tr>\n",
       "    <tr>\n",
       "      <td>5.0</td>\n",
       "      <td>0.000000</td>\n",
       "    </tr>\n",
       "  </tbody>\n",
       "</table>\n",
       "</div>"
      ],
      "text/plain": [
       "      close_cent\n",
       "node            \n",
       "1.0     0.355008\n",
       "2.0     0.000000\n",
       "3.0     0.337830\n",
       "4.0     0.343368\n",
       "5.0     0.000000"
      ]
     },
     "execution_count": 464,
     "metadata": {},
     "output_type": "execute_result"
    }
   ],
   "source": [
    "close_df.head()"
   ]
  },
  {
   "cell_type": "code",
   "execution_count": 465,
   "metadata": {},
   "outputs": [],
   "source": [
    "# degree centrality\n",
    "dc = nx.degree_centrality(G)"
   ]
  },
  {
   "cell_type": "code",
   "execution_count": 466,
   "metadata": {},
   "outputs": [],
   "source": [
    "#set up a dataframe with degree for each node in graph set node as index\n",
    "dc_df = pd.DataFrame(dc.items(),columns=[\"node\",\"deg_cent\"])\n",
    "dc_df.set_index(\"node\",drop=True,inplace=True)"
   ]
  },
  {
   "cell_type": "code",
   "execution_count": 467,
   "metadata": {},
   "outputs": [
    {
     "data": {
      "text/html": [
       "<div>\n",
       "<style scoped>\n",
       "    .dataframe tbody tr th:only-of-type {\n",
       "        vertical-align: middle;\n",
       "    }\n",
       "\n",
       "    .dataframe tbody tr th {\n",
       "        vertical-align: top;\n",
       "    }\n",
       "\n",
       "    .dataframe thead th {\n",
       "        text-align: right;\n",
       "    }\n",
       "</style>\n",
       "<table border=\"1\" class=\"dataframe\">\n",
       "  <thead>\n",
       "    <tr style=\"text-align: right;\">\n",
       "      <th></th>\n",
       "      <th>deg_cent</th>\n",
       "    </tr>\n",
       "    <tr>\n",
       "      <th>node</th>\n",
       "      <th></th>\n",
       "    </tr>\n",
       "  </thead>\n",
       "  <tbody>\n",
       "    <tr>\n",
       "      <td>1.0</td>\n",
       "      <td>0.127273</td>\n",
       "    </tr>\n",
       "    <tr>\n",
       "      <td>2.0</td>\n",
       "      <td>0.000000</td>\n",
       "    </tr>\n",
       "    <tr>\n",
       "      <td>3.0</td>\n",
       "      <td>0.127273</td>\n",
       "    </tr>\n",
       "    <tr>\n",
       "      <td>4.0</td>\n",
       "      <td>0.127273</td>\n",
       "    </tr>\n",
       "    <tr>\n",
       "      <td>5.0</td>\n",
       "      <td>0.000000</td>\n",
       "    </tr>\n",
       "  </tbody>\n",
       "</table>\n",
       "</div>"
      ],
      "text/plain": [
       "      deg_cent\n",
       "node          \n",
       "1.0   0.127273\n",
       "2.0   0.000000\n",
       "3.0   0.127273\n",
       "4.0   0.127273\n",
       "5.0   0.000000"
      ]
     },
     "execution_count": 467,
     "metadata": {},
     "output_type": "execute_result"
    }
   ],
   "source": [
    "dc_df.head()"
   ]
  },
  {
   "cell_type": "code",
   "execution_count": 468,
   "metadata": {},
   "outputs": [],
   "source": [
    "# clustering coefficient\n",
    "c = nx.clustering(G)"
   ]
  },
  {
   "cell_type": "code",
   "execution_count": 469,
   "metadata": {},
   "outputs": [],
   "source": [
    "#set up a dataframe, see node as index\n",
    "c_df = pd.DataFrame(c.items(),columns=[\"node\",\"clustering\"])\n",
    "c_df.set_index(\"node\",drop=True,inplace=True)"
   ]
  },
  {
   "cell_type": "code",
   "execution_count": 470,
   "metadata": {},
   "outputs": [
    {
     "data": {
      "text/html": [
       "<div>\n",
       "<style scoped>\n",
       "    .dataframe tbody tr th:only-of-type {\n",
       "        vertical-align: middle;\n",
       "    }\n",
       "\n",
       "    .dataframe tbody tr th {\n",
       "        vertical-align: top;\n",
       "    }\n",
       "\n",
       "    .dataframe thead th {\n",
       "        text-align: right;\n",
       "    }\n",
       "</style>\n",
       "<table border=\"1\" class=\"dataframe\">\n",
       "  <thead>\n",
       "    <tr style=\"text-align: right;\">\n",
       "      <th></th>\n",
       "      <th>clustering</th>\n",
       "    </tr>\n",
       "    <tr>\n",
       "      <th>node</th>\n",
       "      <th></th>\n",
       "    </tr>\n",
       "  </thead>\n",
       "  <tbody>\n",
       "    <tr>\n",
       "      <td>1.0</td>\n",
       "      <td>0.047619</td>\n",
       "    </tr>\n",
       "    <tr>\n",
       "      <td>2.0</td>\n",
       "      <td>0.000000</td>\n",
       "    </tr>\n",
       "    <tr>\n",
       "      <td>3.0</td>\n",
       "      <td>0.095238</td>\n",
       "    </tr>\n",
       "    <tr>\n",
       "      <td>4.0</td>\n",
       "      <td>0.333333</td>\n",
       "    </tr>\n",
       "    <tr>\n",
       "      <td>5.0</td>\n",
       "      <td>0.000000</td>\n",
       "    </tr>\n",
       "  </tbody>\n",
       "</table>\n",
       "</div>"
      ],
      "text/plain": [
       "      clustering\n",
       "node            \n",
       "1.0     0.047619\n",
       "2.0     0.000000\n",
       "3.0     0.095238\n",
       "4.0     0.333333\n",
       "5.0     0.000000"
      ]
     },
     "execution_count": 470,
     "metadata": {},
     "output_type": "execute_result"
    }
   ],
   "source": [
    "# inspect\n",
    "c_df.head()"
   ]
  },
  {
   "cell_type": "code",
   "execution_count": 471,
   "metadata": {},
   "outputs": [],
   "source": [
    "df2 = pd.concat([node_df,degree_df, degree_wtd_df,dc_df,between_df,close_df,c_df], axis= 1, sort=False)"
   ]
  },
  {
   "cell_type": "code",
   "execution_count": 472,
   "metadata": {},
   "outputs": [
    {
     "data": {
      "text/html": [
       "<div>\n",
       "<style scoped>\n",
       "    .dataframe tbody tr th:only-of-type {\n",
       "        vertical-align: middle;\n",
       "    }\n",
       "\n",
       "    .dataframe tbody tr th {\n",
       "        vertical-align: top;\n",
       "    }\n",
       "\n",
       "    .dataframe thead th {\n",
       "        text-align: right;\n",
       "    }\n",
       "</style>\n",
       "<table border=\"1\" class=\"dataframe\">\n",
       "  <thead>\n",
       "    <tr style=\"text-align: right;\">\n",
       "      <th></th>\n",
       "      <th>Name</th>\n",
       "      <th>Degree</th>\n",
       "      <th>Year</th>\n",
       "      <th>Role</th>\n",
       "      <th>SA</th>\n",
       "      <th>degree</th>\n",
       "      <th>degree_wtd</th>\n",
       "      <th>deg_cent</th>\n",
       "      <th>between_cent</th>\n",
       "      <th>close_cent</th>\n",
       "      <th>clustering</th>\n",
       "    </tr>\n",
       "    <tr>\n",
       "      <th>node</th>\n",
       "      <th></th>\n",
       "      <th></th>\n",
       "      <th></th>\n",
       "      <th></th>\n",
       "      <th></th>\n",
       "      <th></th>\n",
       "      <th></th>\n",
       "      <th></th>\n",
       "      <th></th>\n",
       "      <th></th>\n",
       "      <th></th>\n",
       "    </tr>\n",
       "  </thead>\n",
       "  <tbody>\n",
       "    <tr>\n",
       "      <td>1.0</td>\n",
       "      <td>Arzadon.M</td>\n",
       "      <td>DS</td>\n",
       "      <td>FR</td>\n",
       "      <td>Student</td>\n",
       "      <td>1.0</td>\n",
       "      <td>7.0</td>\n",
       "      <td>5.6</td>\n",
       "      <td>0.127273</td>\n",
       "      <td>0.156207</td>\n",
       "      <td>0.355008</td>\n",
       "      <td>0.047619</td>\n",
       "    </tr>\n",
       "    <tr>\n",
       "      <td>2.0</td>\n",
       "      <td>NaN</td>\n",
       "      <td>NaN</td>\n",
       "      <td>NaN</td>\n",
       "      <td>NaN</td>\n",
       "      <td>NaN</td>\n",
       "      <td>0.0</td>\n",
       "      <td>0.0</td>\n",
       "      <td>0.000000</td>\n",
       "      <td>0.000000</td>\n",
       "      <td>0.000000</td>\n",
       "      <td>0.000000</td>\n",
       "    </tr>\n",
       "    <tr>\n",
       "      <td>3.0</td>\n",
       "      <td>Copsey.L</td>\n",
       "      <td>DS</td>\n",
       "      <td>JR</td>\n",
       "      <td>Student</td>\n",
       "      <td>0.0</td>\n",
       "      <td>7.0</td>\n",
       "      <td>6.8</td>\n",
       "      <td>0.127273</td>\n",
       "      <td>0.106886</td>\n",
       "      <td>0.337830</td>\n",
       "      <td>0.095238</td>\n",
       "    </tr>\n",
       "    <tr>\n",
       "      <td>4.0</td>\n",
       "      <td>Cox.K</td>\n",
       "      <td>DS</td>\n",
       "      <td>JR</td>\n",
       "      <td>Student</td>\n",
       "      <td>0.0</td>\n",
       "      <td>7.0</td>\n",
       "      <td>8.8</td>\n",
       "      <td>0.127273</td>\n",
       "      <td>0.053383</td>\n",
       "      <td>0.343368</td>\n",
       "      <td>0.333333</td>\n",
       "    </tr>\n",
       "    <tr>\n",
       "      <td>5.0</td>\n",
       "      <td>NaN</td>\n",
       "      <td>NaN</td>\n",
       "      <td>NaN</td>\n",
       "      <td>NaN</td>\n",
       "      <td>NaN</td>\n",
       "      <td>0.0</td>\n",
       "      <td>0.0</td>\n",
       "      <td>0.000000</td>\n",
       "      <td>0.000000</td>\n",
       "      <td>0.000000</td>\n",
       "      <td>0.000000</td>\n",
       "    </tr>\n",
       "  </tbody>\n",
       "</table>\n",
       "</div>"
      ],
      "text/plain": [
       "           Name Degree Year     Role   SA  degree  degree_wtd  deg_cent  \\\n",
       "node                                                                      \n",
       "1.0   Arzadon.M     DS   FR  Student  1.0     7.0         5.6  0.127273   \n",
       "2.0         NaN    NaN  NaN      NaN  NaN     0.0         0.0  0.000000   \n",
       "3.0    Copsey.L     DS   JR  Student  0.0     7.0         6.8  0.127273   \n",
       "4.0       Cox.K     DS   JR  Student  0.0     7.0         8.8  0.127273   \n",
       "5.0         NaN    NaN  NaN      NaN  NaN     0.0         0.0  0.000000   \n",
       "\n",
       "      between_cent  close_cent  clustering  \n",
       "node                                        \n",
       "1.0       0.156207    0.355008    0.047619  \n",
       "2.0       0.000000    0.000000    0.000000  \n",
       "3.0       0.106886    0.337830    0.095238  \n",
       "4.0       0.053383    0.343368    0.333333  \n",
       "5.0       0.000000    0.000000    0.000000  "
      ]
     },
     "execution_count": 472,
     "metadata": {},
     "output_type": "execute_result"
    }
   ],
   "source": [
    "# inspect\n",
    "df2.head()"
   ]
  },
  {
   "cell_type": "code",
   "execution_count": 473,
   "metadata": {},
   "outputs": [],
   "source": [
    "import matplotlib.pyplot as plt\n",
    "import networkx as nx\n",
    "import seaborn as sns\n",
    "import warnings                   #<--- use this to suppress deprecation warnings from matplotlib\n",
    "warnings.filterwarnings(\"ignore\")\n",
    "\n",
    "# set up a function to plot the distribution of centrality metric in the graph. \n",
    "# Three types of graphs 1 = hist, 2 - seaborn distplot, 3 - seaborn hist and distplot\n",
    "def plot_degree_dist(metric,metric_name,type=1):\n",
    "    plt.figure(figsize=(15,6))\n",
    "    if type==1:\n",
    "        plt.hist(metric,bins=20)      # histogram\n",
    "    elif type==2:\n",
    "        sns.distplot(metric,bins=20)   # seaborn distribution plot\n",
    "    else:\n",
    "        sns.distplot(metric, rug=True, rug_kws={\"color\": \"g\"},  # more customized distribution plot plus histogram\n",
    "             kde_kws={\"color\": \"k\", \"lw\": 3, \"label\": \"KDE\"},\n",
    "             hist_kws={\"histtype\": \"step\", \"linewidth\": 3,\"alpha\": 1, \"color\": \"g\"})\n",
    "    plt.title(metric_name+ \" Distribution of Student Network\")\n",
    "    plt.show()"
   ]
  },
  {
   "cell_type": "code",
   "execution_count": 474,
   "metadata": {},
   "outputs": [
    {
     "data": {
      "image/png": "[encoded data removed]",
      "text/plain": [
       "<Figure size 1080x432 with 1 Axes>"
      ]
     },
     "metadata": {
      "needs_background": "light"
     },
     "output_type": "display_data"
    }
   ],
   "source": [
    "plot_degree_dist(df2.deg_cent,\"Degree Centrality\",type=2)"
   ]
  },
  {
   "cell_type": "code",
   "execution_count": 475,
   "metadata": {},
   "outputs": [
    {
     "name": "stdout",
     "output_type": "stream",
     "text": [
      "[10, 24.0, 4.0, 13]\n",
      " Next:  10   {'Name': 'Nguyen.A', 'Degree': 'DS', 'Year': 'SR', 'Role': 'Student', 'SA': 1}\n",
      " Next:  24.0   {'Name': 'Zafiris.V', 'Degree': 'MATH', 'Year': 'PHD', 'Role': 'Professor', 'SA': 0}\n",
      " Next:  4.0   {'Name': 'Gee.J', 'Degree': 'DS', 'Year': 'SR', 'Role': 'Student', 'SA': 0}\n",
      " Next:  13   {'Name': 'Ruiz.E', 'Degree': 'CS', 'Year': 'SR', 'Role': 'Student', 'SA': 1}\n"
     ]
    }
   ],
   "source": [
    "# what is the shortest path between node 10 and node 113?\n",
    "source = 10\n",
    "target = 13\n",
    "shortest_path = nx.shortest_path(G,source=source,target=target)\n",
    "print(shortest_path)\n",
    "for student in shortest_path:\n",
    "    print(\" Next: \",student,\" \",G.nodes(data=True)[student])"
   ]
  },
  {
   "cell_type": "code",
   "execution_count": 476,
   "metadata": {},
   "outputs": [],
   "source": [
    "#What is the shortest path between me and the highest centrality node? (assuming you aren’t the highest centrality node otherwise, pick the next most central node)"
   ]
  },
  {
   "cell_type": "code",
   "execution_count": 477,
   "metadata": {},
   "outputs": [
    {
     "name": "stdout",
     "output_type": "stream",
     "text": [
      "[9, 35.0]\n",
      " Next:  9   {'Name': 'Ly.H', 'Degree': 'CS', 'Year': 'SR', 'Role': 'Student', 'SA': 0}\n",
      " Next:  35.0   {'Name': 'Phan.S', 'Degree': 'CS', 'Year': 'SR', 'Role': 'Student', 'SA': 1}\n"
     ]
    }
   ],
   "source": [
    "source = 9\n",
    "target = 35\n",
    "shortest_path = nx.shortest_path(G,source=source,target=target)\n",
    "print(shortest_path)\n",
    "for student in shortest_path:\n",
    "    print(\" Next: \",student,\" \",G.nodes(data=True)[student])"
   ]
  },
  {
   "cell_type": "code",
   "execution_count": 478,
   "metadata": {},
   "outputs": [],
   "source": [
    "#Who are the neighbors of the highest degree centrality node?"
   ]
  },
  {
   "cell_type": "code",
   "execution_count": 479,
   "metadata": {},
   "outputs": [],
   "source": [
    "# get the index of node with the highest degree\n",
    "max_degree = df2.degree.idxmax()\n",
    "max_between = df2.between_cent.idxmax()"
   ]
  },
  {
   "cell_type": "code",
   "execution_count": 480,
   "metadata": {},
   "outputs": [
    {
     "data": {
      "text/plain": [
       "'Huynh.H'"
      ]
     },
     "execution_count": 480,
     "metadata": {},
     "output_type": "execute_result"
    }
   ],
   "source": [
    "df2.loc[max_degree,\"Name\"]"
   ]
  },
  {
   "cell_type": "code",
   "execution_count": 481,
   "metadata": {},
   "outputs": [
    {
     "name": "stdout",
     "output_type": "stream",
     "text": [
      "Node id with highest degree is:  9.0 / Huynh.H , with degree =  8.0\n",
      "Neighbors are:\n"
     ]
    },
    {
     "data": {
      "text/plain": [
       "[3.0, 17.0, 7.0, 11.0, 35.0, 44.0, 36.0, 25.0]"
      ]
     },
     "execution_count": 481,
     "metadata": {},
     "output_type": "execute_result"
    }
   ],
   "source": [
    "# use .loc, .neighbors()\n",
    "print(\"Node id with highest degree is: \",max_degree,\"/\",df2.loc[max_degree,\"Name\"],\n",
    "      \", with degree = \",df2.loc[max_degree,\"degree\"])\n",
    "print(\"Neighbors are:\")\n",
    "list(G.neighbors(max_degree))"
   ]
  },
  {
   "cell_type": "code",
   "execution_count": 482,
   "metadata": {},
   "outputs": [
    {
     "name": "stdout",
     "output_type": "stream",
     "text": [
      "Node id with highest betweenness centrality is:  35.0 / Henderson.J , with betweenness =  0.1928020950243173\n",
      "Neighbors are:\n"
     ]
    },
    {
     "data": {
      "text/plain": [
       "[13.0, 26.0, 20.0, 4.0, 9.0]"
      ]
     },
     "execution_count": 482,
     "metadata": {},
     "output_type": "execute_result"
    }
   ],
   "source": [
    "print(\"Node id with highest betweenness centrality is: \",max_between,\"/\",df2.loc[max_between,\"Name\"],\n",
    "      \", with betweenness = \",df2.loc[max_between,\"between_cent\"])\n",
    "print(\"Neighbors are:\")\n",
    "list(G.neighbors(max_between))"
   ]
  },
  {
   "cell_type": "code",
   "execution_count": 483,
   "metadata": {},
   "outputs": [],
   "source": [
    "#What is the subgraph and plot of your node and the nodes of the two highest degree centrality node – This could form a basis for a recommendation engine for students to get to know (they seem to be connected and central for some reason)"
   ]
  },
  {
   "cell_type": "code",
   "execution_count": 484,
   "metadata": {},
   "outputs": [
    {
     "data": {
      "image/png": "[encoded data removed]",
      "text/plain": [
       "<Figure size 432x432 with 1 Axes>"
      ]
     },
     "metadata": {},
     "output_type": "display_data"
    }
   ],
   "source": [
    "# the subgraph of me and the two highest degree centrality node.\n",
    "res = [9,3,17,7,11,35,44,36,25,13,26,20,4,9]\n",
    "k = G.subgraph(res)  \n",
    "pos = nx.spring_layout(k)  #setting the positions with respect to G, not k.\n",
    "plt.figure(figsize=(6,6))\n",
    "nx.draw_networkx(k, pos=pos)\n",
    "plt.show()"
   ]
  },
  {
   "cell_type": "code",
   "execution_count": 493,
   "metadata": {},
   "outputs": [
    {
     "data": {
      "image/png": "[encoded data removed]",
      "text/plain": [
       "<Figure size 720x720 with 1 Axes>"
      ]
     },
     "metadata": {},
     "output_type": "display_data"
    }
   ],
   "source": [
    "pos = nx.circular_layout(G)  #setting the positions with respect to G, not k.\n",
    "plt.figure(figsize=(10,10))\n",
    "\n",
    "nx.draw_networkx_labels(G, pos, labels, font_size=16)\n",
    "\n",
    "nx.draw_networkx_nodes(G, pos=pos,node_color=color_map,node_size = 50*df2.degree,node_labels=True,\n",
    "                  edges=edges, width=weights)\n",
    "nx.draw_networkx_edges(G, pos=pos,node_color=color_map,node_size = 50*df2.degree,node_labels=True,\n",
    "                  edges=edges, width=weights,alpha=0.3)\n",
    "plt.title(\"Karate Network Graph\",fontsize= 15)\n",
    "plt.show()"
   ]
  },
  {
   "cell_type": "code",
   "execution_count": null,
   "metadata": {},
   "outputs": [],
   "source": []
  },
  {
   "cell_type": "code",
   "execution_count": null,
   "metadata": {},
   "outputs": [],
   "source": []
  },
  {
   "cell_type": "code",
   "execution_count": null,
   "metadata": {},
   "outputs": [],
   "source": []
  }
 ],
 "metadata": {
  "kernelspec": {
   "display_name": "Python 3",
   "language": "python",
   "name": "python3"
  },
  "language_info": {
   "codemirror_mode": {
    "name": "ipython",
    "version": 3
   },
   "file_extension": ".py",
   "mimetype": "text/x-python",
   "name": "python",
   "nbconvert_exporter": "python",
   "pygments_lexer": "ipython3",
   "version": "3.7.4"
  }
 },
 "nbformat": 4,
 "nbformat_minor": 2
}
