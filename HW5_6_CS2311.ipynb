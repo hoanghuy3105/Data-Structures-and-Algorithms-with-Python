{
 "cells": [
  {
   "cell_type": "markdown",
   "metadata": {},
   "source": [
    "# CS2311-Algorithms and Data Structures With Python\n",
    "## Homework 5-6 P\n",
    "## Due Date: See BlackBoard"
   ]
  },
  {
   "cell_type": "markdown",
   "metadata": {},
   "source": [
    "## Student Name: Huy Huynh"
   ]
  },
  {
   "cell_type": "markdown",
   "metadata": {},
   "source": [
    "**Submission guidelines**\n",
    "\n",
    "• Submit your Jupyter Notebook file on BlackBoard.  Please provide any supporting data input/output files in the zip folder.  Include images output in the zip file and embed in the notebook file.  I should be able to run and replicate your results.\n",
    "\n",
    "<pre>\n",
    "HW#.zip    -> HW3.zip\n",
    "</pre>\n",
    "\n",
    "**Grading Criteria:**\n",
    "<pre>\n",
    "•\tGood documentation/comments and program readability\n",
    "•\tAlgorithm/pseudo-code is explained and efficient\n",
    "•\tProgram runs correctly for test cases with no syntax errors or logical errors\n",
    "</pre>"
   ]
  },
  {
   "cell_type": "markdown",
   "metadata": {},
   "source": [
    "# Topic: Object Oriented Programming"
   ]
  },
  {
   "cell_type": "markdown",
   "metadata": {},
   "source": [
    "## 1.\t[20 points] Square Class\n",
    "\n",
    "Write a class that implements a Square shape. "
   ]
  },
  {
   "cell_type": "markdown",
   "metadata": {},
   "source": [
    "### Algorithm Steps function:\n",
    "<pre>\n",
    "1. Set up a class name Square\n",
    "2. Generate a side as an input for calculation\n",
    "3. Set up a method to calculate perimeter as side multiplies with 4\n",
    "4. Set up a method to calculate area as side multiplies with itself\n",
    "5. Set up a method to calculate diagonal as a squareroot of the expression (2 × side2)\n",
    "6. Return the results for each variable.\n",
    "</pre>"
   ]
  },
  {
   "cell_type": "code",
   "execution_count": 8,
   "metadata": {},
   "outputs": [
    {
     "name": "stdout",
     "output_type": "stream",
     "text": [
      "Side of the square :  2\n",
      "Perimeter of the square :  8\n",
      "Area of the square :  4\n",
      "Diagonal of the square :  2.8284271247461903\n"
     ]
    }
   ],
   "source": [
    "# Enter your code with comments here\n",
    "import math #import math library for calculation\n",
    "\n",
    "class Square: #Initialize the Square class\n",
    "    def __init__(self, side): #Set up a side as an input \n",
    "        self.side = side\n",
    "    def perimeter(self): #Set up function perimeter\n",
    "        return 4 * self.side #Formula for perimeter\n",
    "    def area(self): # Set up function area\n",
    "        return self.side * self.side #Formula for area\n",
    "    def diagonal(self): #Set up function for diagonal\n",
    "        return math.sqrt(2 * self.side * self.side) #Formula for diagonal\n",
    "\n",
    "#s = Square() Input a number\n",
    "#Print out the results\n",
    "print(\"Side of the square : \" , s.side)\n",
    "print(\"Perimeter of the square : \" , s.perimeter())\n",
    "print(\"Area of the square : \" , s.area())\n",
    "print(\"Diagonal of the square : \", s.diagonal())\n"
   ]
  },
  {
   "cell_type": "code",
   "execution_count": 15,
   "metadata": {},
   "outputs": [
    {
     "name": "stdout",
     "output_type": "stream",
     "text": [
      "Side of the square :  8\n",
      "Perimeter of the square :  32\n",
      "Area of the square :  64\n",
      "Diagonal of the square :  11.313708498984761\n"
     ]
    }
   ],
   "source": [
    "# Test case\n",
    "import math #import math library for calculation\n",
    "\n",
    "class Square: #Initialize the Square class\n",
    "    def __init__(self, side): #Set up a side as an input \n",
    "        self.side = side\n",
    "    def perimeter(self): #Set up function perimeter\n",
    "        return 4 * self.side #Formula for perimeter\n",
    "    def area(self): # Set up function area\n",
    "        return self.side * self.side #Formula for area\n",
    "    def diagonal(self): #Set up function for diagonal\n",
    "        return math.sqrt(2 * self.side * self.side) #Formula for diagonal\n",
    "\n",
    "s = Square(8) #Input a number\n",
    "#Print out the results\n",
    "print(\"Side of the square : \" , s.side)\n",
    "print(\"Perimeter of the square : \" , s.perimeter())\n",
    "print(\"Area of the square : \" , s.area())\n",
    "print(\"Diagonal of the square : \", s.diagonal())"
   ]
  },
  {
   "cell_type": "markdown",
   "metadata": {},
   "source": [
    "## 2.\t[25 points] UML Diagram, Employee and ProductionWorker Classes\n",
    "\n",
    "Write an Employee ProductionWorker class and test the classes.  Show your design with a UML diagram."
   ]
  },
  {
   "cell_type": "markdown",
   "metadata": {},
   "source": [
    "### Algorithm Steps function:\n",
    "<pre>\n",
    "1. Create a class\n",
    "2. Create data attributes such as name and id with their methods\n",
    "3. Create a subclass\n",
    "4. Call a super class inside the subclass \n",
    "5. Create data attributes as shift and hourly rate\n",
    "6. Create a function to input info and store them.\n",
    "7. Create an onject that enter data for each of the object’s data attributes\n",
    "8. Using method to display the results.\n",
    "</pre>"
   ]
  },
  {
   "cell_type": "markdown",
   "metadata": {},
   "source": []
  },
  {
   "cell_type": "markdown",
   "metadata": {},
   "source": [
    "### Paste your UML diagram image here\n",
    "![](UML.png)"
   ]
  },
  {
   "cell_type": "code",
   "execution_count": 16,
   "metadata": {},
   "outputs": [
    {
     "ename": "KeyboardInterrupt",
     "evalue": "",
     "output_type": "error",
     "traceback": [
      "\u001b[0;31m---------------------------------------------------------------------------\u001b[0m",
      "\u001b[0;31mKeyboardInterrupt\u001b[0m                         Traceback (most recent call last)",
      "\u001b[0;32m/opt/anaconda3/lib/python3.7/site-packages/ipykernel/kernelbase.py\u001b[0m in \u001b[0;36m_input_request\u001b[0;34m(self, prompt, ident, parent, password)\u001b[0m\n\u001b[1;32m    884\u001b[0m             \u001b[0;32mtry\u001b[0m\u001b[0;34m:\u001b[0m\u001b[0;34m\u001b[0m\u001b[0;34m\u001b[0m\u001b[0m\n\u001b[0;32m--> 885\u001b[0;31m                 \u001b[0mident\u001b[0m\u001b[0;34m,\u001b[0m \u001b[0mreply\u001b[0m \u001b[0;34m=\u001b[0m \u001b[0mself\u001b[0m\u001b[0;34m.\u001b[0m\u001b[0msession\u001b[0m\u001b[0;34m.\u001b[0m\u001b[0mrecv\u001b[0m\u001b[0;34m(\u001b[0m\u001b[0mself\u001b[0m\u001b[0;34m.\u001b[0m\u001b[0mstdin_socket\u001b[0m\u001b[0;34m,\u001b[0m \u001b[0;36m0\u001b[0m\u001b[0;34m)\u001b[0m\u001b[0;34m\u001b[0m\u001b[0;34m\u001b[0m\u001b[0m\n\u001b[0m\u001b[1;32m    886\u001b[0m             \u001b[0;32mexcept\u001b[0m \u001b[0mException\u001b[0m\u001b[0;34m:\u001b[0m\u001b[0;34m\u001b[0m\u001b[0;34m\u001b[0m\u001b[0m\n",
      "\u001b[0;32m/opt/anaconda3/lib/python3.7/site-packages/jupyter_client/session.py\u001b[0m in \u001b[0;36mrecv\u001b[0;34m(self, socket, mode, content, copy)\u001b[0m\n\u001b[1;32m    802\u001b[0m         \u001b[0;32mtry\u001b[0m\u001b[0;34m:\u001b[0m\u001b[0;34m\u001b[0m\u001b[0;34m\u001b[0m\u001b[0m\n\u001b[0;32m--> 803\u001b[0;31m             \u001b[0mmsg_list\u001b[0m \u001b[0;34m=\u001b[0m \u001b[0msocket\u001b[0m\u001b[0;34m.\u001b[0m\u001b[0mrecv_multipart\u001b[0m\u001b[0;34m(\u001b[0m\u001b[0mmode\u001b[0m\u001b[0;34m,\u001b[0m \u001b[0mcopy\u001b[0m\u001b[0;34m=\u001b[0m\u001b[0mcopy\u001b[0m\u001b[0;34m)\u001b[0m\u001b[0;34m\u001b[0m\u001b[0;34m\u001b[0m\u001b[0m\n\u001b[0m\u001b[1;32m    804\u001b[0m         \u001b[0;32mexcept\u001b[0m \u001b[0mzmq\u001b[0m\u001b[0;34m.\u001b[0m\u001b[0mZMQError\u001b[0m \u001b[0;32mas\u001b[0m \u001b[0me\u001b[0m\u001b[0;34m:\u001b[0m\u001b[0;34m\u001b[0m\u001b[0;34m\u001b[0m\u001b[0m\n",
      "\u001b[0;32m/opt/anaconda3/lib/python3.7/site-packages/zmq/sugar/socket.py\u001b[0m in \u001b[0;36mrecv_multipart\u001b[0;34m(self, flags, copy, track)\u001b[0m\n\u001b[1;32m    474\u001b[0m         \"\"\"\n\u001b[0;32m--> 475\u001b[0;31m         \u001b[0mparts\u001b[0m \u001b[0;34m=\u001b[0m \u001b[0;34m[\u001b[0m\u001b[0mself\u001b[0m\u001b[0;34m.\u001b[0m\u001b[0mrecv\u001b[0m\u001b[0;34m(\u001b[0m\u001b[0mflags\u001b[0m\u001b[0;34m,\u001b[0m \u001b[0mcopy\u001b[0m\u001b[0;34m=\u001b[0m\u001b[0mcopy\u001b[0m\u001b[0;34m,\u001b[0m \u001b[0mtrack\u001b[0m\u001b[0;34m=\u001b[0m\u001b[0mtrack\u001b[0m\u001b[0;34m)\u001b[0m\u001b[0;34m]\u001b[0m\u001b[0;34m\u001b[0m\u001b[0;34m\u001b[0m\u001b[0m\n\u001b[0m\u001b[1;32m    476\u001b[0m         \u001b[0;31m# have first part already, only loop while more to receive\u001b[0m\u001b[0;34m\u001b[0m\u001b[0;34m\u001b[0m\u001b[0;34m\u001b[0m\u001b[0m\n",
      "\u001b[0;32mzmq/backend/cython/socket.pyx\u001b[0m in \u001b[0;36mzmq.backend.cython.socket.Socket.recv\u001b[0;34m()\u001b[0m\n",
      "\u001b[0;32mzmq/backend/cython/socket.pyx\u001b[0m in \u001b[0;36mzmq.backend.cython.socket.Socket.recv\u001b[0;34m()\u001b[0m\n",
      "\u001b[0;32mzmq/backend/cython/socket.pyx\u001b[0m in \u001b[0;36mzmq.backend.cython.socket._recv_copy\u001b[0;34m()\u001b[0m\n",
      "\u001b[0;32m/opt/anaconda3/lib/python3.7/site-packages/zmq/backend/cython/checkrc.pxd\u001b[0m in \u001b[0;36mzmq.backend.cython.checkrc._check_rc\u001b[0;34m()\u001b[0m\n",
      "\u001b[0;31mKeyboardInterrupt\u001b[0m: ",
      "\nDuring handling of the above exception, another exception occurred:\n",
      "\u001b[0;31mKeyboardInterrupt\u001b[0m                         Traceback (most recent call last)",
      "\u001b[0;32m<ipython-input-16-31d3c1236b92>\u001b[0m in \u001b[0;36m<module>\u001b[0;34m\u001b[0m\n\u001b[1;32m     70\u001b[0m     \u001b[0mprint\u001b[0m\u001b[0;34m(\u001b[0m\u001b[0;34m'Shift:'\u001b[0m\u001b[0;34m,\u001b[0m \u001b[0mworker\u001b[0m\u001b[0;34m.\u001b[0m\u001b[0mgetShift\u001b[0m\u001b[0;34m(\u001b[0m\u001b[0;34m)\u001b[0m\u001b[0;34m)\u001b[0m\u001b[0;34m\u001b[0m\u001b[0;34m\u001b[0m\u001b[0m\n\u001b[1;32m     71\u001b[0m     \u001b[0mprint\u001b[0m\u001b[0;34m(\u001b[0m\u001b[0;34m'Hourly pay rate:'\u001b[0m\u001b[0;34m,\u001b[0m \u001b[0mworker\u001b[0m\u001b[0;34m.\u001b[0m\u001b[0mgetHourlyRate\u001b[0m\u001b[0;34m(\u001b[0m\u001b[0;34m)\u001b[0m\u001b[0;34m)\u001b[0m\u001b[0;34m\u001b[0m\u001b[0;34m\u001b[0m\u001b[0m\n\u001b[0;32m---> 72\u001b[0;31m \u001b[0mmain\u001b[0m\u001b[0;34m(\u001b[0m\u001b[0;34m)\u001b[0m\u001b[0;34m\u001b[0m\u001b[0;34m\u001b[0m\u001b[0m\n\u001b[0m",
      "\u001b[0;32m<ipython-input-16-31d3c1236b92>\u001b[0m in \u001b[0;36mmain\u001b[0;34m()\u001b[0m\n\u001b[1;32m     55\u001b[0m         \u001b[0;32mreturn\u001b[0m \u001b[0;34m\"Night\"\u001b[0m\u001b[0;34m\u001b[0m\u001b[0;34m\u001b[0m\u001b[0m\n\u001b[1;32m     56\u001b[0m \u001b[0;32mdef\u001b[0m \u001b[0mmain\u001b[0m\u001b[0;34m(\u001b[0m\u001b[0;34m)\u001b[0m\u001b[0;34m:\u001b[0m\u001b[0;34m\u001b[0m\u001b[0;34m\u001b[0m\u001b[0m\n\u001b[0;32m---> 57\u001b[0;31m     \u001b[0mname\u001b[0m \u001b[0;34m=\u001b[0m \u001b[0minput\u001b[0m\u001b[0;34m(\u001b[0m\u001b[0;34m\"Enter name of employee: \"\u001b[0m\u001b[0;34m)\u001b[0m\u001b[0;34m\u001b[0m\u001b[0;34m\u001b[0m\u001b[0m\n\u001b[0m\u001b[1;32m     58\u001b[0m     \u001b[0mnumber\u001b[0m \u001b[0;34m=\u001b[0m \u001b[0mint\u001b[0m\u001b[0;34m(\u001b[0m\u001b[0minput\u001b[0m\u001b[0;34m(\u001b[0m\u001b[0;34m\"Enter employee number: \"\u001b[0m\u001b[0;34m)\u001b[0m\u001b[0;34m)\u001b[0m\u001b[0;34m\u001b[0m\u001b[0;34m\u001b[0m\u001b[0m\n\u001b[1;32m     59\u001b[0m     \u001b[0mshift\u001b[0m \u001b[0;34m=\u001b[0m \u001b[0mint\u001b[0m\u001b[0;34m(\u001b[0m\u001b[0minput\u001b[0m\u001b[0;34m(\u001b[0m\u001b[0;34m\"Enter Shift(either 1 or 2): \"\u001b[0m\u001b[0;34m)\u001b[0m\u001b[0;34m)\u001b[0m\u001b[0;34m\u001b[0m\u001b[0;34m\u001b[0m\u001b[0m\n",
      "\u001b[0;32m/opt/anaconda3/lib/python3.7/site-packages/ipykernel/kernelbase.py\u001b[0m in \u001b[0;36mraw_input\u001b[0;34m(self, prompt)\u001b[0m\n\u001b[1;32m    858\u001b[0m             \u001b[0mself\u001b[0m\u001b[0;34m.\u001b[0m\u001b[0m_parent_ident\u001b[0m\u001b[0;34m,\u001b[0m\u001b[0;34m\u001b[0m\u001b[0;34m\u001b[0m\u001b[0m\n\u001b[1;32m    859\u001b[0m             \u001b[0mself\u001b[0m\u001b[0;34m.\u001b[0m\u001b[0m_parent_header\u001b[0m\u001b[0;34m,\u001b[0m\u001b[0;34m\u001b[0m\u001b[0;34m\u001b[0m\u001b[0m\n\u001b[0;32m--> 860\u001b[0;31m             \u001b[0mpassword\u001b[0m\u001b[0;34m=\u001b[0m\u001b[0;32mFalse\u001b[0m\u001b[0;34m,\u001b[0m\u001b[0;34m\u001b[0m\u001b[0;34m\u001b[0m\u001b[0m\n\u001b[0m\u001b[1;32m    861\u001b[0m         )\n\u001b[1;32m    862\u001b[0m \u001b[0;34m\u001b[0m\u001b[0m\n",
      "\u001b[0;32m/opt/anaconda3/lib/python3.7/site-packages/ipykernel/kernelbase.py\u001b[0m in \u001b[0;36m_input_request\u001b[0;34m(self, prompt, ident, parent, password)\u001b[0m\n\u001b[1;32m    888\u001b[0m             \u001b[0;32mexcept\u001b[0m \u001b[0mKeyboardInterrupt\u001b[0m\u001b[0;34m:\u001b[0m\u001b[0;34m\u001b[0m\u001b[0;34m\u001b[0m\u001b[0m\n\u001b[1;32m    889\u001b[0m                 \u001b[0;31m# re-raise KeyboardInterrupt, to truncate traceback\u001b[0m\u001b[0;34m\u001b[0m\u001b[0;34m\u001b[0m\u001b[0;34m\u001b[0m\u001b[0m\n\u001b[0;32m--> 890\u001b[0;31m                 \u001b[0;32mraise\u001b[0m \u001b[0mKeyboardInterrupt\u001b[0m\u001b[0;34m\u001b[0m\u001b[0;34m\u001b[0m\u001b[0m\n\u001b[0m\u001b[1;32m    891\u001b[0m             \u001b[0;32melse\u001b[0m\u001b[0;34m:\u001b[0m\u001b[0;34m\u001b[0m\u001b[0;34m\u001b[0m\u001b[0m\n\u001b[1;32m    892\u001b[0m                 \u001b[0;32mbreak\u001b[0m\u001b[0;34m\u001b[0m\u001b[0;34m\u001b[0m\u001b[0m\n",
      "\u001b[0;31mKeyboardInterrupt\u001b[0m: "
     ]
    }
   ],
   "source": [
    "# Enter your code with comments here\n",
    "class Employee(object): #Create Empoyee Class\n",
    "  \n",
    "    # The __init__ method accepts arguments for the\n",
    "    # Employee_name, Employee_number. \n",
    "    \n",
    "    def __init__(self, name, number): # The __init__ method accepts arguments for the\n",
    "                                      # Employee_name, Employee_number. \n",
    "        self.name = name\n",
    "        self.number = number\n",
    "  \n",
    "    # Set up the mutators for the class's data attributes.\n",
    "    # To set Employee number\n",
    "    def setName(self, number):\n",
    "        self.number = number   \n",
    "  \n",
    "    # To set Employee name\n",
    "    def setName(self, name):\n",
    "        self.name = name\n",
    "  \n",
    " \n",
    "    # Set up the accessors for the class's data attributes.\n",
    "    # To get Employee number\n",
    "    def getNumber(self):\n",
    "        return self.number\n",
    "    # To get Employee name    \n",
    "    def getName(self):\n",
    "        return self.name\n",
    "  \n",
    "    #Create a sublcass\n",
    "class ProductionWorker(Employee):\n",
    "    \n",
    "    def __init__(self, name, number, shift, hourly_rate): \n",
    "        Employee.__init__(self, name, number) #Call the superclass\n",
    "        self.shift = shift  #The __init__ method accepts arguments for the\n",
    "                            # Employee name, Employee ID from superclass, \n",
    "                            #And Shift number, and Hourly pay rate.\n",
    "        self.hourly_rate = hourly_rate\n",
    " # Set up the mutators for the class's data attributes.  \n",
    " # To set shift\n",
    "    def setShift(self, shift):\n",
    "        self.shift = shift\n",
    " #To set hourly_rate\n",
    "    def setHourlyRate(self, rate):\n",
    "        self.hourly_rate = rate\n",
    "  \n",
    " # Set up the accessors for the class's data attributes.\n",
    " #To get hourly_rate\n",
    "    def getHourlyRate(self):\n",
    "        return self.hourly_rate\n",
    " # To get shift\n",
    "    def getShift(self):\n",
    "        if(self.shift == 1):\n",
    "            return \"Day\"\n",
    "        return \"Night\"\n",
    "def main():\n",
    "    name = input(\"Enter name of employee: \")\n",
    "    number = int(input(\"Enter employee number: \"))\n",
    "    shift = int(input(\"Enter Shift(either 1 or 2): \"))\n",
    "    rate = float(input(\"Enter hourly rate:\"))\n",
    "\n",
    "    # An Object of ProductionWorker\n",
    "    worker = ProductionWorker(name, number, shift, rate)\n",
    "\n",
    "    #Display the result\n",
    "    print('Employee')\n",
    "    print('---------------')\n",
    "    print('Employee name:', worker.getName())\n",
    "    print('Employee nunber:', worker.getNumber())\n",
    "    print('Shift:', worker.getShift())\n",
    "    print('Hourly pay rate:', worker.getHourlyRate())\n",
    "main()"
   ]
  },
  {
   "cell_type": "code",
   "execution_count": 13,
   "metadata": {},
   "outputs": [
    {
     "name": "stdout",
     "output_type": "stream",
     "text": [
      "Enter name of employee: Huy\n",
      "Enter employee number: 12\n",
      "Enter Shift(either 1 or 2): 1\n",
      "Enter hourly rate:12.5\n",
      "Employee\n",
      "---------------\n",
      "Employee name: Huy\n",
      "Employee nunber: 12\n",
      "Shift: Day\n",
      "Hourly pay rate: 12.5\n"
     ]
    }
   ],
   "source": [
    "# Test case\n",
    "class Employee(object): #Create Empoyee Class\n",
    "  \n",
    "    # The __init__ method accepts arguments for the\n",
    "    # Employee_name, Employee_number. \n",
    "    \n",
    "    def __init__(self, name, number): # The __init__ method accepts arguments for the\n",
    "                                      # Employee_name, Employee_number. \n",
    "        self.name = name\n",
    "        self.number = number\n",
    "  \n",
    "    # Set up the mutators for the class's data attributes.\n",
    "    # To set Employee number\n",
    "    def setName(self, number):\n",
    "        self.number = number   \n",
    "  \n",
    "    # To set Employee name\n",
    "    def setName(self, name):\n",
    "        self.name = name\n",
    "  \n",
    " \n",
    "    # Set up the accessors for the class's data attributes.\n",
    "    # To get Employee number\n",
    "    def getNumber(self):\n",
    "        return self.number\n",
    "    # To get Employee name    \n",
    "    def getName(self):\n",
    "        return self.name\n",
    "  \n",
    "    #Create a sublcass\n",
    "class ProductionWorker(Employee):\n",
    "    \n",
    "    def __init__(self, name, number, shift, hourly_rate): \n",
    "        Employee.__init__(self, name, number) #Call the superclass\n",
    "        self.shift = shift  #The __init__ method accepts arguments for the\n",
    "                            # Employee name, Employee ID from superclass, \n",
    "                            #And Shift number, and Hourly pay rate.\n",
    "        self.hourly_rate = hourly_rate\n",
    " # Set up the mutators for the class's data attributes.  \n",
    " # To set shift\n",
    "    def setShift(self, shift):\n",
    "        self.shift = shift\n",
    " #To set hourly_rate\n",
    "    def setHourlyRate(self, rate):\n",
    "        self.hourly_rate = rate\n",
    "  \n",
    " # Set up the accessors for the class's data attributes.\n",
    " #To get hourly_rate\n",
    "    def getHourlyRate(self):\n",
    "        return self.hourly_rate\n",
    " # To get shift\n",
    "    def getShift(self):\n",
    "        if(self.shift == 1):\n",
    "            return \"Day\"\n",
    "        return \"Night\"\n",
    "def main():\n",
    "    name = input(\"Enter name of employee: \")\n",
    "    number = int(input(\"Enter employee number: \"))\n",
    "    shift = int(input(\"Enter Shift(either 1 or 2): \"))\n",
    "    rate = float(input(\"Enter hourly rate:\"))\n",
    "\n",
    "    # An Object of ProductionWorker\n",
    "    worker = ProductionWorker(name, number, shift, rate)\n",
    "\n",
    "    #Display the result\n",
    "    print('Employee')\n",
    "    print('---------------')\n",
    "    print('Employee name:', worker.getName())\n",
    "    print('Employee nunber:', worker.getNumber())\n",
    "    print('Shift:', worker.getShift())\n",
    "    print('Hourly pay rate:', worker.getHourlyRate())\n",
    "main()"
   ]
  },
  {
   "cell_type": "markdown",
   "metadata": {},
   "source": [
    "# Topic:  Recursion"
   ]
  },
  {
   "cell_type": "markdown",
   "metadata": {},
   "source": [
    "## 1.\t[20 points] Visualizing Recursion\n",
    "\n",
    "It’s interesting to watch recursion “in action.” Modify the recursive factorial function we looked at in class to print its local variable and recursive-call parameter. "
   ]
  },
  {
   "cell_type": "markdown",
   "metadata": {},
   "source": [
    "### Algorithm Steps function:\n",
    "<pre>\n",
    "1. Create a function\n",
    "2. Create an empty variable\n",
    "3. Pass an argument to the function\n",
    "4. If an argument is 1 then result should show 1\n",
    "5. Othewise, apply the principle of factorial\n",
    "</pre>"
   ]
  },
  {
   "cell_type": "code",
   "execution_count": 23,
   "metadata": {},
   "outputs": [
    {
     "name": "stdout",
     "output_type": "stream",
     "text": [
      "Step {step}:return 1\n",
      "\n",
      "Factorial is  1\n"
     ]
    }
   ],
   "source": [
    "# Enter your code with comments here\n",
    "st = \"\" \n",
    "def factorial(n):\n",
    "    global st\n",
    "    if(n==1):\n",
    "        print(\"Step {step}:%sreturn 1\"%(st))\n",
    "        return 1\n",
    "    print(\"Step {step}: %s%d * factorial(%d)\"%(st,n,n-1))\n",
    "    st += '\\t'\n",
    "    return n*factorial(n-1)\n",
    "\n",
    "\n",
    "print(\"\\nFactorial is \",factorial(1))\n"
   ]
  },
  {
   "cell_type": "code",
   "execution_count": 21,
   "metadata": {},
   "outputs": [
    {
     "name": "stdout",
     "output_type": "stream",
     "text": [
      "Step {step}: 10 * factorial(9)\n",
      "Step {step}: \t9 * factorial(8)\n",
      "Step {step}: \t\t8 * factorial(7)\n",
      "Step {step}: \t\t\t7 * factorial(6)\n",
      "Step {step}: \t\t\t\t6 * factorial(5)\n",
      "Step {step}: \t\t\t\t\t5 * factorial(4)\n",
      "Step {step}: \t\t\t\t\t\t4 * factorial(3)\n",
      "Step {step}: \t\t\t\t\t\t\t3 * factorial(2)\n",
      "Step {step}: \t\t\t\t\t\t\t\t2 * factorial(1)\n",
      "Step {step}:\t\t\t\t\t\t\t\t\treturn 1\n",
      "\n",
      "Factorial is  3628800\n"
     ]
    }
   ],
   "source": [
    "# Test case\n",
    "st = \"\"\n",
    "def factorial(n):\n",
    "    global st\n",
    "    if(n==1):\n",
    "        print(\"Step {step}:%sreturn 1\"%(st))\n",
    "        return 1\n",
    "    print(\"Step {step}: %s%d * factorial(%d)\"%(st,n,n-1))\n",
    "    st += '\\t'\n",
    "    return n*factorial(n-1)\n",
    "\n",
    "\n",
    "print(\"\\nFactorial is \",factorial(10))"
   ]
  },
  {
   "cell_type": "markdown",
   "metadata": {},
   "source": [
    "## 2.\t[25 points] Recursive Palindrome\n",
    "\n",
    "Write a main program that reads a string from the user. Use your recursive function to determine whether or not the string is a palindrome. Then display an appropriate message for the user.  Benchmark the function running time and establish a best case and worst case Big-0."
   ]
  },
  {
   "cell_type": "markdown",
   "metadata": {},
   "source": [
    "### Algorithm Steps function:\n",
    "<pre>\n",
    "1.\n",
    "2.\n",
    "3.\n",
    "...\n",
    "</pre>"
   ]
  },
  {
   "cell_type": "code",
   "execution_count": null,
   "metadata": {},
   "outputs": [],
   "source": []
  },
  {
   "cell_type": "code",
   "execution_count": null,
   "metadata": {},
   "outputs": [],
   "source": []
  }
 ],
 "metadata": {
  "kernelspec": {
   "display_name": "Python 3",
   "language": "python",
   "name": "python3"
  },
  "language_info": {
   "codemirror_mode": {
    "name": "ipython",
    "version": 3
   },
   "file_extension": ".py",
   "mimetype": "text/x-python",
   "name": "python",
   "nbconvert_exporter": "python",
   "pygments_lexer": "ipython3",
   "version": "3.7.4"
  }
 },
 "nbformat": 4,
 "nbformat_minor": 2
}
